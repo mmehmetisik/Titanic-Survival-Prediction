{
 "cells": [
  {
   "cell_type": "markdown",
   "id": "1560d70e",
   "metadata": {
    "papermill": {
     "duration": 0.043368,
     "end_time": "2023-07-31T20:33:34.232918",
     "exception": false,
     "start_time": "2023-07-31T20:33:34.189550",
     "status": "completed"
    },
    "tags": []
   },
   "source": [
    "![](https://hindi.cdn.zeenews.com/hindi/sites/default/files/2022/07/31/1246237-titanic01.jpg?im=FitAndFill=(1200,900))"
   ]
  },
  {
   "cell_type": "markdown",
   "id": "8a21ea83",
   "metadata": {
    "papermill": {
     "duration": 0.039962,
     "end_time": "2023-07-31T20:33:34.312624",
     "exception": false,
     "start_time": "2023-07-31T20:33:34.272662",
     "status": "completed"
    },
    "tags": []
   },
   "source": [
    "# Business Problem\n",
    "\n",
    "- Predicting survival status in the Titanic ship disaster. This is a classification problem, as our target variable (whether they survived or not) belongs to one of two classes: survived or did not survive."
   ]
  },
  {
   "cell_type": "markdown",
   "id": "1c618e14",
   "metadata": {
    "papermill": {
     "duration": 0.038968,
     "end_time": "2023-07-31T20:33:34.390999",
     "exception": false,
     "start_time": "2023-07-31T20:33:34.352031",
     "status": "completed"
    },
    "tags": []
   },
   "source": [
    "# Data Set Story\n",
    "\n",
    "- The data set contains information about passengers on the Titanic ship disaster in 1912. This information includes features such as the passengers' gender, age, class (1st, 2nd, or 3rd class), ticket prices, and the ports they embarked from. Additionally, information is provided on whether each passenger survived the disaster or not. This data set is used to train and test machine learning models. The aim of the model is to predict whether a passenger will survive or not based on the given features.\n",
    "\n",
    "**Variables in the Data Set:**\n",
    "\n",
    "1. **PassengerId:** Unique identifier for each passenger.\n",
    "\n",
    "2. **Survived:** Survival status (0 = No; 1 = Yes).\n",
    "\n",
    "3. **Pclass:** Passenger class (1 = 1st; 2 = 2nd; 3 = 3rd).\n",
    "\n",
    "4. **Name:** Name of the passenger.\n",
    "\n",
    "5. **Sex:** Sex of the passenger (male or female).\n",
    "\n",
    "6. **Age:** Age of the passenger.\n",
    "\n",
    "7. **SibSp:** Number of siblings/spouses aboard.\n",
    "\n",
    "8. **Parch:** Number of parents/children aboard.\n",
    "\n",
    "9. **Ticket:** Ticket number.\n",
    "\n",
    "10. **Fare:** Passenger fare.\n",
    "\n",
    "11. **Cabin:** Cabin number.\n",
    "\n",
    "12. **Embarked:** Port of embarkation (C = Cherbourg; Q = Queenstown; S = Southampton)."
   ]
  },
  {
   "cell_type": "markdown",
   "id": "99270981",
   "metadata": {
    "papermill": {
     "duration": 0.038533,
     "end_time": "2023-07-31T20:33:34.469100",
     "exception": false,
     "start_time": "2023-07-31T20:33:34.430567",
     "status": "completed"
    },
    "tags": []
   },
   "source": [
    "# 1. Import Required Libraries"
   ]
  },
  {
   "cell_type": "code",
   "execution_count": 1,
   "id": "2e654579",
   "metadata": {
    "execution": {
     "iopub.execute_input": "2023-07-31T20:33:34.555817Z",
     "iopub.status.busy": "2023-07-31T20:33:34.555346Z",
     "iopub.status.idle": "2023-07-31T20:33:39.159148Z",
     "shell.execute_reply": "2023-07-31T20:33:39.157803Z"
    },
    "papermill": {
     "duration": 4.650759,
     "end_time": "2023-07-31T20:33:39.162521",
     "exception": false,
     "start_time": "2023-07-31T20:33:34.511762",
     "status": "completed"
    },
    "tags": []
   },
   "outputs": [
    {
     "name": "stderr",
     "output_type": "stream",
     "text": [
      "/opt/conda/lib/python3.10/site-packages/scipy/__init__.py:146: UserWarning: A NumPy version >=1.16.5 and <1.23.0 is required for this version of SciPy (detected version 1.23.5\n",
      "  warnings.warn(f\"A NumPy version >={np_minversion} and <{np_maxversion}\"\n"
     ]
    }
   ],
   "source": [
    "import numpy as np\n",
    "import pandas as pd\n",
    "import matplotlib.pyplot as plt\n",
    "import seaborn as sns\n",
    "import plotly.express as px\n",
    "import itertools\n",
    "import plotly.graph_objects as go\n",
    "\n",
    "from sklearn import metrics\n",
    "from sklearn.metrics import accuracy_score, precision_score, recall_score, f1_score, roc_auc_score\n",
    "from sklearn.model_selection import GridSearchCV, cross_validate\n",
    "from sklearn.model_selection import train_test_split\n",
    "from sklearn.preprocessing import LabelEncoder\n",
    "from sklearn.ensemble import RandomForestClassifier\n",
    "from catboost import CatBoostRegressor\n",
    "from sklearn.linear_model import LogisticRegression\n",
    "from sklearn.neighbors import KNeighborsClassifier\n",
    "from sklearn.svm import SVC\n",
    "from sklearn.tree import DecisionTreeClassifier\n",
    "from sklearn import tree\n",
    "from sklearn.ensemble import AdaBoostClassifier, GradientBoostingClassifier\n",
    "from sklearn.preprocessing import StandardScaler, RobustScaler\n",
    "from sklearn.impute import KNNImputer\n",
    "from xgboost import XGBClassifier\n",
    "from lightgbm import LGBMClassifier\n",
    "from sklearn.metrics import mean_squared_error, mean_absolute_error, r2_score\n",
    "from sklearn.preprocessing import StandardScaler\n",
    "\n",
    "import warnings\n",
    "warnings.simplefilter(action=\"ignore\")"
   ]
  },
  {
   "cell_type": "markdown",
   "id": "4d785d6d",
   "metadata": {
    "papermill": {
     "duration": 0.038414,
     "end_time": "2023-07-31T20:33:39.240849",
     "exception": false,
     "start_time": "2023-07-31T20:33:39.202435",
     "status": "completed"
    },
    "tags": []
   },
   "source": [
    "# 2. Adjusting Row Column Settings"
   ]
  },
  {
   "cell_type": "code",
   "execution_count": 2,
   "id": "10867dc6",
   "metadata": {
    "execution": {
     "iopub.execute_input": "2023-07-31T20:33:39.320437Z",
     "iopub.status.busy": "2023-07-31T20:33:39.319960Z",
     "iopub.status.idle": "2023-07-31T20:33:39.326518Z",
     "shell.execute_reply": "2023-07-31T20:33:39.324970Z"
    },
    "papermill": {
     "duration": 0.049445,
     "end_time": "2023-07-31T20:33:39.329087",
     "exception": false,
     "start_time": "2023-07-31T20:33:39.279642",
     "status": "completed"
    },
    "tags": []
   },
   "outputs": [],
   "source": [
    "pd.set_option('display.max_columns', None)\n",
    "#pd.set_option('display.max_rows', None)\n",
    "pd.set_option('display.width', None)\n",
    "pd.set_option('display.float_format', lambda x: '%.3f' % x)"
   ]
  },
  {
   "cell_type": "markdown",
   "id": "fa868e5a",
   "metadata": {
    "papermill": {
     "duration": 0.038848,
     "end_time": "2023-07-31T20:33:39.406639",
     "exception": false,
     "start_time": "2023-07-31T20:33:39.367791",
     "status": "completed"
    },
    "tags": []
   },
   "source": [
    "# 3. Loading the data Set"
   ]
  },
  {
   "cell_type": "code",
   "execution_count": 3,
   "id": "dfbdf873",
   "metadata": {
    "execution": {
     "iopub.execute_input": "2023-07-31T20:33:39.486765Z",
     "iopub.status.busy": "2023-07-31T20:33:39.485891Z",
     "iopub.status.idle": "2023-07-31T20:33:39.510686Z",
     "shell.execute_reply": "2023-07-31T20:33:39.509634Z"
    },
    "papermill": {
     "duration": 0.068432,
     "end_time": "2023-07-31T20:33:39.513407",
     "exception": false,
     "start_time": "2023-07-31T20:33:39.444975",
     "status": "completed"
    },
    "tags": []
   },
   "outputs": [],
   "source": [
    "test_data = pd.read_csv('/kaggle/input/titanic/test.csv')"
   ]
  },
  {
   "cell_type": "code",
   "execution_count": 4,
   "id": "ac4e7b9b",
   "metadata": {
    "execution": {
     "iopub.execute_input": "2023-07-31T20:33:39.595867Z",
     "iopub.status.busy": "2023-07-31T20:33:39.595032Z",
     "iopub.status.idle": "2023-07-31T20:33:39.622701Z",
     "shell.execute_reply": "2023-07-31T20:33:39.621300Z"
    },
    "papermill": {
     "duration": 0.071358,
     "end_time": "2023-07-31T20:33:39.625087",
     "exception": false,
     "start_time": "2023-07-31T20:33:39.553729",
     "status": "completed"
    },
    "tags": []
   },
   "outputs": [
    {
     "data": {
      "text/html": [
       "<div>\n",
       "<style scoped>\n",
       "    .dataframe tbody tr th:only-of-type {\n",
       "        vertical-align: middle;\n",
       "    }\n",
       "\n",
       "    .dataframe tbody tr th {\n",
       "        vertical-align: top;\n",
       "    }\n",
       "\n",
       "    .dataframe thead th {\n",
       "        text-align: right;\n",
       "    }\n",
       "</style>\n",
       "<table border=\"1\" class=\"dataframe\">\n",
       "  <thead>\n",
       "    <tr style=\"text-align: right;\">\n",
       "      <th></th>\n",
       "      <th>PassengerId</th>\n",
       "      <th>Pclass</th>\n",
       "      <th>Name</th>\n",
       "      <th>Sex</th>\n",
       "      <th>Age</th>\n",
       "      <th>SibSp</th>\n",
       "      <th>Parch</th>\n",
       "      <th>Ticket</th>\n",
       "      <th>Fare</th>\n",
       "      <th>Cabin</th>\n",
       "      <th>Embarked</th>\n",
       "    </tr>\n",
       "  </thead>\n",
       "  <tbody>\n",
       "    <tr>\n",
       "      <th>0</th>\n",
       "      <td>892</td>\n",
       "      <td>3</td>\n",
       "      <td>Kelly, Mr. James</td>\n",
       "      <td>male</td>\n",
       "      <td>34.500</td>\n",
       "      <td>0</td>\n",
       "      <td>0</td>\n",
       "      <td>330911</td>\n",
       "      <td>7.829</td>\n",
       "      <td>NaN</td>\n",
       "      <td>Q</td>\n",
       "    </tr>\n",
       "    <tr>\n",
       "      <th>1</th>\n",
       "      <td>893</td>\n",
       "      <td>3</td>\n",
       "      <td>Wilkes, Mrs. James (Ellen Needs)</td>\n",
       "      <td>female</td>\n",
       "      <td>47.000</td>\n",
       "      <td>1</td>\n",
       "      <td>0</td>\n",
       "      <td>363272</td>\n",
       "      <td>7.000</td>\n",
       "      <td>NaN</td>\n",
       "      <td>S</td>\n",
       "    </tr>\n",
       "    <tr>\n",
       "      <th>2</th>\n",
       "      <td>894</td>\n",
       "      <td>2</td>\n",
       "      <td>Myles, Mr. Thomas Francis</td>\n",
       "      <td>male</td>\n",
       "      <td>62.000</td>\n",
       "      <td>0</td>\n",
       "      <td>0</td>\n",
       "      <td>240276</td>\n",
       "      <td>9.688</td>\n",
       "      <td>NaN</td>\n",
       "      <td>Q</td>\n",
       "    </tr>\n",
       "    <tr>\n",
       "      <th>3</th>\n",
       "      <td>895</td>\n",
       "      <td>3</td>\n",
       "      <td>Wirz, Mr. Albert</td>\n",
       "      <td>male</td>\n",
       "      <td>27.000</td>\n",
       "      <td>0</td>\n",
       "      <td>0</td>\n",
       "      <td>315154</td>\n",
       "      <td>8.662</td>\n",
       "      <td>NaN</td>\n",
       "      <td>S</td>\n",
       "    </tr>\n",
       "    <tr>\n",
       "      <th>4</th>\n",
       "      <td>896</td>\n",
       "      <td>3</td>\n",
       "      <td>Hirvonen, Mrs. Alexander (Helga E Lindqvist)</td>\n",
       "      <td>female</td>\n",
       "      <td>22.000</td>\n",
       "      <td>1</td>\n",
       "      <td>1</td>\n",
       "      <td>3101298</td>\n",
       "      <td>12.287</td>\n",
       "      <td>NaN</td>\n",
       "      <td>S</td>\n",
       "    </tr>\n",
       "  </tbody>\n",
       "</table>\n",
       "</div>"
      ],
      "text/plain": [
       "   PassengerId  Pclass                                          Name     Sex  \\\n",
       "0          892       3                              Kelly, Mr. James    male   \n",
       "1          893       3              Wilkes, Mrs. James (Ellen Needs)  female   \n",
       "2          894       2                     Myles, Mr. Thomas Francis    male   \n",
       "3          895       3                              Wirz, Mr. Albert    male   \n",
       "4          896       3  Hirvonen, Mrs. Alexander (Helga E Lindqvist)  female   \n",
       "\n",
       "     Age  SibSp  Parch   Ticket   Fare Cabin Embarked  \n",
       "0 34.500      0      0   330911  7.829   NaN        Q  \n",
       "1 47.000      1      0   363272  7.000   NaN        S  \n",
       "2 62.000      0      0   240276  9.688   NaN        Q  \n",
       "3 27.000      0      0   315154  8.662   NaN        S  \n",
       "4 22.000      1      1  3101298 12.287   NaN        S  "
      ]
     },
     "execution_count": 4,
     "metadata": {},
     "output_type": "execute_result"
    }
   ],
   "source": [
    "test_data.head()"
   ]
  },
  {
   "cell_type": "code",
   "execution_count": 5,
   "id": "d052d27e",
   "metadata": {
    "execution": {
     "iopub.execute_input": "2023-07-31T20:33:39.705175Z",
     "iopub.status.busy": "2023-07-31T20:33:39.703847Z",
     "iopub.status.idle": "2023-07-31T20:33:39.711397Z",
     "shell.execute_reply": "2023-07-31T20:33:39.710509Z"
    },
    "papermill": {
     "duration": 0.050012,
     "end_time": "2023-07-31T20:33:39.713560",
     "exception": false,
     "start_time": "2023-07-31T20:33:39.663548",
     "status": "completed"
    },
    "tags": []
   },
   "outputs": [
    {
     "data": {
      "text/plain": [
       "(418, 11)"
      ]
     },
     "execution_count": 5,
     "metadata": {},
     "output_type": "execute_result"
    }
   ],
   "source": [
    "test_data.shape"
   ]
  },
  {
   "cell_type": "code",
   "execution_count": 6,
   "id": "3f94e1b7",
   "metadata": {
    "execution": {
     "iopub.execute_input": "2023-07-31T20:33:39.795598Z",
     "iopub.status.busy": "2023-07-31T20:33:39.795100Z",
     "iopub.status.idle": "2023-07-31T20:33:39.814001Z",
     "shell.execute_reply": "2023-07-31T20:33:39.812820Z"
    },
    "papermill": {
     "duration": 0.063377,
     "end_time": "2023-07-31T20:33:39.816543",
     "exception": false,
     "start_time": "2023-07-31T20:33:39.753166",
     "status": "completed"
    },
    "tags": []
   },
   "outputs": [],
   "source": [
    "train_data = pd.read_csv('/kaggle/input/titanic/train.csv')"
   ]
  },
  {
   "cell_type": "code",
   "execution_count": 7,
   "id": "8a1ed049",
   "metadata": {
    "execution": {
     "iopub.execute_input": "2023-07-31T20:33:39.899201Z",
     "iopub.status.busy": "2023-07-31T20:33:39.898795Z",
     "iopub.status.idle": "2023-07-31T20:33:39.914908Z",
     "shell.execute_reply": "2023-07-31T20:33:39.913799Z"
    },
    "papermill": {
     "duration": 0.060623,
     "end_time": "2023-07-31T20:33:39.917279",
     "exception": false,
     "start_time": "2023-07-31T20:33:39.856656",
     "status": "completed"
    },
    "tags": []
   },
   "outputs": [
    {
     "data": {
      "text/html": [
       "<div>\n",
       "<style scoped>\n",
       "    .dataframe tbody tr th:only-of-type {\n",
       "        vertical-align: middle;\n",
       "    }\n",
       "\n",
       "    .dataframe tbody tr th {\n",
       "        vertical-align: top;\n",
       "    }\n",
       "\n",
       "    .dataframe thead th {\n",
       "        text-align: right;\n",
       "    }\n",
       "</style>\n",
       "<table border=\"1\" class=\"dataframe\">\n",
       "  <thead>\n",
       "    <tr style=\"text-align: right;\">\n",
       "      <th></th>\n",
       "      <th>PassengerId</th>\n",
       "      <th>Survived</th>\n",
       "      <th>Pclass</th>\n",
       "      <th>Name</th>\n",
       "      <th>Sex</th>\n",
       "      <th>Age</th>\n",
       "      <th>SibSp</th>\n",
       "      <th>Parch</th>\n",
       "      <th>Ticket</th>\n",
       "      <th>Fare</th>\n",
       "      <th>Cabin</th>\n",
       "      <th>Embarked</th>\n",
       "    </tr>\n",
       "  </thead>\n",
       "  <tbody>\n",
       "    <tr>\n",
       "      <th>0</th>\n",
       "      <td>1</td>\n",
       "      <td>0</td>\n",
       "      <td>3</td>\n",
       "      <td>Braund, Mr. Owen Harris</td>\n",
       "      <td>male</td>\n",
       "      <td>22.000</td>\n",
       "      <td>1</td>\n",
       "      <td>0</td>\n",
       "      <td>A/5 21171</td>\n",
       "      <td>7.250</td>\n",
       "      <td>NaN</td>\n",
       "      <td>S</td>\n",
       "    </tr>\n",
       "    <tr>\n",
       "      <th>1</th>\n",
       "      <td>2</td>\n",
       "      <td>1</td>\n",
       "      <td>1</td>\n",
       "      <td>Cumings, Mrs. John Bradley (Florence Briggs Th...</td>\n",
       "      <td>female</td>\n",
       "      <td>38.000</td>\n",
       "      <td>1</td>\n",
       "      <td>0</td>\n",
       "      <td>PC 17599</td>\n",
       "      <td>71.283</td>\n",
       "      <td>C85</td>\n",
       "      <td>C</td>\n",
       "    </tr>\n",
       "    <tr>\n",
       "      <th>2</th>\n",
       "      <td>3</td>\n",
       "      <td>1</td>\n",
       "      <td>3</td>\n",
       "      <td>Heikkinen, Miss. Laina</td>\n",
       "      <td>female</td>\n",
       "      <td>26.000</td>\n",
       "      <td>0</td>\n",
       "      <td>0</td>\n",
       "      <td>STON/O2. 3101282</td>\n",
       "      <td>7.925</td>\n",
       "      <td>NaN</td>\n",
       "      <td>S</td>\n",
       "    </tr>\n",
       "    <tr>\n",
       "      <th>3</th>\n",
       "      <td>4</td>\n",
       "      <td>1</td>\n",
       "      <td>1</td>\n",
       "      <td>Futrelle, Mrs. Jacques Heath (Lily May Peel)</td>\n",
       "      <td>female</td>\n",
       "      <td>35.000</td>\n",
       "      <td>1</td>\n",
       "      <td>0</td>\n",
       "      <td>113803</td>\n",
       "      <td>53.100</td>\n",
       "      <td>C123</td>\n",
       "      <td>S</td>\n",
       "    </tr>\n",
       "    <tr>\n",
       "      <th>4</th>\n",
       "      <td>5</td>\n",
       "      <td>0</td>\n",
       "      <td>3</td>\n",
       "      <td>Allen, Mr. William Henry</td>\n",
       "      <td>male</td>\n",
       "      <td>35.000</td>\n",
       "      <td>0</td>\n",
       "      <td>0</td>\n",
       "      <td>373450</td>\n",
       "      <td>8.050</td>\n",
       "      <td>NaN</td>\n",
       "      <td>S</td>\n",
       "    </tr>\n",
       "  </tbody>\n",
       "</table>\n",
       "</div>"
      ],
      "text/plain": [
       "   PassengerId  Survived  Pclass  \\\n",
       "0            1         0       3   \n",
       "1            2         1       1   \n",
       "2            3         1       3   \n",
       "3            4         1       1   \n",
       "4            5         0       3   \n",
       "\n",
       "                                                Name     Sex    Age  SibSp  \\\n",
       "0                            Braund, Mr. Owen Harris    male 22.000      1   \n",
       "1  Cumings, Mrs. John Bradley (Florence Briggs Th...  female 38.000      1   \n",
       "2                             Heikkinen, Miss. Laina  female 26.000      0   \n",
       "3       Futrelle, Mrs. Jacques Heath (Lily May Peel)  female 35.000      1   \n",
       "4                           Allen, Mr. William Henry    male 35.000      0   \n",
       "\n",
       "   Parch            Ticket   Fare Cabin Embarked  \n",
       "0      0         A/5 21171  7.250   NaN        S  \n",
       "1      0          PC 17599 71.283   C85        C  \n",
       "2      0  STON/O2. 3101282  7.925   NaN        S  \n",
       "3      0            113803 53.100  C123        S  \n",
       "4      0            373450  8.050   NaN        S  "
      ]
     },
     "execution_count": 7,
     "metadata": {},
     "output_type": "execute_result"
    }
   ],
   "source": [
    "train_data.head()"
   ]
  },
  {
   "cell_type": "code",
   "execution_count": 8,
   "id": "375bb955",
   "metadata": {
    "execution": {
     "iopub.execute_input": "2023-07-31T20:33:39.999845Z",
     "iopub.status.busy": "2023-07-31T20:33:39.999370Z",
     "iopub.status.idle": "2023-07-31T20:33:40.007229Z",
     "shell.execute_reply": "2023-07-31T20:33:40.005738Z"
    },
    "papermill": {
     "duration": 0.052401,
     "end_time": "2023-07-31T20:33:40.009853",
     "exception": false,
     "start_time": "2023-07-31T20:33:39.957452",
     "status": "completed"
    },
    "tags": []
   },
   "outputs": [
    {
     "data": {
      "text/plain": [
       "(891, 12)"
      ]
     },
     "execution_count": 8,
     "metadata": {},
     "output_type": "execute_result"
    }
   ],
   "source": [
    "train_data.shape"
   ]
  },
  {
   "cell_type": "code",
   "execution_count": 9,
   "id": "6f0abda6",
   "metadata": {
    "execution": {
     "iopub.execute_input": "2023-07-31T20:33:40.091314Z",
     "iopub.status.busy": "2023-07-31T20:33:40.090854Z",
     "iopub.status.idle": "2023-07-31T20:33:40.105252Z",
     "shell.execute_reply": "2023-07-31T20:33:40.104123Z"
    },
    "papermill": {
     "duration": 0.058025,
     "end_time": "2023-07-31T20:33:40.107883",
     "exception": false,
     "start_time": "2023-07-31T20:33:40.049858",
     "status": "completed"
    },
    "tags": []
   },
   "outputs": [],
   "source": [
    "gen_sub = pd.read_csv(\"/kaggle/input/titanic/gender_submission.csv\")"
   ]
  },
  {
   "cell_type": "code",
   "execution_count": 10,
   "id": "55be50a5",
   "metadata": {
    "execution": {
     "iopub.execute_input": "2023-07-31T20:33:40.187986Z",
     "iopub.status.busy": "2023-07-31T20:33:40.187487Z",
     "iopub.status.idle": "2023-07-31T20:33:40.200823Z",
     "shell.execute_reply": "2023-07-31T20:33:40.199646Z"
    },
    "papermill": {
     "duration": 0.056241,
     "end_time": "2023-07-31T20:33:40.203280",
     "exception": false,
     "start_time": "2023-07-31T20:33:40.147039",
     "status": "completed"
    },
    "tags": []
   },
   "outputs": [
    {
     "data": {
      "text/html": [
       "<div>\n",
       "<style scoped>\n",
       "    .dataframe tbody tr th:only-of-type {\n",
       "        vertical-align: middle;\n",
       "    }\n",
       "\n",
       "    .dataframe tbody tr th {\n",
       "        vertical-align: top;\n",
       "    }\n",
       "\n",
       "    .dataframe thead th {\n",
       "        text-align: right;\n",
       "    }\n",
       "</style>\n",
       "<table border=\"1\" class=\"dataframe\">\n",
       "  <thead>\n",
       "    <tr style=\"text-align: right;\">\n",
       "      <th></th>\n",
       "      <th>PassengerId</th>\n",
       "      <th>Survived</th>\n",
       "    </tr>\n",
       "  </thead>\n",
       "  <tbody>\n",
       "    <tr>\n",
       "      <th>0</th>\n",
       "      <td>892</td>\n",
       "      <td>0</td>\n",
       "    </tr>\n",
       "    <tr>\n",
       "      <th>1</th>\n",
       "      <td>893</td>\n",
       "      <td>1</td>\n",
       "    </tr>\n",
       "    <tr>\n",
       "      <th>2</th>\n",
       "      <td>894</td>\n",
       "      <td>0</td>\n",
       "    </tr>\n",
       "    <tr>\n",
       "      <th>3</th>\n",
       "      <td>895</td>\n",
       "      <td>0</td>\n",
       "    </tr>\n",
       "    <tr>\n",
       "      <th>4</th>\n",
       "      <td>896</td>\n",
       "      <td>1</td>\n",
       "    </tr>\n",
       "    <tr>\n",
       "      <th>...</th>\n",
       "      <td>...</td>\n",
       "      <td>...</td>\n",
       "    </tr>\n",
       "    <tr>\n",
       "      <th>413</th>\n",
       "      <td>1305</td>\n",
       "      <td>0</td>\n",
       "    </tr>\n",
       "    <tr>\n",
       "      <th>414</th>\n",
       "      <td>1306</td>\n",
       "      <td>1</td>\n",
       "    </tr>\n",
       "    <tr>\n",
       "      <th>415</th>\n",
       "      <td>1307</td>\n",
       "      <td>0</td>\n",
       "    </tr>\n",
       "    <tr>\n",
       "      <th>416</th>\n",
       "      <td>1308</td>\n",
       "      <td>0</td>\n",
       "    </tr>\n",
       "    <tr>\n",
       "      <th>417</th>\n",
       "      <td>1309</td>\n",
       "      <td>0</td>\n",
       "    </tr>\n",
       "  </tbody>\n",
       "</table>\n",
       "<p>418 rows × 2 columns</p>\n",
       "</div>"
      ],
      "text/plain": [
       "     PassengerId  Survived\n",
       "0            892         0\n",
       "1            893         1\n",
       "2            894         0\n",
       "3            895         0\n",
       "4            896         1\n",
       "..           ...       ...\n",
       "413         1305         0\n",
       "414         1306         1\n",
       "415         1307         0\n",
       "416         1308         0\n",
       "417         1309         0\n",
       "\n",
       "[418 rows x 2 columns]"
      ]
     },
     "execution_count": 10,
     "metadata": {},
     "output_type": "execute_result"
    }
   ],
   "source": [
    "gen_sub"
   ]
  },
  {
   "cell_type": "code",
   "execution_count": 11,
   "id": "43f28ab6",
   "metadata": {
    "execution": {
     "iopub.execute_input": "2023-07-31T20:33:40.287725Z",
     "iopub.status.busy": "2023-07-31T20:33:40.287304Z",
     "iopub.status.idle": "2023-07-31T20:33:40.293126Z",
     "shell.execute_reply": "2023-07-31T20:33:40.291691Z"
    },
    "papermill": {
     "duration": 0.050638,
     "end_time": "2023-07-31T20:33:40.295585",
     "exception": false,
     "start_time": "2023-07-31T20:33:40.244947",
     "status": "completed"
    },
    "tags": []
   },
   "outputs": [],
   "source": [
    "sub_id=test_data[\"PassengerId\"]"
   ]
  },
  {
   "cell_type": "code",
   "execution_count": 12,
   "id": "2b45b914",
   "metadata": {
    "execution": {
     "iopub.execute_input": "2023-07-31T20:33:40.379631Z",
     "iopub.status.busy": "2023-07-31T20:33:40.379178Z",
     "iopub.status.idle": "2023-07-31T20:33:40.389063Z",
     "shell.execute_reply": "2023-07-31T20:33:40.388067Z"
    },
    "papermill": {
     "duration": 0.054628,
     "end_time": "2023-07-31T20:33:40.391416",
     "exception": false,
     "start_time": "2023-07-31T20:33:40.336788",
     "status": "completed"
    },
    "tags": []
   },
   "outputs": [
    {
     "data": {
      "text/plain": [
       "0       892\n",
       "1       893\n",
       "2       894\n",
       "3       895\n",
       "4       896\n",
       "       ... \n",
       "413    1305\n",
       "414    1306\n",
       "415    1307\n",
       "416    1308\n",
       "417    1309\n",
       "Name: PassengerId, Length: 418, dtype: int64"
      ]
     },
     "execution_count": 12,
     "metadata": {},
     "output_type": "execute_result"
    }
   ],
   "source": [
    "sub_id"
   ]
  },
  {
   "cell_type": "code",
   "execution_count": 13,
   "id": "bc7e0f6d",
   "metadata": {
    "execution": {
     "iopub.execute_input": "2023-07-31T20:33:40.475501Z",
     "iopub.status.busy": "2023-07-31T20:33:40.474356Z",
     "iopub.status.idle": "2023-07-31T20:33:40.478868Z",
     "shell.execute_reply": "2023-07-31T20:33:40.478075Z"
    },
    "papermill": {
     "duration": 0.048831,
     "end_time": "2023-07-31T20:33:40.481064",
     "exception": false,
     "start_time": "2023-07-31T20:33:40.432233",
     "status": "completed"
    },
    "tags": []
   },
   "outputs": [],
   "source": [
    "first_train = train_data.shape[0]"
   ]
  },
  {
   "cell_type": "code",
   "execution_count": 14,
   "id": "357091a7",
   "metadata": {
    "execution": {
     "iopub.execute_input": "2023-07-31T20:33:40.568536Z",
     "iopub.status.busy": "2023-07-31T20:33:40.567657Z",
     "iopub.status.idle": "2023-07-31T20:33:40.573981Z",
     "shell.execute_reply": "2023-07-31T20:33:40.572907Z"
    },
    "papermill": {
     "duration": 0.053823,
     "end_time": "2023-07-31T20:33:40.576286",
     "exception": false,
     "start_time": "2023-07-31T20:33:40.522463",
     "status": "completed"
    },
    "tags": []
   },
   "outputs": [
    {
     "data": {
      "text/plain": [
       "891"
      ]
     },
     "execution_count": 14,
     "metadata": {},
     "output_type": "execute_result"
    }
   ],
   "source": [
    "first_train"
   ]
  },
  {
   "cell_type": "code",
   "execution_count": 15,
   "id": "c8d3203a",
   "metadata": {
    "execution": {
     "iopub.execute_input": "2023-07-31T20:33:40.663661Z",
     "iopub.status.busy": "2023-07-31T20:33:40.662981Z",
     "iopub.status.idle": "2023-07-31T20:33:40.677299Z",
     "shell.execute_reply": "2023-07-31T20:33:40.676228Z"
    },
    "papermill": {
     "duration": 0.060283,
     "end_time": "2023-07-31T20:33:40.680125",
     "exception": false,
     "start_time": "2023-07-31T20:33:40.619842",
     "status": "completed"
    },
    "tags": []
   },
   "outputs": [],
   "source": [
    "df = pd.concat([train_data, test_data]).reset_index()"
   ]
  },
  {
   "cell_type": "code",
   "execution_count": 16,
   "id": "22fdff46",
   "metadata": {
    "execution": {
     "iopub.execute_input": "2023-07-31T20:33:40.765074Z",
     "iopub.status.busy": "2023-07-31T20:33:40.764636Z",
     "iopub.status.idle": "2023-07-31T20:33:40.782391Z",
     "shell.execute_reply": "2023-07-31T20:33:40.781179Z"
    },
    "papermill": {
     "duration": 0.063466,
     "end_time": "2023-07-31T20:33:40.784706",
     "exception": false,
     "start_time": "2023-07-31T20:33:40.721240",
     "status": "completed"
    },
    "tags": []
   },
   "outputs": [
    {
     "data": {
      "text/html": [
       "<div>\n",
       "<style scoped>\n",
       "    .dataframe tbody tr th:only-of-type {\n",
       "        vertical-align: middle;\n",
       "    }\n",
       "\n",
       "    .dataframe tbody tr th {\n",
       "        vertical-align: top;\n",
       "    }\n",
       "\n",
       "    .dataframe thead th {\n",
       "        text-align: right;\n",
       "    }\n",
       "</style>\n",
       "<table border=\"1\" class=\"dataframe\">\n",
       "  <thead>\n",
       "    <tr style=\"text-align: right;\">\n",
       "      <th></th>\n",
       "      <th>index</th>\n",
       "      <th>PassengerId</th>\n",
       "      <th>Survived</th>\n",
       "      <th>Pclass</th>\n",
       "      <th>Name</th>\n",
       "      <th>Sex</th>\n",
       "      <th>Age</th>\n",
       "      <th>SibSp</th>\n",
       "      <th>Parch</th>\n",
       "      <th>Ticket</th>\n",
       "      <th>Fare</th>\n",
       "      <th>Cabin</th>\n",
       "      <th>Embarked</th>\n",
       "    </tr>\n",
       "  </thead>\n",
       "  <tbody>\n",
       "    <tr>\n",
       "      <th>0</th>\n",
       "      <td>0</td>\n",
       "      <td>1</td>\n",
       "      <td>0.000</td>\n",
       "      <td>3</td>\n",
       "      <td>Braund, Mr. Owen Harris</td>\n",
       "      <td>male</td>\n",
       "      <td>22.000</td>\n",
       "      <td>1</td>\n",
       "      <td>0</td>\n",
       "      <td>A/5 21171</td>\n",
       "      <td>7.250</td>\n",
       "      <td>NaN</td>\n",
       "      <td>S</td>\n",
       "    </tr>\n",
       "    <tr>\n",
       "      <th>1</th>\n",
       "      <td>1</td>\n",
       "      <td>2</td>\n",
       "      <td>1.000</td>\n",
       "      <td>1</td>\n",
       "      <td>Cumings, Mrs. John Bradley (Florence Briggs Th...</td>\n",
       "      <td>female</td>\n",
       "      <td>38.000</td>\n",
       "      <td>1</td>\n",
       "      <td>0</td>\n",
       "      <td>PC 17599</td>\n",
       "      <td>71.283</td>\n",
       "      <td>C85</td>\n",
       "      <td>C</td>\n",
       "    </tr>\n",
       "    <tr>\n",
       "      <th>2</th>\n",
       "      <td>2</td>\n",
       "      <td>3</td>\n",
       "      <td>1.000</td>\n",
       "      <td>3</td>\n",
       "      <td>Heikkinen, Miss. Laina</td>\n",
       "      <td>female</td>\n",
       "      <td>26.000</td>\n",
       "      <td>0</td>\n",
       "      <td>0</td>\n",
       "      <td>STON/O2. 3101282</td>\n",
       "      <td>7.925</td>\n",
       "      <td>NaN</td>\n",
       "      <td>S</td>\n",
       "    </tr>\n",
       "    <tr>\n",
       "      <th>3</th>\n",
       "      <td>3</td>\n",
       "      <td>4</td>\n",
       "      <td>1.000</td>\n",
       "      <td>1</td>\n",
       "      <td>Futrelle, Mrs. Jacques Heath (Lily May Peel)</td>\n",
       "      <td>female</td>\n",
       "      <td>35.000</td>\n",
       "      <td>1</td>\n",
       "      <td>0</td>\n",
       "      <td>113803</td>\n",
       "      <td>53.100</td>\n",
       "      <td>C123</td>\n",
       "      <td>S</td>\n",
       "    </tr>\n",
       "    <tr>\n",
       "      <th>4</th>\n",
       "      <td>4</td>\n",
       "      <td>5</td>\n",
       "      <td>0.000</td>\n",
       "      <td>3</td>\n",
       "      <td>Allen, Mr. William Henry</td>\n",
       "      <td>male</td>\n",
       "      <td>35.000</td>\n",
       "      <td>0</td>\n",
       "      <td>0</td>\n",
       "      <td>373450</td>\n",
       "      <td>8.050</td>\n",
       "      <td>NaN</td>\n",
       "      <td>S</td>\n",
       "    </tr>\n",
       "  </tbody>\n",
       "</table>\n",
       "</div>"
      ],
      "text/plain": [
       "   index  PassengerId  Survived  Pclass  \\\n",
       "0      0            1     0.000       3   \n",
       "1      1            2     1.000       1   \n",
       "2      2            3     1.000       3   \n",
       "3      3            4     1.000       1   \n",
       "4      4            5     0.000       3   \n",
       "\n",
       "                                                Name     Sex    Age  SibSp  \\\n",
       "0                            Braund, Mr. Owen Harris    male 22.000      1   \n",
       "1  Cumings, Mrs. John Bradley (Florence Briggs Th...  female 38.000      1   \n",
       "2                             Heikkinen, Miss. Laina  female 26.000      0   \n",
       "3       Futrelle, Mrs. Jacques Heath (Lily May Peel)  female 35.000      1   \n",
       "4                           Allen, Mr. William Henry    male 35.000      0   \n",
       "\n",
       "   Parch            Ticket   Fare Cabin Embarked  \n",
       "0      0         A/5 21171  7.250   NaN        S  \n",
       "1      0          PC 17599 71.283   C85        C  \n",
       "2      0  STON/O2. 3101282  7.925   NaN        S  \n",
       "3      0            113803 53.100  C123        S  \n",
       "4      0            373450  8.050   NaN        S  "
      ]
     },
     "execution_count": 16,
     "metadata": {},
     "output_type": "execute_result"
    }
   ],
   "source": [
    "df.head()"
   ]
  },
  {
   "cell_type": "markdown",
   "id": "837616fb",
   "metadata": {
    "papermill": {
     "duration": 0.040616,
     "end_time": "2023-07-31T20:33:40.866267",
     "exception": false,
     "start_time": "2023-07-31T20:33:40.825651",
     "status": "completed"
    },
    "tags": []
   },
   "source": [
    "# 4. Exploratory Data Analysis"
   ]
  },
  {
   "cell_type": "code",
   "execution_count": 17,
   "id": "1c6be706",
   "metadata": {
    "execution": {
     "iopub.execute_input": "2023-07-31T20:33:40.949897Z",
     "iopub.status.busy": "2023-07-31T20:33:40.948544Z",
     "iopub.status.idle": "2023-07-31T20:33:40.957256Z",
     "shell.execute_reply": "2023-07-31T20:33:40.956186Z"
    },
    "papermill": {
     "duration": 0.05276,
     "end_time": "2023-07-31T20:33:40.959529",
     "exception": false,
     "start_time": "2023-07-31T20:33:40.906769",
     "status": "completed"
    },
    "tags": []
   },
   "outputs": [],
   "source": [
    "# Preliminary examination of the data set\n",
    "\n",
    "def check_df(dataframe, head=5):\n",
    "    print('##################### Shape #####################')\n",
    "    print(dataframe.shape)\n",
    "    print('##################### Types #####################')\n",
    "    print(dataframe.dtypes)\n",
    "    print('##################### Head #####################')\n",
    "    print(dataframe.head(head))\n",
    "    print('##################### Tail #####################')\n",
    "    print(dataframe.tail(head))\n",
    "    print('##################### NA #####################')\n",
    "    print(dataframe.isnull().sum())\n",
    "    print('##################### Quantiles #####################')\n",
    "    print(dataframe.describe([0, 0.05, 0.50, 0.95, 0.99, 1]).T)"
   ]
  },
  {
   "cell_type": "code",
   "execution_count": 18,
   "id": "f56fa43f",
   "metadata": {
    "execution": {
     "iopub.execute_input": "2023-07-31T20:33:41.042915Z",
     "iopub.status.busy": "2023-07-31T20:33:41.042460Z",
     "iopub.status.idle": "2023-07-31T20:33:41.089787Z",
     "shell.execute_reply": "2023-07-31T20:33:41.088874Z"
    },
    "papermill": {
     "duration": 0.09341,
     "end_time": "2023-07-31T20:33:41.093404",
     "exception": false,
     "start_time": "2023-07-31T20:33:40.999994",
     "status": "completed"
    },
    "tags": []
   },
   "outputs": [
    {
     "name": "stdout",
     "output_type": "stream",
     "text": [
      "##################### Shape #####################\n",
      "(1309, 13)\n",
      "##################### Types #####################\n",
      "index            int64\n",
      "PassengerId      int64\n",
      "Survived       float64\n",
      "Pclass           int64\n",
      "Name            object\n",
      "Sex             object\n",
      "Age            float64\n",
      "SibSp            int64\n",
      "Parch            int64\n",
      "Ticket          object\n",
      "Fare           float64\n",
      "Cabin           object\n",
      "Embarked        object\n",
      "dtype: object\n",
      "##################### Head #####################\n",
      "   index  PassengerId  Survived  Pclass  \\\n",
      "0      0            1     0.000       3   \n",
      "1      1            2     1.000       1   \n",
      "2      2            3     1.000       3   \n",
      "3      3            4     1.000       1   \n",
      "4      4            5     0.000       3   \n",
      "\n",
      "                                                Name     Sex    Age  SibSp  \\\n",
      "0                            Braund, Mr. Owen Harris    male 22.000      1   \n",
      "1  Cumings, Mrs. John Bradley (Florence Briggs Th...  female 38.000      1   \n",
      "2                             Heikkinen, Miss. Laina  female 26.000      0   \n",
      "3       Futrelle, Mrs. Jacques Heath (Lily May Peel)  female 35.000      1   \n",
      "4                           Allen, Mr. William Henry    male 35.000      0   \n",
      "\n",
      "   Parch            Ticket   Fare Cabin Embarked  \n",
      "0      0         A/5 21171  7.250   NaN        S  \n",
      "1      0          PC 17599 71.283   C85        C  \n",
      "2      0  STON/O2. 3101282  7.925   NaN        S  \n",
      "3      0            113803 53.100  C123        S  \n",
      "4      0            373450  8.050   NaN        S  \n",
      "##################### Tail #####################\n",
      "      index  PassengerId  Survived  Pclass                          Name  \\\n",
      "1304    413         1305       NaN       3            Spector, Mr. Woolf   \n",
      "1305    414         1306       NaN       1  Oliva y Ocana, Dona. Fermina   \n",
      "1306    415         1307       NaN       3  Saether, Mr. Simon Sivertsen   \n",
      "1307    416         1308       NaN       3           Ware, Mr. Frederick   \n",
      "1308    417         1309       NaN       3      Peter, Master. Michael J   \n",
      "\n",
      "         Sex    Age  SibSp  Parch              Ticket    Fare Cabin Embarked  \n",
      "1304    male    NaN      0      0           A.5. 3236   8.050   NaN        S  \n",
      "1305  female 39.000      0      0            PC 17758 108.900  C105        C  \n",
      "1306    male 38.500      0      0  SOTON/O.Q. 3101262   7.250   NaN        S  \n",
      "1307    male    NaN      0      0              359309   8.050   NaN        S  \n",
      "1308    male    NaN      1      1                2668  22.358   NaN        C  \n",
      "##################### NA #####################\n",
      "index             0\n",
      "PassengerId       0\n",
      "Survived        418\n",
      "Pclass            0\n",
      "Name              0\n",
      "Sex               0\n",
      "Age             263\n",
      "SibSp             0\n",
      "Parch             0\n",
      "Ticket            0\n",
      "Fare              1\n",
      "Cabin          1014\n",
      "Embarked          2\n",
      "dtype: int64\n",
      "##################### Quantiles #####################\n",
      "               count    mean     std   min    0%     5%     50%      95%  \\\n",
      "index       1309.000 369.479 248.767 0.000 0.000 32.400 327.000  824.600   \n",
      "PassengerId 1309.000 655.000 378.020 1.000 1.000 66.400 655.000 1243.600   \n",
      "Survived     891.000   0.384   0.487 0.000 0.000  0.000   0.000    1.000   \n",
      "Pclass      1309.000   2.295   0.838 1.000 1.000  1.000   3.000    3.000   \n",
      "Age         1046.000  29.881  14.413 0.170 0.170  5.000  28.000   57.000   \n",
      "SibSp       1309.000   0.499   1.042 0.000 0.000  0.000   0.000    2.000   \n",
      "Parch       1309.000   0.385   0.866 0.000 0.000  0.000   0.000    2.000   \n",
      "Fare        1308.000  33.295  51.759 0.000 0.000  7.225  14.454  133.650   \n",
      "\n",
      "                 99%     100%      max  \n",
      "index        876.920  890.000  890.000  \n",
      "PassengerId 1295.920 1309.000 1309.000  \n",
      "Survived       1.000    1.000    1.000  \n",
      "Pclass         3.000    3.000    3.000  \n",
      "Age           65.000   80.000   80.000  \n",
      "SibSp          5.000    8.000    8.000  \n",
      "Parch          4.000    9.000    9.000  \n",
      "Fare         262.375  512.329  512.329  \n"
     ]
    }
   ],
   "source": [
    "check_df(df)"
   ]
  },
  {
   "cell_type": "code",
   "execution_count": 19,
   "id": "bade9724",
   "metadata": {
    "execution": {
     "iopub.execute_input": "2023-07-31T20:33:41.179482Z",
     "iopub.status.busy": "2023-07-31T20:33:41.179057Z",
     "iopub.status.idle": "2023-07-31T20:33:41.184281Z",
     "shell.execute_reply": "2023-07-31T20:33:41.182986Z"
    },
    "papermill": {
     "duration": 0.050825,
     "end_time": "2023-07-31T20:33:41.186451",
     "exception": false,
     "start_time": "2023-07-31T20:33:41.135626",
     "status": "completed"
    },
    "tags": []
   },
   "outputs": [],
   "source": [
    "#drop_list = [\"Name\",\"Ticket\",\"Cabin\", 'SibSp', 'Parch', 'PassengerId', 'index']"
   ]
  },
  {
   "cell_type": "code",
   "execution_count": 20,
   "id": "a0606a43",
   "metadata": {
    "execution": {
     "iopub.execute_input": "2023-07-31T20:33:41.270494Z",
     "iopub.status.busy": "2023-07-31T20:33:41.269563Z",
     "iopub.status.idle": "2023-07-31T20:33:41.275827Z",
     "shell.execute_reply": "2023-07-31T20:33:41.274447Z"
    },
    "papermill": {
     "duration": 0.05091,
     "end_time": "2023-07-31T20:33:41.278089",
     "exception": false,
     "start_time": "2023-07-31T20:33:41.227179",
     "status": "completed"
    },
    "tags": []
   },
   "outputs": [],
   "source": [
    "drop_list = [\"Name\",\"Ticket\",\"Cabin\", 'PassengerId', 'index']"
   ]
  },
  {
   "cell_type": "code",
   "execution_count": 21,
   "id": "3414808a",
   "metadata": {
    "execution": {
     "iopub.execute_input": "2023-07-31T20:33:41.361235Z",
     "iopub.status.busy": "2023-07-31T20:33:41.360685Z",
     "iopub.status.idle": "2023-07-31T20:33:41.367836Z",
     "shell.execute_reply": "2023-07-31T20:33:41.366537Z"
    },
    "papermill": {
     "duration": 0.051478,
     "end_time": "2023-07-31T20:33:41.370078",
     "exception": false,
     "start_time": "2023-07-31T20:33:41.318600",
     "status": "completed"
    },
    "tags": []
   },
   "outputs": [],
   "source": [
    "df.drop(drop_list, axis =1, inplace=True)"
   ]
  },
  {
   "cell_type": "code",
   "execution_count": 22,
   "id": "e6216171",
   "metadata": {
    "execution": {
     "iopub.execute_input": "2023-07-31T20:33:41.457135Z",
     "iopub.status.busy": "2023-07-31T20:33:41.455722Z",
     "iopub.status.idle": "2023-07-31T20:33:41.471464Z",
     "shell.execute_reply": "2023-07-31T20:33:41.470297Z"
    },
    "papermill": {
     "duration": 0.063705,
     "end_time": "2023-07-31T20:33:41.473928",
     "exception": false,
     "start_time": "2023-07-31T20:33:41.410223",
     "status": "completed"
    },
    "tags": []
   },
   "outputs": [
    {
     "data": {
      "text/html": [
       "<div>\n",
       "<style scoped>\n",
       "    .dataframe tbody tr th:only-of-type {\n",
       "        vertical-align: middle;\n",
       "    }\n",
       "\n",
       "    .dataframe tbody tr th {\n",
       "        vertical-align: top;\n",
       "    }\n",
       "\n",
       "    .dataframe thead th {\n",
       "        text-align: right;\n",
       "    }\n",
       "</style>\n",
       "<table border=\"1\" class=\"dataframe\">\n",
       "  <thead>\n",
       "    <tr style=\"text-align: right;\">\n",
       "      <th></th>\n",
       "      <th>Survived</th>\n",
       "      <th>Pclass</th>\n",
       "      <th>Sex</th>\n",
       "      <th>Age</th>\n",
       "      <th>SibSp</th>\n",
       "      <th>Parch</th>\n",
       "      <th>Fare</th>\n",
       "      <th>Embarked</th>\n",
       "    </tr>\n",
       "  </thead>\n",
       "  <tbody>\n",
       "    <tr>\n",
       "      <th>0</th>\n",
       "      <td>0.000</td>\n",
       "      <td>3</td>\n",
       "      <td>male</td>\n",
       "      <td>22.000</td>\n",
       "      <td>1</td>\n",
       "      <td>0</td>\n",
       "      <td>7.250</td>\n",
       "      <td>S</td>\n",
       "    </tr>\n",
       "    <tr>\n",
       "      <th>1</th>\n",
       "      <td>1.000</td>\n",
       "      <td>1</td>\n",
       "      <td>female</td>\n",
       "      <td>38.000</td>\n",
       "      <td>1</td>\n",
       "      <td>0</td>\n",
       "      <td>71.283</td>\n",
       "      <td>C</td>\n",
       "    </tr>\n",
       "    <tr>\n",
       "      <th>2</th>\n",
       "      <td>1.000</td>\n",
       "      <td>3</td>\n",
       "      <td>female</td>\n",
       "      <td>26.000</td>\n",
       "      <td>0</td>\n",
       "      <td>0</td>\n",
       "      <td>7.925</td>\n",
       "      <td>S</td>\n",
       "    </tr>\n",
       "    <tr>\n",
       "      <th>3</th>\n",
       "      <td>1.000</td>\n",
       "      <td>1</td>\n",
       "      <td>female</td>\n",
       "      <td>35.000</td>\n",
       "      <td>1</td>\n",
       "      <td>0</td>\n",
       "      <td>53.100</td>\n",
       "      <td>S</td>\n",
       "    </tr>\n",
       "    <tr>\n",
       "      <th>4</th>\n",
       "      <td>0.000</td>\n",
       "      <td>3</td>\n",
       "      <td>male</td>\n",
       "      <td>35.000</td>\n",
       "      <td>0</td>\n",
       "      <td>0</td>\n",
       "      <td>8.050</td>\n",
       "      <td>S</td>\n",
       "    </tr>\n",
       "  </tbody>\n",
       "</table>\n",
       "</div>"
      ],
      "text/plain": [
       "   Survived  Pclass     Sex    Age  SibSp  Parch   Fare Embarked\n",
       "0     0.000       3    male 22.000      1      0  7.250        S\n",
       "1     1.000       1  female 38.000      1      0 71.283        C\n",
       "2     1.000       3  female 26.000      0      0  7.925        S\n",
       "3     1.000       1  female 35.000      1      0 53.100        S\n",
       "4     0.000       3    male 35.000      0      0  8.050        S"
      ]
     },
     "execution_count": 22,
     "metadata": {},
     "output_type": "execute_result"
    }
   ],
   "source": [
    "df.head()"
   ]
  },
  {
   "cell_type": "markdown",
   "id": "1079c19f",
   "metadata": {
    "papermill": {
     "duration": 0.042644,
     "end_time": "2023-07-31T20:33:41.558223",
     "exception": false,
     "start_time": "2023-07-31T20:33:41.515579",
     "status": "completed"
    },
    "tags": []
   },
   "source": [
    "# 5. Capturing / Detecting Numeric and Categorical Variables"
   ]
  },
  {
   "cell_type": "code",
   "execution_count": 23,
   "id": "5eb17135",
   "metadata": {
    "execution": {
     "iopub.execute_input": "2023-07-31T20:33:41.649894Z",
     "iopub.status.busy": "2023-07-31T20:33:41.649403Z",
     "iopub.status.idle": "2023-07-31T20:33:41.662214Z",
     "shell.execute_reply": "2023-07-31T20:33:41.661040Z"
    },
    "papermill": {
     "duration": 0.066061,
     "end_time": "2023-07-31T20:33:41.665324",
     "exception": false,
     "start_time": "2023-07-31T20:33:41.599263",
     "status": "completed"
    },
    "tags": []
   },
   "outputs": [],
   "source": [
    "def grab_col_names(dataframe, cat_th=10, car_th=20):\n",
    "    \"\"\"\n",
    "\n",
    "    Returns the names of categorical, numeric and categorical but cardinal variables in the data set.\n",
    "    Note Categorical variables include categorical variables with numeric appearance.\n",
    "\n",
    "    Parameters\n",
    "    ------\n",
    "        dataframe: dataframe\n",
    "                Variable names of the dataframe to be taken\n",
    "        cat_th: int, optional\n",
    "                class threshold for numeric but categorical variables\n",
    "        car_th: int, optinal\n",
    "                class threshold for categorical but cardinal variables\n",
    "\n",
    "    Returns\n",
    "    ------\n",
    "        cat_cols: list\n",
    "                Categorical variable list\n",
    "        num_cols: list\n",
    "                Numeric variable list\n",
    "        cat_but_car: list\n",
    "                List of cardinal variables with categorical appearance\n",
    "\n",
    "    Examples\n",
    "    ------\n",
    "        import seaborn as sns\n",
    "        df = sns.load_dataset(\"iris\")\n",
    "        print(grab_col_names(df))\n",
    "\n",
    "\n",
    "    Notes\n",
    "    ------\n",
    "        cat_cols + num_cols + cat_but_car = total number of variables\n",
    "        num_but_cat is inside cat_cols.\n",
    "        The sum of the 3 return lists equals the total number of variables: cat_cols + num_cols + cat_but_car = number of variables\n",
    "\n",
    "    \"\"\"\n",
    "\n",
    "    # cat_cols, cat_but_car\n",
    "    cat_cols = [col for col in dataframe.columns if dataframe[col].dtypes == \"O\"] \n",
    "\n",
    "    num_but_cat = [col for col in dataframe.columns if dataframe[col].nunique() < cat_th and\n",
    "                   dataframe[col].dtypes != \"O\"]\n",
    "\n",
    "    cat_but_car = [col for col in dataframe.columns if dataframe[col].nunique() > car_th and\n",
    "                   dataframe[col].dtypes == \"O\"]\n",
    "\n",
    "    cat_cols = cat_cols + num_but_cat\n",
    "\n",
    "    cat_cols = [col for col in cat_cols if col not in cat_but_car] \n",
    "\n",
    "    num_cols = [col for col in dataframe.columns if dataframe[col].dtypes != \"O\"] \n",
    "\n",
    "    num_cols = [col for col in num_cols if col not in num_but_cat] \n",
    "    \n",
    "    print(f\"Observations: {dataframe.shape[0]}\") \n",
    "    print(f\"Variables: {dataframe.shape[1]}\") \n",
    "    print(f'cat_cols: {len(cat_cols)}') \n",
    "    print(f'num_cols: {len(num_cols)}') \n",
    "    print(f'cat_but_car: {len(cat_but_car)}') \n",
    "    print(f'num_but_cat: {len(num_but_cat)}') \n",
    "\n",
    "\n",
    "    return cat_cols, num_cols, cat_but_car, num_but_cat"
   ]
  },
  {
   "cell_type": "code",
   "execution_count": 24,
   "id": "162a5251",
   "metadata": {
    "execution": {
     "iopub.execute_input": "2023-07-31T20:33:41.765155Z",
     "iopub.status.busy": "2023-07-31T20:33:41.764637Z",
     "iopub.status.idle": "2023-07-31T20:33:41.778455Z",
     "shell.execute_reply": "2023-07-31T20:33:41.777238Z"
    },
    "papermill": {
     "duration": 0.061107,
     "end_time": "2023-07-31T20:33:41.781025",
     "exception": false,
     "start_time": "2023-07-31T20:33:41.719918",
     "status": "completed"
    },
    "tags": []
   },
   "outputs": [
    {
     "name": "stdout",
     "output_type": "stream",
     "text": [
      "Observations: 1309\n",
      "Variables: 8\n",
      "cat_cols: 6\n",
      "num_cols: 2\n",
      "cat_but_car: 0\n",
      "num_but_cat: 4\n"
     ]
    }
   ],
   "source": [
    "cat_cols, num_cols, cat_but_car,  num_but_cat = grab_col_names(df)"
   ]
  },
  {
   "cell_type": "code",
   "execution_count": 25,
   "id": "fbde5e8b",
   "metadata": {
    "execution": {
     "iopub.execute_input": "2023-07-31T20:33:41.868090Z",
     "iopub.status.busy": "2023-07-31T20:33:41.866905Z",
     "iopub.status.idle": "2023-07-31T20:33:41.874344Z",
     "shell.execute_reply": "2023-07-31T20:33:41.873421Z"
    },
    "papermill": {
     "duration": 0.052824,
     "end_time": "2023-07-31T20:33:41.876594",
     "exception": false,
     "start_time": "2023-07-31T20:33:41.823770",
     "status": "completed"
    },
    "tags": []
   },
   "outputs": [
    {
     "data": {
      "text/plain": [
       "['Sex', 'Embarked', 'Survived', 'Pclass', 'SibSp', 'Parch']"
      ]
     },
     "execution_count": 25,
     "metadata": {},
     "output_type": "execute_result"
    }
   ],
   "source": [
    "cat_cols"
   ]
  },
  {
   "cell_type": "code",
   "execution_count": 26,
   "id": "e1040d5c",
   "metadata": {
    "execution": {
     "iopub.execute_input": "2023-07-31T20:33:41.961412Z",
     "iopub.status.busy": "2023-07-31T20:33:41.960593Z",
     "iopub.status.idle": "2023-07-31T20:33:41.965508Z",
     "shell.execute_reply": "2023-07-31T20:33:41.964810Z"
    },
    "papermill": {
     "duration": 0.04985,
     "end_time": "2023-07-31T20:33:41.967817",
     "exception": false,
     "start_time": "2023-07-31T20:33:41.917967",
     "status": "completed"
    },
    "tags": []
   },
   "outputs": [],
   "source": [
    "cat_cols.remove(\"Survived\")"
   ]
  },
  {
   "cell_type": "code",
   "execution_count": 27,
   "id": "d2038274",
   "metadata": {
    "execution": {
     "iopub.execute_input": "2023-07-31T20:33:42.052821Z",
     "iopub.status.busy": "2023-07-31T20:33:42.052021Z",
     "iopub.status.idle": "2023-07-31T20:33:42.058930Z",
     "shell.execute_reply": "2023-07-31T20:33:42.057936Z"
    },
    "papermill": {
     "duration": 0.051866,
     "end_time": "2023-07-31T20:33:42.061148",
     "exception": false,
     "start_time": "2023-07-31T20:33:42.009282",
     "status": "completed"
    },
    "tags": []
   },
   "outputs": [
    {
     "data": {
      "text/plain": [
       "['Sex', 'Embarked', 'Pclass', 'SibSp', 'Parch']"
      ]
     },
     "execution_count": 27,
     "metadata": {},
     "output_type": "execute_result"
    }
   ],
   "source": [
    "cat_cols"
   ]
  },
  {
   "cell_type": "code",
   "execution_count": 28,
   "id": "755cd0c2",
   "metadata": {
    "execution": {
     "iopub.execute_input": "2023-07-31T20:33:42.145852Z",
     "iopub.status.busy": "2023-07-31T20:33:42.145086Z",
     "iopub.status.idle": "2023-07-31T20:33:42.151738Z",
     "shell.execute_reply": "2023-07-31T20:33:42.150831Z"
    },
    "papermill": {
     "duration": 0.051471,
     "end_time": "2023-07-31T20:33:42.154047",
     "exception": false,
     "start_time": "2023-07-31T20:33:42.102576",
     "status": "completed"
    },
    "tags": []
   },
   "outputs": [
    {
     "data": {
      "text/plain": [
       "['Age', 'Fare']"
      ]
     },
     "execution_count": 28,
     "metadata": {},
     "output_type": "execute_result"
    }
   ],
   "source": [
    "num_cols"
   ]
  },
  {
   "cell_type": "code",
   "execution_count": 29,
   "id": "e6d04e8a",
   "metadata": {
    "execution": {
     "iopub.execute_input": "2023-07-31T20:33:42.239635Z",
     "iopub.status.busy": "2023-07-31T20:33:42.238871Z",
     "iopub.status.idle": "2023-07-31T20:33:42.245546Z",
     "shell.execute_reply": "2023-07-31T20:33:42.244681Z"
    },
    "papermill": {
     "duration": 0.051935,
     "end_time": "2023-07-31T20:33:42.247842",
     "exception": false,
     "start_time": "2023-07-31T20:33:42.195907",
     "status": "completed"
    },
    "tags": []
   },
   "outputs": [
    {
     "data": {
      "text/plain": [
       "[]"
      ]
     },
     "execution_count": 29,
     "metadata": {},
     "output_type": "execute_result"
    }
   ],
   "source": [
    "cat_but_car"
   ]
  },
  {
   "cell_type": "code",
   "execution_count": 30,
   "id": "11ea2092",
   "metadata": {
    "execution": {
     "iopub.execute_input": "2023-07-31T20:33:42.333862Z",
     "iopub.status.busy": "2023-07-31T20:33:42.333085Z",
     "iopub.status.idle": "2023-07-31T20:33:42.340042Z",
     "shell.execute_reply": "2023-07-31T20:33:42.338961Z"
    },
    "papermill": {
     "duration": 0.052434,
     "end_time": "2023-07-31T20:33:42.342288",
     "exception": false,
     "start_time": "2023-07-31T20:33:42.289854",
     "status": "completed"
    },
    "tags": []
   },
   "outputs": [
    {
     "data": {
      "text/plain": [
       "['Survived', 'Pclass', 'SibSp', 'Parch']"
      ]
     },
     "execution_count": 30,
     "metadata": {},
     "output_type": "execute_result"
    }
   ],
   "source": [
    " num_but_cat"
   ]
  },
  {
   "cell_type": "markdown",
   "id": "03f6c03f",
   "metadata": {
    "papermill": {
     "duration": 0.040739,
     "end_time": "2023-07-31T20:33:42.424994",
     "exception": false,
     "start_time": "2023-07-31T20:33:42.384255",
     "status": "completed"
    },
    "tags": []
   },
   "source": [
    "# 6. Analysis of Categorical Variables"
   ]
  },
  {
   "cell_type": "code",
   "execution_count": 31,
   "id": "9ae2ca9f",
   "metadata": {
    "execution": {
     "iopub.execute_input": "2023-07-31T20:33:42.509001Z",
     "iopub.status.busy": "2023-07-31T20:33:42.508585Z",
     "iopub.status.idle": "2023-07-31T20:33:42.515373Z",
     "shell.execute_reply": "2023-07-31T20:33:42.514611Z"
    },
    "papermill": {
     "duration": 0.051771,
     "end_time": "2023-07-31T20:33:42.517551",
     "exception": false,
     "start_time": "2023-07-31T20:33:42.465780",
     "status": "completed"
    },
    "tags": []
   },
   "outputs": [],
   "source": [
    "def cat_summary(dataframe, col_name, plot=False):\n",
    "    print(pd.DataFrame({col_name: dataframe[col_name].value_counts(),\n",
    "                        'Ratio': 100 * dataframe[col_name].value_counts() / len(dataframe)}))\n",
    "    print('##########################################')\n",
    "    if plot:\n",
    "        plt.figure(figsize=(12,6))\n",
    "        sns.countplot(x=dataframe[col_name], data=dataframe)\n",
    "        plt.show(block=True)"
   ]
  },
  {
   "cell_type": "code",
   "execution_count": 32,
   "id": "9e9bcf4c",
   "metadata": {
    "execution": {
     "iopub.execute_input": "2023-07-31T20:33:42.603858Z",
     "iopub.status.busy": "2023-07-31T20:33:42.603449Z",
     "iopub.status.idle": "2023-07-31T20:33:43.893509Z",
     "shell.execute_reply": "2023-07-31T20:33:43.892001Z"
    },
    "papermill": {
     "duration": 1.335813,
     "end_time": "2023-07-31T20:33:43.895887",
     "exception": false,
     "start_time": "2023-07-31T20:33:42.560074",
     "status": "completed"
    },
    "tags": []
   },
   "outputs": [
    {
     "name": "stdout",
     "output_type": "stream",
     "text": [
      "        Sex  Ratio\n",
      "male    843 64.400\n",
      "female  466 35.600\n",
      "##########################################\n"
     ]
    },
    {
     "data": {
      "image/png": "[encoded data removed]",
      "text/plain": [
       "<Figure size 1200x600 with 1 Axes>"
      ]
     },
     "metadata": {},
     "output_type": "display_data"
    },
    {
     "name": "stdout",
     "output_type": "stream",
     "text": [
      "   Embarked  Ratio\n",
      "S       914 69.824\n",
      "C       270 20.626\n",
      "Q       123  9.396\n",
      "##########################################\n"
     ]
    },
    {
     "data": {
      "image/png": "[encoded data removed]",
      "text/plain": [
       "<Figure size 1200x600 with 1 Axes>"
      ]
     },
     "metadata": {},
     "output_type": "display_data"
    },
    {
     "name": "stdout",
     "output_type": "stream",
     "text": [
      "   Pclass  Ratio\n",
      "3     709 54.163\n",
      "1     323 24.675\n",
      "2     277 21.161\n",
      "##########################################\n"
     ]
    },
    {
     "data": {
      "image/png": "[encoded data removed]",
      "text/plain": [
       "<Figure size 1200x600 with 1 Axes>"
      ]
     },
     "metadata": {},
     "output_type": "display_data"
    },
    {
     "name": "stdout",
     "output_type": "stream",
     "text": [
      "   SibSp  Ratio\n",
      "0    891 68.067\n",
      "1    319 24.370\n",
      "2     42  3.209\n",
      "4     22  1.681\n",
      "3     20  1.528\n",
      "8      9  0.688\n",
      "5      6  0.458\n",
      "##########################################\n"
     ]
    },
    {
     "data": {
      "image/png": "[encoded data removed]",
      "text/plain": [
       "<Figure size 1200x600 with 1 Axes>"
      ]
     },
     "metadata": {},
     "output_type": "display_data"
    },
    {
     "name": "stdout",
     "output_type": "stream",
     "text": [
      "   Parch  Ratio\n",
      "0   1002 76.547\n",
      "1    170 12.987\n",
      "2    113  8.633\n",
      "3      8  0.611\n",
      "5      6  0.458\n",
      "4      6  0.458\n",
      "6      2  0.153\n",
      "9      2  0.153\n",
      "##########################################\n"
     ]
    },
    {
     "data": {
      "image/png": "[encoded data removed]",
      "text/plain": [
       "<Figure size 1200x600 with 1 Axes>"
      ]
     },
     "metadata": {},
     "output_type": "display_data"
    }
   ],
   "source": [
    "for col in cat_cols:\n",
    "    cat_summary(df, col, plot=True)"
   ]
  },
  {
   "cell_type": "markdown",
   "id": "a68b8f17",
   "metadata": {
    "papermill": {
     "duration": 0.043381,
     "end_time": "2023-07-31T20:33:43.982901",
     "exception": false,
     "start_time": "2023-07-31T20:33:43.939520",
     "status": "completed"
    },
    "tags": []
   },
   "source": [
    "# 7. Analysis of Numerical Variables"
   ]
  },
  {
   "cell_type": "code",
   "execution_count": 33,
   "id": "014d04b4",
   "metadata": {
    "execution": {
     "iopub.execute_input": "2023-07-31T20:33:44.074501Z",
     "iopub.status.busy": "2023-07-31T20:33:44.074017Z",
     "iopub.status.idle": "2023-07-31T20:33:44.082032Z",
     "shell.execute_reply": "2023-07-31T20:33:44.080842Z"
    },
    "papermill": {
     "duration": 0.05697,
     "end_time": "2023-07-31T20:33:44.084380",
     "exception": false,
     "start_time": "2023-07-31T20:33:44.027410",
     "status": "completed"
    },
    "tags": []
   },
   "outputs": [],
   "source": [
    "def num_summary(dataframe, numerical_col, plot=False):\n",
    "    quantiles = [0.05, 0.10, 0.20, 0.30, 0.40, 0.50, 0.60, 0.70, 0.80, 0.90, 0.95, 0.99]\n",
    "    print(dataframe[numerical_col].describe(quantiles).T)\n",
    "\n",
    "    if plot:\n",
    "        dataframe[numerical_col].hist(bins=20)\n",
    "        \n",
    "        plt.xlabel(numerical_col)\n",
    "        plt.title(numerical_col)\n",
    "        plt.show(block=True)"
   ]
  },
  {
   "cell_type": "code",
   "execution_count": 34,
   "id": "b490b2b6",
   "metadata": {
    "execution": {
     "iopub.execute_input": "2023-07-31T20:33:44.175205Z",
     "iopub.status.busy": "2023-07-31T20:33:44.173774Z",
     "iopub.status.idle": "2023-07-31T20:33:44.898218Z",
     "shell.execute_reply": "2023-07-31T20:33:44.896303Z"
    },
    "papermill": {
     "duration": 0.773039,
     "end_time": "2023-07-31T20:33:44.901149",
     "exception": false,
     "start_time": "2023-07-31T20:33:44.128110",
     "status": "completed"
    },
    "tags": []
   },
   "outputs": [
    {
     "name": "stdout",
     "output_type": "stream",
     "text": [
      "count   1046.000\n",
      "mean      29.881\n",
      "std       14.413\n",
      "min        0.170\n",
      "5%         5.000\n",
      "10%       14.000\n",
      "20%       19.000\n",
      "30%       22.000\n",
      "40%       25.000\n",
      "50%       28.000\n",
      "60%       31.000\n",
      "70%       36.000\n",
      "80%       42.000\n",
      "90%       50.000\n",
      "95%       57.000\n",
      "99%       65.000\n",
      "max       80.000\n",
      "Name: Age, dtype: float64\n"
     ]
    },
    {
     "data": {
      "image/png": "[encoded data removed]",
      "text/plain": [
       "<Figure size 640x480 with 1 Axes>"
      ]
     },
     "metadata": {},
     "output_type": "display_data"
    },
    {
     "name": "stdout",
     "output_type": "stream",
     "text": [
      "count   1308.000\n",
      "mean      33.295\n",
      "std       51.759\n",
      "min        0.000\n",
      "5%         7.225\n",
      "10%        7.568\n",
      "20%        7.854\n",
      "30%        8.050\n",
      "40%       10.500\n",
      "50%       14.454\n",
      "60%       21.679\n",
      "70%       26.955\n",
      "80%       41.579\n",
      "90%       78.051\n",
      "95%      133.650\n",
      "99%      262.375\n",
      "max      512.329\n",
      "Name: Fare, dtype: float64\n"
     ]
    },
    {
     "data": {
      "image/png": "[encoded data removed]",
      "text/plain": [
       "<Figure size 640x480 with 1 Axes>"
      ]
     },
     "metadata": {},
     "output_type": "display_data"
    }
   ],
   "source": [
    "for col in num_cols:\n",
    "    num_summary(df, col, plot=True)"
   ]
  },
  {
   "cell_type": "markdown",
   "id": "a34483a1",
   "metadata": {
    "papermill": {
     "duration": 0.047757,
     "end_time": "2023-07-31T20:33:44.995024",
     "exception": false,
     "start_time": "2023-07-31T20:33:44.947267",
     "status": "completed"
    },
    "tags": []
   },
   "source": [
    "# 8. Analysis of Categorical Variables by Target"
   ]
  },
  {
   "cell_type": "code",
   "execution_count": 35,
   "id": "358d2fed",
   "metadata": {
    "execution": {
     "iopub.execute_input": "2023-07-31T20:33:45.089208Z",
     "iopub.status.busy": "2023-07-31T20:33:45.088373Z",
     "iopub.status.idle": "2023-07-31T20:33:45.095572Z",
     "shell.execute_reply": "2023-07-31T20:33:45.094701Z"
    },
    "papermill": {
     "duration": 0.057303,
     "end_time": "2023-07-31T20:33:45.097964",
     "exception": false,
     "start_time": "2023-07-31T20:33:45.040661",
     "status": "completed"
    },
    "tags": []
   },
   "outputs": [],
   "source": [
    "def target_summary_with_cat(dataframe, target, categorical_col, plot=False):\n",
    "    print(pd.DataFrame({'TARGET_MEAN': dataframe.groupby(categorical_col)[target].mean()}), end='\\n\\n\\n')\n",
    "    if plot:\n",
    "        sns.barplot(x=categorical_col, y=target, data=dataframe)\n",
    "        plt.show(block=True)"
   ]
  },
  {
   "cell_type": "code",
   "execution_count": 36,
   "id": "df6dc614",
   "metadata": {
    "execution": {
     "iopub.execute_input": "2023-07-31T20:33:45.192956Z",
     "iopub.status.busy": "2023-07-31T20:33:45.192464Z",
     "iopub.status.idle": "2023-07-31T20:33:48.147481Z",
     "shell.execute_reply": "2023-07-31T20:33:48.146255Z"
    },
    "papermill": {
     "duration": 3.00612,
     "end_time": "2023-07-31T20:33:48.149790",
     "exception": false,
     "start_time": "2023-07-31T20:33:45.143670",
     "status": "completed"
    },
    "tags": []
   },
   "outputs": [
    {
     "name": "stdout",
     "output_type": "stream",
     "text": [
      "        TARGET_MEAN\n",
      "Sex                \n",
      "female        0.742\n",
      "male          0.189\n",
      "\n",
      "\n"
     ]
    },
    {
     "data": {
      "image/png": "[encoded data removed]",
      "text/plain": [
       "<Figure size 640x480 with 1 Axes>"
      ]
     },
     "metadata": {},
     "output_type": "display_data"
    },
    {
     "name": "stdout",
     "output_type": "stream",
     "text": [
      "          TARGET_MEAN\n",
      "Embarked             \n",
      "C               0.554\n",
      "Q               0.390\n",
      "S               0.337\n",
      "\n",
      "\n"
     ]
    },
    {
     "data": {
      "image/png": "[encoded data removed]",
      "text/plain": [
       "<Figure size 640x480 with 1 Axes>"
      ]
     },
     "metadata": {},
     "output_type": "display_data"
    },
    {
     "name": "stdout",
     "output_type": "stream",
     "text": [
      "        TARGET_MEAN\n",
      "Pclass             \n",
      "1             0.630\n",
      "2             0.473\n",
      "3             0.242\n",
      "\n",
      "\n"
     ]
    },
    {
     "data": {
      "image/png": "[encoded data removed]",
      "text/plain": [
       "<Figure size 640x480 with 1 Axes>"
      ]
     },
     "metadata": {},
     "output_type": "display_data"
    },
    {
     "name": "stdout",
     "output_type": "stream",
     "text": [
      "       TARGET_MEAN\n",
      "SibSp             \n",
      "0            0.345\n",
      "1            0.536\n",
      "2            0.464\n",
      "3            0.250\n",
      "4            0.167\n",
      "5            0.000\n",
      "8            0.000\n",
      "\n",
      "\n"
     ]
    },
    {
     "data": {
      "image/png": "[encoded data removed]",
      "text/plain": [
       "<Figure size 640x480 with 1 Axes>"
      ]
     },
     "metadata": {},
     "output_type": "display_data"
    },
    {
     "name": "stdout",
     "output_type": "stream",
     "text": [
      "       TARGET_MEAN\n",
      "Parch             \n",
      "0            0.344\n",
      "1            0.551\n",
      "2            0.500\n",
      "3            0.600\n",
      "4            0.000\n",
      "5            0.200\n",
      "6            0.000\n",
      "9              NaN\n",
      "\n",
      "\n"
     ]
    },
    {
     "data": {
      "image/png": "[encoded data removed]",
      "text/plain": [
       "<Figure size 640x480 with 1 Axes>"
      ]
     },
     "metadata": {},
     "output_type": "display_data"
    }
   ],
   "source": [
    "for col in cat_cols:\n",
    "    target_summary_with_cat(df, 'Survived', col, plot=True)"
   ]
  },
  {
   "cell_type": "markdown",
   "id": "d74d5751",
   "metadata": {
    "papermill": {
     "duration": 0.046618,
     "end_time": "2023-07-31T20:33:48.243426",
     "exception": false,
     "start_time": "2023-07-31T20:33:48.196808",
     "status": "completed"
    },
    "tags": []
   },
   "source": [
    "# 9. Analysis of Numeric Variables by Target"
   ]
  },
  {
   "cell_type": "code",
   "execution_count": 37,
   "id": "849e867b",
   "metadata": {
    "execution": {
     "iopub.execute_input": "2023-07-31T20:33:48.338908Z",
     "iopub.status.busy": "2023-07-31T20:33:48.338468Z",
     "iopub.status.idle": "2023-07-31T20:33:48.345830Z",
     "shell.execute_reply": "2023-07-31T20:33:48.344711Z"
    },
    "papermill": {
     "duration": 0.058063,
     "end_time": "2023-07-31T20:33:48.348266",
     "exception": false,
     "start_time": "2023-07-31T20:33:48.290203",
     "status": "completed"
    },
    "tags": []
   },
   "outputs": [],
   "source": [
    "def target_summary_with_num(dataframe, target, numerical_col, plot=False):\n",
    "    print(pd.DataFrame({numerical_col+'_mean': dataframe.groupby(target)[numerical_col].mean()}), end='\\n\\n\\n')\n",
    "    if plot:\n",
    "        sns.barplot(x=target, y=numerical_col, data=dataframe)\n",
    "        plt.show(block=True)"
   ]
  },
  {
   "cell_type": "code",
   "execution_count": 38,
   "id": "92ba7516",
   "metadata": {
    "execution": {
     "iopub.execute_input": "2023-07-31T20:33:48.446214Z",
     "iopub.status.busy": "2023-07-31T20:33:48.445836Z",
     "iopub.status.idle": "2023-07-31T20:33:48.458635Z",
     "shell.execute_reply": "2023-07-31T20:33:48.457618Z"
    },
    "papermill": {
     "duration": 0.065021,
     "end_time": "2023-07-31T20:33:48.461122",
     "exception": false,
     "start_time": "2023-07-31T20:33:48.396101",
     "status": "completed"
    },
    "tags": []
   },
   "outputs": [
    {
     "name": "stdout",
     "output_type": "stream",
     "text": [
      "        TARGET_MEAN\n",
      "Age                \n",
      "0.170           NaN\n",
      "0.330           NaN\n",
      "0.420         1.000\n",
      "0.670         1.000\n",
      "0.750         1.000\n",
      "...             ...\n",
      "70.500        0.000\n",
      "71.000        0.000\n",
      "74.000        0.000\n",
      "76.000          NaN\n",
      "80.000        1.000\n",
      "\n",
      "[98 rows x 1 columns]\n",
      "\n",
      "\n",
      "         TARGET_MEAN\n",
      "Fare                \n",
      "0.000          0.067\n",
      "3.171            NaN\n",
      "4.013          0.000\n",
      "5.000          0.000\n",
      "6.237          0.000\n",
      "...              ...\n",
      "227.525        0.750\n",
      "247.521        0.500\n",
      "262.375        1.000\n",
      "263.000        0.500\n",
      "512.329        1.000\n",
      "\n",
      "[281 rows x 1 columns]\n",
      "\n",
      "\n"
     ]
    }
   ],
   "source": [
    "for col in num_cols:\n",
    "    target_summary_with_cat(df, 'Survived', col, plot=False)"
   ]
  },
  {
   "cell_type": "markdown",
   "id": "00250775",
   "metadata": {
    "papermill": {
     "duration": 0.047328,
     "end_time": "2023-07-31T20:33:48.555643",
     "exception": false,
     "start_time": "2023-07-31T20:33:48.508315",
     "status": "completed"
    },
    "tags": []
   },
   "source": [
    "# 10. Examining the Logarithm of the Dependent Variable"
   ]
  },
  {
   "cell_type": "code",
   "execution_count": 39,
   "id": "3a8d248b",
   "metadata": {
    "execution": {
     "iopub.execute_input": "2023-07-31T20:33:48.655422Z",
     "iopub.status.busy": "2023-07-31T20:33:48.654987Z",
     "iopub.status.idle": "2023-07-31T20:33:48.991887Z",
     "shell.execute_reply": "2023-07-31T20:33:48.990553Z"
    },
    "papermill": {
     "duration": 0.388752,
     "end_time": "2023-07-31T20:33:48.994396",
     "exception": false,
     "start_time": "2023-07-31T20:33:48.605644",
     "status": "completed"
    },
    "tags": []
   },
   "outputs": [
    {
     "data": {
      "image/png": "[encoded data removed]",
      "text/plain": [
       "<Figure size 640x480 with 1 Axes>"
      ]
     },
     "metadata": {},
     "output_type": "display_data"
    }
   ],
   "source": [
    "np.log1p(df[\"Survived\"]).hist(bins=50)\n",
    "plt.show(block=True)"
   ]
  },
  {
   "cell_type": "markdown",
   "id": "8279bb8c",
   "metadata": {
    "papermill": {
     "duration": 0.047216,
     "end_time": "2023-07-31T20:33:49.088796",
     "exception": false,
     "start_time": "2023-07-31T20:33:49.041580",
     "status": "completed"
    },
    "tags": []
   },
   "source": [
    "# 11. Analysis of Correlation"
   ]
  },
  {
   "cell_type": "code",
   "execution_count": 40,
   "id": "da348570",
   "metadata": {
    "execution": {
     "iopub.execute_input": "2023-07-31T20:33:49.183804Z",
     "iopub.status.busy": "2023-07-31T20:33:49.183277Z",
     "iopub.status.idle": "2023-07-31T20:33:49.192960Z",
     "shell.execute_reply": "2023-07-31T20:33:49.191787Z"
    },
    "papermill": {
     "duration": 0.060314,
     "end_time": "2023-07-31T20:33:49.195323",
     "exception": false,
     "start_time": "2023-07-31T20:33:49.135009",
     "status": "completed"
    },
    "tags": []
   },
   "outputs": [],
   "source": [
    "def high_correlated_cols(dataframe, plot=False, corr_th=0.70):\n",
    "    corr = dataframe.corr()\n",
    "    cor_matrix = corr.abs()\n",
    "    upper_triangle_matrix = cor_matrix.where(np.triu(np.ones(cor_matrix.shape), k=1).astype(np.bool))\n",
    "    drop_list = [col for col in upper_triangle_matrix.columns if any(upper_triangle_matrix[col] > corr_th)]\n",
    "    if plot:\n",
    "        import seaborn as sns\n",
    "        import matplotlib.pyplot as plt\n",
    "        sns.set(rc={'figure.figsize': (12, 8)})\n",
    "        sns.heatmap(corr, cmap=\"RdBu\", annot=True, fmt=\".2f\")  # annot=True added here\n",
    "        plt.show()\n",
    "    return drop_list"
   ]
  },
  {
   "cell_type": "code",
   "execution_count": 41,
   "id": "7d7560ab",
   "metadata": {
    "execution": {
     "iopub.execute_input": "2023-07-31T20:33:49.291783Z",
     "iopub.status.busy": "2023-07-31T20:33:49.291320Z",
     "iopub.status.idle": "2023-07-31T20:33:49.867996Z",
     "shell.execute_reply": "2023-07-31T20:33:49.867089Z"
    },
    "papermill": {
     "duration": 0.627699,
     "end_time": "2023-07-31T20:33:49.870234",
     "exception": false,
     "start_time": "2023-07-31T20:33:49.242535",
     "status": "completed"
    },
    "tags": []
   },
   "outputs": [
    {
     "data": {
      "image/png": "[encoded data removed]",
      "text/plain": [
       "<Figure size 1200x800 with 2 Axes>"
      ]
     },
     "metadata": {},
     "output_type": "display_data"
    },
    {
     "data": {
      "text/plain": [
       "[]"
      ]
     },
     "execution_count": 41,
     "metadata": {},
     "output_type": "execute_result"
    }
   ],
   "source": [
    "high_correlated_cols(df, plot=True)"
   ]
  },
  {
   "cell_type": "code",
   "execution_count": 42,
   "id": "4d7fc27f",
   "metadata": {
    "execution": {
     "iopub.execute_input": "2023-07-31T20:33:49.970822Z",
     "iopub.status.busy": "2023-07-31T20:33:49.969024Z",
     "iopub.status.idle": "2023-07-31T20:33:49.977411Z",
     "shell.execute_reply": "2023-07-31T20:33:49.976366Z"
    },
    "papermill": {
     "duration": 0.061657,
     "end_time": "2023-07-31T20:33:49.979596",
     "exception": false,
     "start_time": "2023-07-31T20:33:49.917939",
     "status": "completed"
    },
    "tags": []
   },
   "outputs": [],
   "source": [
    "corr = df[num_cols].corr()"
   ]
  },
  {
   "cell_type": "code",
   "execution_count": 43,
   "id": "3d718e88",
   "metadata": {
    "execution": {
     "iopub.execute_input": "2023-07-31T20:33:50.083311Z",
     "iopub.status.busy": "2023-07-31T20:33:50.082223Z",
     "iopub.status.idle": "2023-07-31T20:33:50.092363Z",
     "shell.execute_reply": "2023-07-31T20:33:50.091233Z"
    },
    "papermill": {
     "duration": 0.064647,
     "end_time": "2023-07-31T20:33:50.094937",
     "exception": false,
     "start_time": "2023-07-31T20:33:50.030290",
     "status": "completed"
    },
    "tags": []
   },
   "outputs": [
    {
     "data": {
      "text/html": [
       "<div>\n",
       "<style scoped>\n",
       "    .dataframe tbody tr th:only-of-type {\n",
       "        vertical-align: middle;\n",
       "    }\n",
       "\n",
       "    .dataframe tbody tr th {\n",
       "        vertical-align: top;\n",
       "    }\n",
       "\n",
       "    .dataframe thead th {\n",
       "        text-align: right;\n",
       "    }\n",
       "</style>\n",
       "<table border=\"1\" class=\"dataframe\">\n",
       "  <thead>\n",
       "    <tr style=\"text-align: right;\">\n",
       "      <th></th>\n",
       "      <th>Age</th>\n",
       "      <th>Fare</th>\n",
       "    </tr>\n",
       "  </thead>\n",
       "  <tbody>\n",
       "    <tr>\n",
       "      <th>Age</th>\n",
       "      <td>1.000</td>\n",
       "      <td>0.179</td>\n",
       "    </tr>\n",
       "    <tr>\n",
       "      <th>Fare</th>\n",
       "      <td>0.179</td>\n",
       "      <td>1.000</td>\n",
       "    </tr>\n",
       "  </tbody>\n",
       "</table>\n",
       "</div>"
      ],
      "text/plain": [
       "       Age  Fare\n",
       "Age  1.000 0.179\n",
       "Fare 0.179 1.000"
      ]
     },
     "execution_count": 43,
     "metadata": {},
     "output_type": "execute_result"
    }
   ],
   "source": [
    "corr"
   ]
  },
  {
   "cell_type": "code",
   "execution_count": 44,
   "id": "4cbf9dda",
   "metadata": {
    "execution": {
     "iopub.execute_input": "2023-07-31T20:33:50.196651Z",
     "iopub.status.busy": "2023-07-31T20:33:50.196222Z",
     "iopub.status.idle": "2023-07-31T20:33:50.209975Z",
     "shell.execute_reply": "2023-07-31T20:33:50.208790Z"
    },
    "papermill": {
     "duration": 0.067325,
     "end_time": "2023-07-31T20:33:50.212320",
     "exception": false,
     "start_time": "2023-07-31T20:33:50.144995",
     "status": "completed"
    },
    "tags": []
   },
   "outputs": [
    {
     "data": {
      "text/html": [
       "<div>\n",
       "<style scoped>\n",
       "    .dataframe tbody tr th:only-of-type {\n",
       "        vertical-align: middle;\n",
       "    }\n",
       "\n",
       "    .dataframe tbody tr th {\n",
       "        vertical-align: top;\n",
       "    }\n",
       "\n",
       "    .dataframe thead th {\n",
       "        text-align: right;\n",
       "    }\n",
       "</style>\n",
       "<table border=\"1\" class=\"dataframe\">\n",
       "  <thead>\n",
       "    <tr style=\"text-align: right;\">\n",
       "      <th></th>\n",
       "      <th>Survived</th>\n",
       "      <th>Pclass</th>\n",
       "      <th>Sex</th>\n",
       "      <th>Age</th>\n",
       "      <th>SibSp</th>\n",
       "      <th>Parch</th>\n",
       "      <th>Fare</th>\n",
       "      <th>Embarked</th>\n",
       "    </tr>\n",
       "  </thead>\n",
       "  <tbody>\n",
       "    <tr>\n",
       "      <th>0</th>\n",
       "      <td>0.000</td>\n",
       "      <td>3</td>\n",
       "      <td>male</td>\n",
       "      <td>22.000</td>\n",
       "      <td>1</td>\n",
       "      <td>0</td>\n",
       "      <td>7.250</td>\n",
       "      <td>S</td>\n",
       "    </tr>\n",
       "    <tr>\n",
       "      <th>1</th>\n",
       "      <td>1.000</td>\n",
       "      <td>1</td>\n",
       "      <td>female</td>\n",
       "      <td>38.000</td>\n",
       "      <td>1</td>\n",
       "      <td>0</td>\n",
       "      <td>71.283</td>\n",
       "      <td>C</td>\n",
       "    </tr>\n",
       "    <tr>\n",
       "      <th>2</th>\n",
       "      <td>1.000</td>\n",
       "      <td>3</td>\n",
       "      <td>female</td>\n",
       "      <td>26.000</td>\n",
       "      <td>0</td>\n",
       "      <td>0</td>\n",
       "      <td>7.925</td>\n",
       "      <td>S</td>\n",
       "    </tr>\n",
       "    <tr>\n",
       "      <th>3</th>\n",
       "      <td>1.000</td>\n",
       "      <td>1</td>\n",
       "      <td>female</td>\n",
       "      <td>35.000</td>\n",
       "      <td>1</td>\n",
       "      <td>0</td>\n",
       "      <td>53.100</td>\n",
       "      <td>S</td>\n",
       "    </tr>\n",
       "    <tr>\n",
       "      <th>4</th>\n",
       "      <td>0.000</td>\n",
       "      <td>3</td>\n",
       "      <td>male</td>\n",
       "      <td>35.000</td>\n",
       "      <td>0</td>\n",
       "      <td>0</td>\n",
       "      <td>8.050</td>\n",
       "      <td>S</td>\n",
       "    </tr>\n",
       "  </tbody>\n",
       "</table>\n",
       "</div>"
      ],
      "text/plain": [
       "   Survived  Pclass     Sex    Age  SibSp  Parch   Fare Embarked\n",
       "0     0.000       3    male 22.000      1      0  7.250        S\n",
       "1     1.000       1  female 38.000      1      0 71.283        C\n",
       "2     1.000       3  female 26.000      0      0  7.925        S\n",
       "3     1.000       1  female 35.000      1      0 53.100        S\n",
       "4     0.000       3    male 35.000      0      0  8.050        S"
      ]
     },
     "execution_count": 44,
     "metadata": {},
     "output_type": "execute_result"
    }
   ],
   "source": [
    "df.head()"
   ]
  },
  {
   "cell_type": "markdown",
   "id": "9857c162",
   "metadata": {
    "papermill": {
     "duration": 0.048993,
     "end_time": "2023-07-31T20:33:50.310645",
     "exception": false,
     "start_time": "2023-07-31T20:33:50.261652",
     "status": "completed"
    },
    "tags": []
   },
   "source": [
    "# 12. The Relationship Between Variables"
   ]
  },
  {
   "cell_type": "code",
   "execution_count": 45,
   "id": "6d971668",
   "metadata": {
    "execution": {
     "iopub.execute_input": "2023-07-31T20:33:50.411070Z",
     "iopub.status.busy": "2023-07-31T20:33:50.410582Z",
     "iopub.status.idle": "2023-07-31T20:33:50.593198Z",
     "shell.execute_reply": "2023-07-31T20:33:50.589830Z"
    },
    "papermill": {
     "duration": 0.236199,
     "end_time": "2023-07-31T20:33:50.595862",
     "exception": false,
     "start_time": "2023-07-31T20:33:50.359663",
     "status": "completed"
    },
    "tags": []
   },
   "outputs": [
    {
     "data": {
      "image/png": "[encoded data removed]",
      "text/plain": [
       "<Figure size 800x600 with 1 Axes>"
      ]
     },
     "metadata": {},
     "output_type": "display_data"
    }
   ],
   "source": [
    "# Calculate the counts of each outcome\n",
    "outcome_counts = df['Survived'].value_counts()\n",
    "\n",
    "# Calculate the total number of passengers\n",
    "total_passengers = outcome_counts.sum()\n",
    "\n",
    "# Calculate the percentages\n",
    "percentages = outcome_counts / total_passengers * 100\n",
    "\n",
    "# Create labels with both quantity and percentage\n",
    "labels = [f'0 - Not Survived\\n({outcome_counts[0]} / {percentages[0]:.1f}%)',\n",
    "          f'1 - Survived\\n({outcome_counts[1]} / {percentages[1]:.1f}%)']\n",
    "\n",
    "# Plot the pie chart with labels and percentages\n",
    "plt.figure(figsize=(8, 6))\n",
    "plt.pie(outcome_counts, labels=labels, autopct='%1.1f%%', colors=['purple', 'lightgray'])\n",
    "plt.title('Distribution of the Outcome Variable')\n",
    "plt.show()"
   ]
  },
  {
   "cell_type": "markdown",
   "id": "dad1dd25",
   "metadata": {
    "papermill": {
     "duration": 0.048533,
     "end_time": "2023-07-31T20:33:50.693712",
     "exception": false,
     "start_time": "2023-07-31T20:33:50.645179",
     "status": "completed"
    },
    "tags": []
   },
   "source": [
    "# 13. Missing Value Analysis"
   ]
  },
  {
   "cell_type": "code",
   "execution_count": 46,
   "id": "d527a9d0",
   "metadata": {
    "execution": {
     "iopub.execute_input": "2023-07-31T20:33:50.797039Z",
     "iopub.status.busy": "2023-07-31T20:33:50.795682Z",
     "iopub.status.idle": "2023-07-31T20:33:50.807170Z",
     "shell.execute_reply": "2023-07-31T20:33:50.805993Z"
    },
    "papermill": {
     "duration": 0.066609,
     "end_time": "2023-07-31T20:33:50.809575",
     "exception": false,
     "start_time": "2023-07-31T20:33:50.742966",
     "status": "completed"
    },
    "tags": []
   },
   "outputs": [
    {
     "data": {
      "text/plain": [
       "Survived    418\n",
       "Pclass        0\n",
       "Sex           0\n",
       "Age         263\n",
       "SibSp         0\n",
       "Parch         0\n",
       "Fare          1\n",
       "Embarked      2\n",
       "dtype: int64"
      ]
     },
     "execution_count": 46,
     "metadata": {},
     "output_type": "execute_result"
    }
   ],
   "source": [
    "df.isnull().sum()"
   ]
  },
  {
   "cell_type": "code",
   "execution_count": 47,
   "id": "efc23703",
   "metadata": {
    "execution": {
     "iopub.execute_input": "2023-07-31T20:33:50.911890Z",
     "iopub.status.busy": "2023-07-31T20:33:50.911468Z",
     "iopub.status.idle": "2023-07-31T20:33:50.918556Z",
     "shell.execute_reply": "2023-07-31T20:33:50.917395Z"
    },
    "papermill": {
     "duration": 0.06095,
     "end_time": "2023-07-31T20:33:50.920959",
     "exception": false,
     "start_time": "2023-07-31T20:33:50.860009",
     "status": "completed"
    },
    "tags": []
   },
   "outputs": [],
   "source": [
    "# Fill missing values in 'Age' column with the median age\n",
    "df['Age'].fillna(df['Age'].median(), inplace=True)"
   ]
  },
  {
   "cell_type": "code",
   "execution_count": 48,
   "id": "c72ebc5f",
   "metadata": {
    "execution": {
     "iopub.execute_input": "2023-07-31T20:33:51.023087Z",
     "iopub.status.busy": "2023-07-31T20:33:51.022604Z",
     "iopub.status.idle": "2023-07-31T20:33:51.030534Z",
     "shell.execute_reply": "2023-07-31T20:33:51.029189Z"
    },
    "papermill": {
     "duration": 0.063007,
     "end_time": "2023-07-31T20:33:51.033030",
     "exception": false,
     "start_time": "2023-07-31T20:33:50.970023",
     "status": "completed"
    },
    "tags": []
   },
   "outputs": [],
   "source": [
    "# Fill missing values in 'Embarked' column with the mode\n",
    "df['Embarked'].fillna(df['Embarked'].mode()[0], inplace=True)"
   ]
  },
  {
   "cell_type": "code",
   "execution_count": 49,
   "id": "7da51ebd",
   "metadata": {
    "execution": {
     "iopub.execute_input": "2023-07-31T20:33:51.136838Z",
     "iopub.status.busy": "2023-07-31T20:33:51.136401Z",
     "iopub.status.idle": "2023-07-31T20:33:51.142997Z",
     "shell.execute_reply": "2023-07-31T20:33:51.141999Z"
    },
    "papermill": {
     "duration": 0.061073,
     "end_time": "2023-07-31T20:33:51.145200",
     "exception": false,
     "start_time": "2023-07-31T20:33:51.084127",
     "status": "completed"
    },
    "tags": []
   },
   "outputs": [],
   "source": [
    "# Fill missing values in 'Fare' column with the median fare\n",
    "df['Fare'].fillna(df['Fare'].median(), inplace=True)"
   ]
  },
  {
   "cell_type": "code",
   "execution_count": 50,
   "id": "d17e9c2e",
   "metadata": {
    "execution": {
     "iopub.execute_input": "2023-07-31T20:33:51.247891Z",
     "iopub.status.busy": "2023-07-31T20:33:51.247387Z",
     "iopub.status.idle": "2023-07-31T20:33:51.257921Z",
     "shell.execute_reply": "2023-07-31T20:33:51.257103Z"
    },
    "papermill": {
     "duration": 0.064668,
     "end_time": "2023-07-31T20:33:51.260017",
     "exception": false,
     "start_time": "2023-07-31T20:33:51.195349",
     "status": "completed"
    },
    "tags": []
   },
   "outputs": [
    {
     "data": {
      "text/plain": [
       "Survived    418\n",
       "Pclass        0\n",
       "Sex           0\n",
       "Age           0\n",
       "SibSp         0\n",
       "Parch         0\n",
       "Fare          0\n",
       "Embarked      0\n",
       "dtype: int64"
      ]
     },
     "execution_count": 50,
     "metadata": {},
     "output_type": "execute_result"
    }
   ],
   "source": [
    "df.isnull().sum()"
   ]
  },
  {
   "cell_type": "markdown",
   "id": "98c3df78",
   "metadata": {
    "papermill": {
     "duration": 0.049342,
     "end_time": "2023-07-31T20:33:51.359357",
     "exception": false,
     "start_time": "2023-07-31T20:33:51.310015",
     "status": "completed"
    },
    "tags": []
   },
   "source": [
    "# 14. Outlier Analysis"
   ]
  },
  {
   "cell_type": "code",
   "execution_count": 51,
   "id": "6a75b7c5",
   "metadata": {
    "execution": {
     "iopub.execute_input": "2023-07-31T20:33:51.463838Z",
     "iopub.status.busy": "2023-07-31T20:33:51.463169Z",
     "iopub.status.idle": "2023-07-31T20:33:51.470281Z",
     "shell.execute_reply": "2023-07-31T20:33:51.469157Z"
    },
    "papermill": {
     "duration": 0.063492,
     "end_time": "2023-07-31T20:33:51.472920",
     "exception": false,
     "start_time": "2023-07-31T20:33:51.409428",
     "status": "completed"
    },
    "tags": []
   },
   "outputs": [],
   "source": [
    "def outlier_thresholds(dataframe, col_name, q1=0.05, q3=0.95):\n",
    "    quartile1 = dataframe[col_name].quantile(q1)\n",
    "    quartile3 = dataframe[col_name].quantile(q3)\n",
    "    interquantile_range = quartile3 - quartile1\n",
    "    up_limit = quartile3 + 1.5 * interquantile_range\n",
    "    low_limit = quartile1 - 1.5 * interquantile_range\n",
    "    return low_limit, up_limit"
   ]
  },
  {
   "cell_type": "code",
   "execution_count": 52,
   "id": "ed271165",
   "metadata": {
    "execution": {
     "iopub.execute_input": "2023-07-31T20:33:51.577217Z",
     "iopub.status.busy": "2023-07-31T20:33:51.576788Z",
     "iopub.status.idle": "2023-07-31T20:33:51.582835Z",
     "shell.execute_reply": "2023-07-31T20:33:51.581776Z"
    },
    "papermill": {
     "duration": 0.060713,
     "end_time": "2023-07-31T20:33:51.585360",
     "exception": false,
     "start_time": "2023-07-31T20:33:51.524647",
     "status": "completed"
    },
    "tags": []
   },
   "outputs": [],
   "source": [
    "def check_outlier(dataframe, col_name):\n",
    "    low_limit, up_limit = outlier_thresholds(dataframe, col_name)\n",
    "    if dataframe[(dataframe[col_name] > up_limit) | (dataframe[col_name] < low_limit)].any(axis=None):\n",
    "        return True\n",
    "    else:\n",
    "        return False"
   ]
  },
  {
   "cell_type": "code",
   "execution_count": 53,
   "id": "c1c41b8f",
   "metadata": {
    "execution": {
     "iopub.execute_input": "2023-07-31T20:33:51.710389Z",
     "iopub.status.busy": "2023-07-31T20:33:51.709817Z",
     "iopub.status.idle": "2023-07-31T20:33:51.721237Z",
     "shell.execute_reply": "2023-07-31T20:33:51.719000Z"
    },
    "papermill": {
     "duration": 0.083692,
     "end_time": "2023-07-31T20:33:51.724265",
     "exception": false,
     "start_time": "2023-07-31T20:33:51.640573",
     "status": "completed"
    },
    "tags": []
   },
   "outputs": [],
   "source": [
    "def check_outlier(dataframe, col_name, plot=False):\n",
    "    low_limit, up_limit = outlier_thresholds(dataframe, col_name)\n",
    "    outliers = dataframe[(dataframe[col_name] > up_limit) | (dataframe[col_name] < low_limit)]\n",
    "    if outliers.any(axis=None):\n",
    "        if plot:\n",
    "            plt.figure(figsize=(8, 6))\n",
    "            sns.boxplot(x=dataframe[col_name])\n",
    "            plt.title(f'Outliers in {col_name}')\n",
    "            plt.show()\n",
    "        return True\n",
    "    else:\n",
    "        return False"
   ]
  },
  {
   "cell_type": "code",
   "execution_count": 54,
   "id": "439e0220",
   "metadata": {
    "execution": {
     "iopub.execute_input": "2023-07-31T20:33:51.829394Z",
     "iopub.status.busy": "2023-07-31T20:33:51.828973Z",
     "iopub.status.idle": "2023-07-31T20:33:51.834976Z",
     "shell.execute_reply": "2023-07-31T20:33:51.834187Z"
    },
    "papermill": {
     "duration": 0.060381,
     "end_time": "2023-07-31T20:33:51.836967",
     "exception": false,
     "start_time": "2023-07-31T20:33:51.776586",
     "status": "completed"
    },
    "tags": []
   },
   "outputs": [],
   "source": [
    "def replace_with_thresholds(dataframe, variable, q1=0.05, q3=0.95):\n",
    "    low_limit, up_limit = outlier_thresholds(dataframe, variable, q1=0.05, q3=0.95)\n",
    "    dataframe.loc[(dataframe[variable] < low_limit), variable] = low_limit\n",
    "    dataframe.loc[(dataframe[variable] > up_limit), variable] = up_limit"
   ]
  },
  {
   "cell_type": "code",
   "execution_count": 55,
   "id": "8a498823",
   "metadata": {
    "execution": {
     "iopub.execute_input": "2023-07-31T20:33:51.942289Z",
     "iopub.status.busy": "2023-07-31T20:33:51.941836Z",
     "iopub.status.idle": "2023-07-31T20:33:52.453777Z",
     "shell.execute_reply": "2023-07-31T20:33:52.452690Z"
    },
    "papermill": {
     "duration": 0.566717,
     "end_time": "2023-07-31T20:33:52.456371",
     "exception": false,
     "start_time": "2023-07-31T20:33:51.889654",
     "status": "completed"
    },
    "tags": []
   },
   "outputs": [
    {
     "name": "stdout",
     "output_type": "stream",
     "text": [
      "Age False\n"
     ]
    },
    {
     "data": {
      "image/png": "[encoded data removed]",
      "text/plain": [
       "<Figure size 800x600 with 1 Axes>"
      ]
     },
     "metadata": {},
     "output_type": "display_data"
    },
    {
     "name": "stdout",
     "output_type": "stream",
     "text": [
      "Fare True\n"
     ]
    },
    {
     "data": {
      "image/png": "[encoded data removed]",
      "text/plain": [
       "<Figure size 800x600 with 1 Axes>"
      ]
     },
     "metadata": {},
     "output_type": "display_data"
    }
   ],
   "source": [
    "for col in ['Age', 'Fare']:\n",
    "    print(col, check_outlier(df, col, plot=True))\n",
    "    if check_outlier(df, col, plot=True):\n",
    "        replace_with_thresholds(df, col)"
   ]
  },
  {
   "cell_type": "code",
   "execution_count": 56,
   "id": "61472d62",
   "metadata": {
    "execution": {
     "iopub.execute_input": "2023-07-31T20:33:52.579392Z",
     "iopub.status.busy": "2023-07-31T20:33:52.579006Z",
     "iopub.status.idle": "2023-07-31T20:33:52.593322Z",
     "shell.execute_reply": "2023-07-31T20:33:52.592094Z"
    },
    "papermill": {
     "duration": 0.069985,
     "end_time": "2023-07-31T20:33:52.596169",
     "exception": false,
     "start_time": "2023-07-31T20:33:52.526184",
     "status": "completed"
    },
    "tags": []
   },
   "outputs": [
    {
     "name": "stdout",
     "output_type": "stream",
     "text": [
      "Age False\n",
      "Fare False\n"
     ]
    }
   ],
   "source": [
    "for col in ['Age', 'Fare']:\n",
    "    print(col, check_outlier(df, col))"
   ]
  },
  {
   "cell_type": "markdown",
   "id": "f43e446e",
   "metadata": {
    "papermill": {
     "duration": 0.053624,
     "end_time": "2023-07-31T20:33:52.704028",
     "exception": false,
     "start_time": "2023-07-31T20:33:52.650404",
     "status": "completed"
    },
    "tags": []
   },
   "source": [
    "# 15. Feature Extraction"
   ]
  },
  {
   "cell_type": "code",
   "execution_count": 57,
   "id": "f65a075d",
   "metadata": {
    "execution": {
     "iopub.execute_input": "2023-07-31T20:33:52.811009Z",
     "iopub.status.busy": "2023-07-31T20:33:52.810350Z",
     "iopub.status.idle": "2023-07-31T20:33:52.815955Z",
     "shell.execute_reply": "2023-07-31T20:33:52.815111Z"
    },
    "papermill": {
     "duration": 0.061258,
     "end_time": "2023-07-31T20:33:52.818057",
     "exception": false,
     "start_time": "2023-07-31T20:33:52.756799",
     "status": "completed"
    },
    "tags": []
   },
   "outputs": [],
   "source": [
    "df[\"TotalFamily\"] = df[\"SibSp\"] + df[\"Parch\"]"
   ]
  },
  {
   "cell_type": "code",
   "execution_count": 58,
   "id": "ba3e6f81",
   "metadata": {
    "execution": {
     "iopub.execute_input": "2023-07-31T20:33:52.922801Z",
     "iopub.status.busy": "2023-07-31T20:33:52.922006Z",
     "iopub.status.idle": "2023-07-31T20:33:52.928082Z",
     "shell.execute_reply": "2023-07-31T20:33:52.927250Z"
    },
    "papermill": {
     "duration": 0.060816,
     "end_time": "2023-07-31T20:33:52.930368",
     "exception": false,
     "start_time": "2023-07-31T20:33:52.869552",
     "status": "completed"
    },
    "tags": []
   },
   "outputs": [],
   "source": [
    "df['Alone'] = (df['SibSp']==0) & (df['Parch']==0)\n"
   ]
  },
  {
   "cell_type": "code",
   "execution_count": 59,
   "id": "f4c4db4d",
   "metadata": {
    "execution": {
     "iopub.execute_input": "2023-07-31T20:33:53.038528Z",
     "iopub.status.busy": "2023-07-31T20:33:53.037829Z",
     "iopub.status.idle": "2023-07-31T20:33:53.045225Z",
     "shell.execute_reply": "2023-07-31T20:33:53.044390Z"
    },
    "papermill": {
     "duration": 0.065291,
     "end_time": "2023-07-31T20:33:53.047420",
     "exception": false,
     "start_time": "2023-07-31T20:33:52.982129",
     "status": "completed"
    },
    "tags": []
   },
   "outputs": [],
   "source": [
    "bins= [0,2,17,65,100]\n",
    "labels = ['Baby','Child','Adult','Elderly']\n",
    "df['AgeGroup'] = pd.cut(df['Age'], bins=bins, labels=labels, right=False)\n"
   ]
  },
  {
   "cell_type": "code",
   "execution_count": 60,
   "id": "5857c46f",
   "metadata": {
    "execution": {
     "iopub.execute_input": "2023-07-31T20:33:53.152659Z",
     "iopub.status.busy": "2023-07-31T20:33:53.151929Z",
     "iopub.status.idle": "2023-07-31T20:33:53.159236Z",
     "shell.execute_reply": "2023-07-31T20:33:53.158439Z"
    },
    "papermill": {
     "duration": 0.061155,
     "end_time": "2023-07-31T20:33:53.161426",
     "exception": false,
     "start_time": "2023-07-31T20:33:53.100271",
     "status": "completed"
    },
    "tags": []
   },
   "outputs": [],
   "source": [
    "bins= [-1,130,260,390,520]\n",
    "labels = ['Low','Medium','High','Very High']\n",
    "df['FareGroup'] = pd.cut(df['Fare'], bins=bins, labels=labels, right=True)\n"
   ]
  },
  {
   "cell_type": "code",
   "execution_count": 61,
   "id": "fac43c67",
   "metadata": {
    "execution": {
     "iopub.execute_input": "2023-07-31T20:33:53.267534Z",
     "iopub.status.busy": "2023-07-31T20:33:53.267125Z",
     "iopub.status.idle": "2023-07-31T20:33:53.285371Z",
     "shell.execute_reply": "2023-07-31T20:33:53.284451Z"
    },
    "papermill": {
     "duration": 0.074008,
     "end_time": "2023-07-31T20:33:53.287489",
     "exception": false,
     "start_time": "2023-07-31T20:33:53.213481",
     "status": "completed"
    },
    "tags": []
   },
   "outputs": [
    {
     "data": {
      "text/html": [
       "<div>\n",
       "<style scoped>\n",
       "    .dataframe tbody tr th:only-of-type {\n",
       "        vertical-align: middle;\n",
       "    }\n",
       "\n",
       "    .dataframe tbody tr th {\n",
       "        vertical-align: top;\n",
       "    }\n",
       "\n",
       "    .dataframe thead th {\n",
       "        text-align: right;\n",
       "    }\n",
       "</style>\n",
       "<table border=\"1\" class=\"dataframe\">\n",
       "  <thead>\n",
       "    <tr style=\"text-align: right;\">\n",
       "      <th></th>\n",
       "      <th>Survived</th>\n",
       "      <th>Pclass</th>\n",
       "      <th>Sex</th>\n",
       "      <th>Age</th>\n",
       "      <th>SibSp</th>\n",
       "      <th>Parch</th>\n",
       "      <th>Fare</th>\n",
       "      <th>Embarked</th>\n",
       "      <th>TotalFamily</th>\n",
       "      <th>Alone</th>\n",
       "      <th>AgeGroup</th>\n",
       "      <th>FareGroup</th>\n",
       "    </tr>\n",
       "  </thead>\n",
       "  <tbody>\n",
       "    <tr>\n",
       "      <th>0</th>\n",
       "      <td>0.000</td>\n",
       "      <td>3</td>\n",
       "      <td>male</td>\n",
       "      <td>22.000</td>\n",
       "      <td>1</td>\n",
       "      <td>0</td>\n",
       "      <td>7.250</td>\n",
       "      <td>S</td>\n",
       "      <td>1</td>\n",
       "      <td>False</td>\n",
       "      <td>Adult</td>\n",
       "      <td>Low</td>\n",
       "    </tr>\n",
       "    <tr>\n",
       "      <th>1</th>\n",
       "      <td>1.000</td>\n",
       "      <td>1</td>\n",
       "      <td>female</td>\n",
       "      <td>38.000</td>\n",
       "      <td>1</td>\n",
       "      <td>0</td>\n",
       "      <td>71.283</td>\n",
       "      <td>C</td>\n",
       "      <td>1</td>\n",
       "      <td>False</td>\n",
       "      <td>Adult</td>\n",
       "      <td>Low</td>\n",
       "    </tr>\n",
       "    <tr>\n",
       "      <th>2</th>\n",
       "      <td>1.000</td>\n",
       "      <td>3</td>\n",
       "      <td>female</td>\n",
       "      <td>26.000</td>\n",
       "      <td>0</td>\n",
       "      <td>0</td>\n",
       "      <td>7.925</td>\n",
       "      <td>S</td>\n",
       "      <td>0</td>\n",
       "      <td>True</td>\n",
       "      <td>Adult</td>\n",
       "      <td>Low</td>\n",
       "    </tr>\n",
       "    <tr>\n",
       "      <th>3</th>\n",
       "      <td>1.000</td>\n",
       "      <td>1</td>\n",
       "      <td>female</td>\n",
       "      <td>35.000</td>\n",
       "      <td>1</td>\n",
       "      <td>0</td>\n",
       "      <td>53.100</td>\n",
       "      <td>S</td>\n",
       "      <td>1</td>\n",
       "      <td>False</td>\n",
       "      <td>Adult</td>\n",
       "      <td>Low</td>\n",
       "    </tr>\n",
       "    <tr>\n",
       "      <th>4</th>\n",
       "      <td>0.000</td>\n",
       "      <td>3</td>\n",
       "      <td>male</td>\n",
       "      <td>35.000</td>\n",
       "      <td>0</td>\n",
       "      <td>0</td>\n",
       "      <td>8.050</td>\n",
       "      <td>S</td>\n",
       "      <td>0</td>\n",
       "      <td>True</td>\n",
       "      <td>Adult</td>\n",
       "      <td>Low</td>\n",
       "    </tr>\n",
       "  </tbody>\n",
       "</table>\n",
       "</div>"
      ],
      "text/plain": [
       "   Survived  Pclass     Sex    Age  SibSp  Parch   Fare Embarked  TotalFamily  \\\n",
       "0     0.000       3    male 22.000      1      0  7.250        S            1   \n",
       "1     1.000       1  female 38.000      1      0 71.283        C            1   \n",
       "2     1.000       3  female 26.000      0      0  7.925        S            0   \n",
       "3     1.000       1  female 35.000      1      0 53.100        S            1   \n",
       "4     0.000       3    male 35.000      0      0  8.050        S            0   \n",
       "\n",
       "   Alone AgeGroup FareGroup  \n",
       "0  False    Adult       Low  \n",
       "1  False    Adult       Low  \n",
       "2   True    Adult       Low  \n",
       "3  False    Adult       Low  \n",
       "4   True    Adult       Low  "
      ]
     },
     "execution_count": 61,
     "metadata": {},
     "output_type": "execute_result"
    }
   ],
   "source": [
    "df.head()"
   ]
  },
  {
   "cell_type": "code",
   "execution_count": 62,
   "id": "f9e31439",
   "metadata": {
    "execution": {
     "iopub.execute_input": "2023-07-31T20:33:53.394043Z",
     "iopub.status.busy": "2023-07-31T20:33:53.393260Z",
     "iopub.status.idle": "2023-07-31T20:33:53.406006Z",
     "shell.execute_reply": "2023-07-31T20:33:53.404501Z"
    },
    "papermill": {
     "duration": 0.068312,
     "end_time": "2023-07-31T20:33:53.408307",
     "exception": false,
     "start_time": "2023-07-31T20:33:53.339995",
     "status": "completed"
    },
    "tags": []
   },
   "outputs": [
    {
     "name": "stdout",
     "output_type": "stream",
     "text": [
      "Observations: 1309\n",
      "Variables: 12\n",
      "cat_cols: 10\n",
      "num_cols: 2\n",
      "cat_but_car: 0\n",
      "num_but_cat: 8\n"
     ]
    }
   ],
   "source": [
    "cat_cols, num_cols, cat_but_car,  num_but_cat = grab_col_names(df)"
   ]
  },
  {
   "cell_type": "code",
   "execution_count": 63,
   "id": "ece9cd3b",
   "metadata": {
    "execution": {
     "iopub.execute_input": "2023-07-31T20:33:53.514755Z",
     "iopub.status.busy": "2023-07-31T20:33:53.514055Z",
     "iopub.status.idle": "2023-07-31T20:33:53.520024Z",
     "shell.execute_reply": "2023-07-31T20:33:53.519235Z"
    },
    "papermill": {
     "duration": 0.061779,
     "end_time": "2023-07-31T20:33:53.522275",
     "exception": false,
     "start_time": "2023-07-31T20:33:53.460496",
     "status": "completed"
    },
    "tags": []
   },
   "outputs": [
    {
     "data": {
      "text/plain": [
       "['Sex',\n",
       " 'Embarked',\n",
       " 'Survived',\n",
       " 'Pclass',\n",
       " 'SibSp',\n",
       " 'Parch',\n",
       " 'TotalFamily',\n",
       " 'Alone',\n",
       " 'AgeGroup',\n",
       " 'FareGroup']"
      ]
     },
     "execution_count": 63,
     "metadata": {},
     "output_type": "execute_result"
    }
   ],
   "source": [
    "cat_cols"
   ]
  },
  {
   "cell_type": "code",
   "execution_count": 64,
   "id": "6c3236a6",
   "metadata": {
    "execution": {
     "iopub.execute_input": "2023-07-31T20:33:53.632505Z",
     "iopub.status.busy": "2023-07-31T20:33:53.631804Z",
     "iopub.status.idle": "2023-07-31T20:33:53.636115Z",
     "shell.execute_reply": "2023-07-31T20:33:53.635283Z"
    },
    "papermill": {
     "duration": 0.062682,
     "end_time": "2023-07-31T20:33:53.638227",
     "exception": false,
     "start_time": "2023-07-31T20:33:53.575545",
     "status": "completed"
    },
    "tags": []
   },
   "outputs": [],
   "source": [
    "cat_cols.remove(\"Survived\")"
   ]
  },
  {
   "cell_type": "code",
   "execution_count": 65,
   "id": "c5caa712",
   "metadata": {
    "execution": {
     "iopub.execute_input": "2023-07-31T20:33:53.746736Z",
     "iopub.status.busy": "2023-07-31T20:33:53.746067Z",
     "iopub.status.idle": "2023-07-31T20:33:53.751198Z",
     "shell.execute_reply": "2023-07-31T20:33:53.750261Z"
    },
    "papermill": {
     "duration": 0.061924,
     "end_time": "2023-07-31T20:33:53.753519",
     "exception": false,
     "start_time": "2023-07-31T20:33:53.691595",
     "status": "completed"
    },
    "tags": []
   },
   "outputs": [],
   "source": [
    "cat_cols = ['Pclass', 'SibSp', 'Parch', 'TotalFamily', 'Alone', 'AgeGroup', 'FareGroup', 'Embarked', ]"
   ]
  },
  {
   "cell_type": "code",
   "execution_count": 66,
   "id": "bd668e51",
   "metadata": {
    "execution": {
     "iopub.execute_input": "2023-07-31T20:33:53.863256Z",
     "iopub.status.busy": "2023-07-31T20:33:53.862591Z",
     "iopub.status.idle": "2023-07-31T20:33:53.868566Z",
     "shell.execute_reply": "2023-07-31T20:33:53.867436Z"
    },
    "papermill": {
     "duration": 0.063203,
     "end_time": "2023-07-31T20:33:53.870845",
     "exception": false,
     "start_time": "2023-07-31T20:33:53.807642",
     "status": "completed"
    },
    "tags": []
   },
   "outputs": [
    {
     "data": {
      "text/plain": [
       "['Age', 'Fare']"
      ]
     },
     "execution_count": 66,
     "metadata": {},
     "output_type": "execute_result"
    }
   ],
   "source": [
    "num_cols"
   ]
  },
  {
   "cell_type": "code",
   "execution_count": 67,
   "id": "071e17bb",
   "metadata": {
    "execution": {
     "iopub.execute_input": "2023-07-31T20:33:53.977000Z",
     "iopub.status.busy": "2023-07-31T20:33:53.976254Z",
     "iopub.status.idle": "2023-07-31T20:33:53.982280Z",
     "shell.execute_reply": "2023-07-31T20:33:53.981104Z"
    },
    "papermill": {
     "duration": 0.061584,
     "end_time": "2023-07-31T20:33:53.984533",
     "exception": false,
     "start_time": "2023-07-31T20:33:53.922949",
     "status": "completed"
    },
    "tags": []
   },
   "outputs": [
    {
     "data": {
      "text/plain": [
       "[]"
      ]
     },
     "execution_count": 67,
     "metadata": {},
     "output_type": "execute_result"
    }
   ],
   "source": [
    "cat_but_car"
   ]
  },
  {
   "cell_type": "code",
   "execution_count": 68,
   "id": "8d88c304",
   "metadata": {
    "execution": {
     "iopub.execute_input": "2023-07-31T20:33:54.093440Z",
     "iopub.status.busy": "2023-07-31T20:33:54.092642Z",
     "iopub.status.idle": "2023-07-31T20:33:54.099055Z",
     "shell.execute_reply": "2023-07-31T20:33:54.097731Z"
    },
    "papermill": {
     "duration": 0.063727,
     "end_time": "2023-07-31T20:33:54.101282",
     "exception": false,
     "start_time": "2023-07-31T20:33:54.037555",
     "status": "completed"
    },
    "tags": []
   },
   "outputs": [
    {
     "data": {
      "text/plain": [
       "['Survived',\n",
       " 'Pclass',\n",
       " 'SibSp',\n",
       " 'Parch',\n",
       " 'TotalFamily',\n",
       " 'Alone',\n",
       " 'AgeGroup',\n",
       " 'FareGroup']"
      ]
     },
     "execution_count": 68,
     "metadata": {},
     "output_type": "execute_result"
    }
   ],
   "source": [
    "num_but_cat"
   ]
  },
  {
   "cell_type": "markdown",
   "id": "ae256e84",
   "metadata": {
    "papermill": {
     "duration": 0.052073,
     "end_time": "2023-07-31T20:33:54.206359",
     "exception": false,
     "start_time": "2023-07-31T20:33:54.154286",
     "status": "completed"
    },
    "tags": []
   },
   "source": [
    "# 14. Encoding"
   ]
  },
  {
   "cell_type": "code",
   "execution_count": 69,
   "id": "ee5c1c0c",
   "metadata": {
    "execution": {
     "iopub.execute_input": "2023-07-31T20:33:54.314288Z",
     "iopub.status.busy": "2023-07-31T20:33:54.313848Z",
     "iopub.status.idle": "2023-07-31T20:33:54.319116Z",
     "shell.execute_reply": "2023-07-31T20:33:54.318186Z"
    },
    "papermill": {
     "duration": 0.062085,
     "end_time": "2023-07-31T20:33:54.321230",
     "exception": false,
     "start_time": "2023-07-31T20:33:54.259145",
     "status": "completed"
    },
    "tags": []
   },
   "outputs": [],
   "source": [
    "# Label Encoding\n",
    "\n",
    "def label_encoder(dataframe, binary_col):\n",
    "    labelencoder = LabelEncoder()\n",
    "    dataframe[binary_col] = labelencoder.fit_transform(dataframe[binary_col])\n",
    "    return dataframe"
   ]
  },
  {
   "cell_type": "code",
   "execution_count": 70,
   "id": "e7ff1bb0",
   "metadata": {
    "execution": {
     "iopub.execute_input": "2023-07-31T20:33:54.429657Z",
     "iopub.status.busy": "2023-07-31T20:33:54.428953Z",
     "iopub.status.idle": "2023-07-31T20:33:54.434415Z",
     "shell.execute_reply": "2023-07-31T20:33:54.433639Z"
    },
    "papermill": {
     "duration": 0.062407,
     "end_time": "2023-07-31T20:33:54.436713",
     "exception": false,
     "start_time": "2023-07-31T20:33:54.374306",
     "status": "completed"
    },
    "tags": []
   },
   "outputs": [],
   "source": [
    "binary_cols = [col for col in df.columns if df[col].dtypes == \"O\" and df[col].nunique() == 2]"
   ]
  },
  {
   "cell_type": "code",
   "execution_count": 71,
   "id": "b4bebb1d",
   "metadata": {
    "execution": {
     "iopub.execute_input": "2023-07-31T20:33:54.547935Z",
     "iopub.status.busy": "2023-07-31T20:33:54.547143Z",
     "iopub.status.idle": "2023-07-31T20:33:54.553172Z",
     "shell.execute_reply": "2023-07-31T20:33:54.552385Z"
    },
    "papermill": {
     "duration": 0.063036,
     "end_time": "2023-07-31T20:33:54.555222",
     "exception": false,
     "start_time": "2023-07-31T20:33:54.492186",
     "status": "completed"
    },
    "tags": []
   },
   "outputs": [
    {
     "data": {
      "text/plain": [
       "['Sex']"
      ]
     },
     "execution_count": 71,
     "metadata": {},
     "output_type": "execute_result"
    }
   ],
   "source": [
    "binary_cols"
   ]
  },
  {
   "cell_type": "code",
   "execution_count": 72,
   "id": "9bf2677b",
   "metadata": {
    "execution": {
     "iopub.execute_input": "2023-07-31T20:33:54.666969Z",
     "iopub.status.busy": "2023-07-31T20:33:54.666182Z",
     "iopub.status.idle": "2023-07-31T20:33:54.671724Z",
     "shell.execute_reply": "2023-07-31T20:33:54.671022Z"
    },
    "papermill": {
     "duration": 0.064885,
     "end_time": "2023-07-31T20:33:54.674096",
     "exception": false,
     "start_time": "2023-07-31T20:33:54.609211",
     "status": "completed"
    },
    "tags": []
   },
   "outputs": [],
   "source": [
    "for col in binary_cols:\n",
    "    df = label_encoder(df, col)"
   ]
  },
  {
   "cell_type": "code",
   "execution_count": 73,
   "id": "033c8412",
   "metadata": {
    "execution": {
     "iopub.execute_input": "2023-07-31T20:33:54.782947Z",
     "iopub.status.busy": "2023-07-31T20:33:54.782181Z",
     "iopub.status.idle": "2023-07-31T20:33:54.796834Z",
     "shell.execute_reply": "2023-07-31T20:33:54.796066Z"
    },
    "papermill": {
     "duration": 0.071803,
     "end_time": "2023-07-31T20:33:54.799121",
     "exception": false,
     "start_time": "2023-07-31T20:33:54.727318",
     "status": "completed"
    },
    "tags": []
   },
   "outputs": [
    {
     "data": {
      "text/html": [
       "<div>\n",
       "<style scoped>\n",
       "    .dataframe tbody tr th:only-of-type {\n",
       "        vertical-align: middle;\n",
       "    }\n",
       "\n",
       "    .dataframe tbody tr th {\n",
       "        vertical-align: top;\n",
       "    }\n",
       "\n",
       "    .dataframe thead th {\n",
       "        text-align: right;\n",
       "    }\n",
       "</style>\n",
       "<table border=\"1\" class=\"dataframe\">\n",
       "  <thead>\n",
       "    <tr style=\"text-align: right;\">\n",
       "      <th></th>\n",
       "      <th>Survived</th>\n",
       "      <th>Pclass</th>\n",
       "      <th>Sex</th>\n",
       "      <th>Age</th>\n",
       "      <th>SibSp</th>\n",
       "      <th>Parch</th>\n",
       "      <th>Fare</th>\n",
       "      <th>Embarked</th>\n",
       "      <th>TotalFamily</th>\n",
       "      <th>Alone</th>\n",
       "      <th>AgeGroup</th>\n",
       "      <th>FareGroup</th>\n",
       "    </tr>\n",
       "  </thead>\n",
       "  <tbody>\n",
       "    <tr>\n",
       "      <th>0</th>\n",
       "      <td>0.000</td>\n",
       "      <td>3</td>\n",
       "      <td>1</td>\n",
       "      <td>22.000</td>\n",
       "      <td>1</td>\n",
       "      <td>0</td>\n",
       "      <td>7.250</td>\n",
       "      <td>S</td>\n",
       "      <td>1</td>\n",
       "      <td>False</td>\n",
       "      <td>Adult</td>\n",
       "      <td>Low</td>\n",
       "    </tr>\n",
       "    <tr>\n",
       "      <th>1</th>\n",
       "      <td>1.000</td>\n",
       "      <td>1</td>\n",
       "      <td>0</td>\n",
       "      <td>38.000</td>\n",
       "      <td>1</td>\n",
       "      <td>0</td>\n",
       "      <td>71.283</td>\n",
       "      <td>C</td>\n",
       "      <td>1</td>\n",
       "      <td>False</td>\n",
       "      <td>Adult</td>\n",
       "      <td>Low</td>\n",
       "    </tr>\n",
       "    <tr>\n",
       "      <th>2</th>\n",
       "      <td>1.000</td>\n",
       "      <td>3</td>\n",
       "      <td>0</td>\n",
       "      <td>26.000</td>\n",
       "      <td>0</td>\n",
       "      <td>0</td>\n",
       "      <td>7.925</td>\n",
       "      <td>S</td>\n",
       "      <td>0</td>\n",
       "      <td>True</td>\n",
       "      <td>Adult</td>\n",
       "      <td>Low</td>\n",
       "    </tr>\n",
       "    <tr>\n",
       "      <th>3</th>\n",
       "      <td>1.000</td>\n",
       "      <td>1</td>\n",
       "      <td>0</td>\n",
       "      <td>35.000</td>\n",
       "      <td>1</td>\n",
       "      <td>0</td>\n",
       "      <td>53.100</td>\n",
       "      <td>S</td>\n",
       "      <td>1</td>\n",
       "      <td>False</td>\n",
       "      <td>Adult</td>\n",
       "      <td>Low</td>\n",
       "    </tr>\n",
       "    <tr>\n",
       "      <th>4</th>\n",
       "      <td>0.000</td>\n",
       "      <td>3</td>\n",
       "      <td>1</td>\n",
       "      <td>35.000</td>\n",
       "      <td>0</td>\n",
       "      <td>0</td>\n",
       "      <td>8.050</td>\n",
       "      <td>S</td>\n",
       "      <td>0</td>\n",
       "      <td>True</td>\n",
       "      <td>Adult</td>\n",
       "      <td>Low</td>\n",
       "    </tr>\n",
       "  </tbody>\n",
       "</table>\n",
       "</div>"
      ],
      "text/plain": [
       "   Survived  Pclass  Sex    Age  SibSp  Parch   Fare Embarked  TotalFamily  \\\n",
       "0     0.000       3    1 22.000      1      0  7.250        S            1   \n",
       "1     1.000       1    0 38.000      1      0 71.283        C            1   \n",
       "2     1.000       3    0 26.000      0      0  7.925        S            0   \n",
       "3     1.000       1    0 35.000      1      0 53.100        S            1   \n",
       "4     0.000       3    1 35.000      0      0  8.050        S            0   \n",
       "\n",
       "   Alone AgeGroup FareGroup  \n",
       "0  False    Adult       Low  \n",
       "1  False    Adult       Low  \n",
       "2   True    Adult       Low  \n",
       "3  False    Adult       Low  \n",
       "4   True    Adult       Low  "
      ]
     },
     "execution_count": 73,
     "metadata": {},
     "output_type": "execute_result"
    }
   ],
   "source": [
    "df.head()"
   ]
  },
  {
   "cell_type": "code",
   "execution_count": 74,
   "id": "bfc95849",
   "metadata": {
    "execution": {
     "iopub.execute_input": "2023-07-31T20:33:54.909525Z",
     "iopub.status.busy": "2023-07-31T20:33:54.908865Z",
     "iopub.status.idle": "2023-07-31T20:33:54.913172Z",
     "shell.execute_reply": "2023-07-31T20:33:54.912121Z"
    },
    "papermill": {
     "duration": 0.062502,
     "end_time": "2023-07-31T20:33:54.915643",
     "exception": false,
     "start_time": "2023-07-31T20:33:54.853141",
     "status": "completed"
    },
    "tags": []
   },
   "outputs": [],
   "source": [
    "# One-Hot Encoding"
   ]
  },
  {
   "cell_type": "code",
   "execution_count": 75,
   "id": "7e6e83e2",
   "metadata": {
    "execution": {
     "iopub.execute_input": "2023-07-31T20:33:55.031815Z",
     "iopub.status.busy": "2023-07-31T20:33:55.031131Z",
     "iopub.status.idle": "2023-07-31T20:33:55.035731Z",
     "shell.execute_reply": "2023-07-31T20:33:55.034941Z"
    },
    "papermill": {
     "duration": 0.067556,
     "end_time": "2023-07-31T20:33:55.037873",
     "exception": false,
     "start_time": "2023-07-31T20:33:54.970317",
     "status": "completed"
    },
    "tags": []
   },
   "outputs": [],
   "source": [
    "#cat_cols.remove(\"Sex\")"
   ]
  },
  {
   "cell_type": "code",
   "execution_count": 76,
   "id": "6dc24cb7",
   "metadata": {
    "execution": {
     "iopub.execute_input": "2023-07-31T20:33:55.144487Z",
     "iopub.status.busy": "2023-07-31T20:33:55.143840Z",
     "iopub.status.idle": "2023-07-31T20:33:55.150522Z",
     "shell.execute_reply": "2023-07-31T20:33:55.149600Z"
    },
    "papermill": {
     "duration": 0.062087,
     "end_time": "2023-07-31T20:33:55.152539",
     "exception": false,
     "start_time": "2023-07-31T20:33:55.090452",
     "status": "completed"
    },
    "tags": []
   },
   "outputs": [
    {
     "data": {
      "text/plain": [
       "['Pclass',\n",
       " 'SibSp',\n",
       " 'Parch',\n",
       " 'TotalFamily',\n",
       " 'Alone',\n",
       " 'AgeGroup',\n",
       " 'FareGroup',\n",
       " 'Embarked']"
      ]
     },
     "execution_count": 76,
     "metadata": {},
     "output_type": "execute_result"
    }
   ],
   "source": [
    "cat_cols"
   ]
  },
  {
   "cell_type": "code",
   "execution_count": 77,
   "id": "12b285cc",
   "metadata": {
    "execution": {
     "iopub.execute_input": "2023-07-31T20:33:55.259354Z",
     "iopub.status.busy": "2023-07-31T20:33:55.258860Z",
     "iopub.status.idle": "2023-07-31T20:33:55.264989Z",
     "shell.execute_reply": "2023-07-31T20:33:55.263860Z"
    },
    "papermill": {
     "duration": 0.062787,
     "end_time": "2023-07-31T20:33:55.267226",
     "exception": false,
     "start_time": "2023-07-31T20:33:55.204439",
     "status": "completed"
    },
    "tags": []
   },
   "outputs": [],
   "source": [
    "def one_hot_encoder(dataframe, categorical_cols, drop_first=False):\n",
    "    dataframe = pd.get_dummies(dataframe, columns=categorical_cols, drop_first=drop_first)\n",
    "    return dataframe"
   ]
  },
  {
   "cell_type": "code",
   "execution_count": 78,
   "id": "0fed0f3f",
   "metadata": {
    "execution": {
     "iopub.execute_input": "2023-07-31T20:33:55.376368Z",
     "iopub.status.busy": "2023-07-31T20:33:55.375624Z",
     "iopub.status.idle": "2023-07-31T20:33:55.389892Z",
     "shell.execute_reply": "2023-07-31T20:33:55.388706Z"
    },
    "papermill": {
     "duration": 0.071632,
     "end_time": "2023-07-31T20:33:55.392679",
     "exception": false,
     "start_time": "2023-07-31T20:33:55.321047",
     "status": "completed"
    },
    "tags": []
   },
   "outputs": [],
   "source": [
    "df = one_hot_encoder(df, cat_cols, drop_first=True)"
   ]
  },
  {
   "cell_type": "code",
   "execution_count": 79,
   "id": "614f1f1a",
   "metadata": {
    "execution": {
     "iopub.execute_input": "2023-07-31T20:33:55.502687Z",
     "iopub.status.busy": "2023-07-31T20:33:55.502272Z",
     "iopub.status.idle": "2023-07-31T20:33:55.530138Z",
     "shell.execute_reply": "2023-07-31T20:33:55.529305Z"
    },
    "papermill": {
     "duration": 0.084339,
     "end_time": "2023-07-31T20:33:55.532230",
     "exception": false,
     "start_time": "2023-07-31T20:33:55.447891",
     "status": "completed"
    },
    "tags": []
   },
   "outputs": [
    {
     "data": {
      "text/html": [
       "<div>\n",
       "<style scoped>\n",
       "    .dataframe tbody tr th:only-of-type {\n",
       "        vertical-align: middle;\n",
       "    }\n",
       "\n",
       "    .dataframe tbody tr th {\n",
       "        vertical-align: top;\n",
       "    }\n",
       "\n",
       "    .dataframe thead th {\n",
       "        text-align: right;\n",
       "    }\n",
       "</style>\n",
       "<table border=\"1\" class=\"dataframe\">\n",
       "  <thead>\n",
       "    <tr style=\"text-align: right;\">\n",
       "      <th></th>\n",
       "      <th>Survived</th>\n",
       "      <th>Sex</th>\n",
       "      <th>Age</th>\n",
       "      <th>Fare</th>\n",
       "      <th>Pclass_2</th>\n",
       "      <th>Pclass_3</th>\n",
       "      <th>SibSp_1</th>\n",
       "      <th>SibSp_2</th>\n",
       "      <th>SibSp_3</th>\n",
       "      <th>SibSp_4</th>\n",
       "      <th>SibSp_5</th>\n",
       "      <th>SibSp_8</th>\n",
       "      <th>Parch_1</th>\n",
       "      <th>Parch_2</th>\n",
       "      <th>Parch_3</th>\n",
       "      <th>Parch_4</th>\n",
       "      <th>Parch_5</th>\n",
       "      <th>Parch_6</th>\n",
       "      <th>Parch_9</th>\n",
       "      <th>TotalFamily_1</th>\n",
       "      <th>TotalFamily_2</th>\n",
       "      <th>TotalFamily_3</th>\n",
       "      <th>TotalFamily_4</th>\n",
       "      <th>TotalFamily_5</th>\n",
       "      <th>TotalFamily_6</th>\n",
       "      <th>TotalFamily_7</th>\n",
       "      <th>TotalFamily_10</th>\n",
       "      <th>Alone_True</th>\n",
       "      <th>AgeGroup_Child</th>\n",
       "      <th>AgeGroup_Adult</th>\n",
       "      <th>AgeGroup_Elderly</th>\n",
       "      <th>FareGroup_Medium</th>\n",
       "      <th>FareGroup_High</th>\n",
       "      <th>FareGroup_Very High</th>\n",
       "      <th>Embarked_Q</th>\n",
       "      <th>Embarked_S</th>\n",
       "    </tr>\n",
       "  </thead>\n",
       "  <tbody>\n",
       "    <tr>\n",
       "      <th>0</th>\n",
       "      <td>0.000</td>\n",
       "      <td>1</td>\n",
       "      <td>22.000</td>\n",
       "      <td>7.250</td>\n",
       "      <td>0</td>\n",
       "      <td>1</td>\n",
       "      <td>1</td>\n",
       "      <td>0</td>\n",
       "      <td>0</td>\n",
       "      <td>0</td>\n",
       "      <td>0</td>\n",
       "      <td>0</td>\n",
       "      <td>0</td>\n",
       "      <td>0</td>\n",
       "      <td>0</td>\n",
       "      <td>0</td>\n",
       "      <td>0</td>\n",
       "      <td>0</td>\n",
       "      <td>0</td>\n",
       "      <td>1</td>\n",
       "      <td>0</td>\n",
       "      <td>0</td>\n",
       "      <td>0</td>\n",
       "      <td>0</td>\n",
       "      <td>0</td>\n",
       "      <td>0</td>\n",
       "      <td>0</td>\n",
       "      <td>0</td>\n",
       "      <td>0</td>\n",
       "      <td>1</td>\n",
       "      <td>0</td>\n",
       "      <td>0</td>\n",
       "      <td>0</td>\n",
       "      <td>0</td>\n",
       "      <td>0</td>\n",
       "      <td>1</td>\n",
       "    </tr>\n",
       "    <tr>\n",
       "      <th>1</th>\n",
       "      <td>1.000</td>\n",
       "      <td>0</td>\n",
       "      <td>38.000</td>\n",
       "      <td>71.283</td>\n",
       "      <td>0</td>\n",
       "      <td>0</td>\n",
       "      <td>1</td>\n",
       "      <td>0</td>\n",
       "      <td>0</td>\n",
       "      <td>0</td>\n",
       "      <td>0</td>\n",
       "      <td>0</td>\n",
       "      <td>0</td>\n",
       "      <td>0</td>\n",
       "      <td>0</td>\n",
       "      <td>0</td>\n",
       "      <td>0</td>\n",
       "      <td>0</td>\n",
       "      <td>0</td>\n",
       "      <td>1</td>\n",
       "      <td>0</td>\n",
       "      <td>0</td>\n",
       "      <td>0</td>\n",
       "      <td>0</td>\n",
       "      <td>0</td>\n",
       "      <td>0</td>\n",
       "      <td>0</td>\n",
       "      <td>0</td>\n",
       "      <td>0</td>\n",
       "      <td>1</td>\n",
       "      <td>0</td>\n",
       "      <td>0</td>\n",
       "      <td>0</td>\n",
       "      <td>0</td>\n",
       "      <td>0</td>\n",
       "      <td>0</td>\n",
       "    </tr>\n",
       "    <tr>\n",
       "      <th>2</th>\n",
       "      <td>1.000</td>\n",
       "      <td>0</td>\n",
       "      <td>26.000</td>\n",
       "      <td>7.925</td>\n",
       "      <td>0</td>\n",
       "      <td>1</td>\n",
       "      <td>0</td>\n",
       "      <td>0</td>\n",
       "      <td>0</td>\n",
       "      <td>0</td>\n",
       "      <td>0</td>\n",
       "      <td>0</td>\n",
       "      <td>0</td>\n",
       "      <td>0</td>\n",
       "      <td>0</td>\n",
       "      <td>0</td>\n",
       "      <td>0</td>\n",
       "      <td>0</td>\n",
       "      <td>0</td>\n",
       "      <td>0</td>\n",
       "      <td>0</td>\n",
       "      <td>0</td>\n",
       "      <td>0</td>\n",
       "      <td>0</td>\n",
       "      <td>0</td>\n",
       "      <td>0</td>\n",
       "      <td>0</td>\n",
       "      <td>1</td>\n",
       "      <td>0</td>\n",
       "      <td>1</td>\n",
       "      <td>0</td>\n",
       "      <td>0</td>\n",
       "      <td>0</td>\n",
       "      <td>0</td>\n",
       "      <td>0</td>\n",
       "      <td>1</td>\n",
       "    </tr>\n",
       "    <tr>\n",
       "      <th>3</th>\n",
       "      <td>1.000</td>\n",
       "      <td>0</td>\n",
       "      <td>35.000</td>\n",
       "      <td>53.100</td>\n",
       "      <td>0</td>\n",
       "      <td>0</td>\n",
       "      <td>1</td>\n",
       "      <td>0</td>\n",
       "      <td>0</td>\n",
       "      <td>0</td>\n",
       "      <td>0</td>\n",
       "      <td>0</td>\n",
       "      <td>0</td>\n",
       "      <td>0</td>\n",
       "      <td>0</td>\n",
       "      <td>0</td>\n",
       "      <td>0</td>\n",
       "      <td>0</td>\n",
       "      <td>0</td>\n",
       "      <td>1</td>\n",
       "      <td>0</td>\n",
       "      <td>0</td>\n",
       "      <td>0</td>\n",
       "      <td>0</td>\n",
       "      <td>0</td>\n",
       "      <td>0</td>\n",
       "      <td>0</td>\n",
       "      <td>0</td>\n",
       "      <td>0</td>\n",
       "      <td>1</td>\n",
       "      <td>0</td>\n",
       "      <td>0</td>\n",
       "      <td>0</td>\n",
       "      <td>0</td>\n",
       "      <td>0</td>\n",
       "      <td>1</td>\n",
       "    </tr>\n",
       "    <tr>\n",
       "      <th>4</th>\n",
       "      <td>0.000</td>\n",
       "      <td>1</td>\n",
       "      <td>35.000</td>\n",
       "      <td>8.050</td>\n",
       "      <td>0</td>\n",
       "      <td>1</td>\n",
       "      <td>0</td>\n",
       "      <td>0</td>\n",
       "      <td>0</td>\n",
       "      <td>0</td>\n",
       "      <td>0</td>\n",
       "      <td>0</td>\n",
       "      <td>0</td>\n",
       "      <td>0</td>\n",
       "      <td>0</td>\n",
       "      <td>0</td>\n",
       "      <td>0</td>\n",
       "      <td>0</td>\n",
       "      <td>0</td>\n",
       "      <td>0</td>\n",
       "      <td>0</td>\n",
       "      <td>0</td>\n",
       "      <td>0</td>\n",
       "      <td>0</td>\n",
       "      <td>0</td>\n",
       "      <td>0</td>\n",
       "      <td>0</td>\n",
       "      <td>1</td>\n",
       "      <td>0</td>\n",
       "      <td>1</td>\n",
       "      <td>0</td>\n",
       "      <td>0</td>\n",
       "      <td>0</td>\n",
       "      <td>0</td>\n",
       "      <td>0</td>\n",
       "      <td>1</td>\n",
       "    </tr>\n",
       "    <tr>\n",
       "      <th>5</th>\n",
       "      <td>0.000</td>\n",
       "      <td>1</td>\n",
       "      <td>28.000</td>\n",
       "      <td>8.458</td>\n",
       "      <td>0</td>\n",
       "      <td>1</td>\n",
       "      <td>0</td>\n",
       "      <td>0</td>\n",
       "      <td>0</td>\n",
       "      <td>0</td>\n",
       "      <td>0</td>\n",
       "      <td>0</td>\n",
       "      <td>0</td>\n",
       "      <td>0</td>\n",
       "      <td>0</td>\n",
       "      <td>0</td>\n",
       "      <td>0</td>\n",
       "      <td>0</td>\n",
       "      <td>0</td>\n",
       "      <td>0</td>\n",
       "      <td>0</td>\n",
       "      <td>0</td>\n",
       "      <td>0</td>\n",
       "      <td>0</td>\n",
       "      <td>0</td>\n",
       "      <td>0</td>\n",
       "      <td>0</td>\n",
       "      <td>1</td>\n",
       "      <td>0</td>\n",
       "      <td>1</td>\n",
       "      <td>0</td>\n",
       "      <td>0</td>\n",
       "      <td>0</td>\n",
       "      <td>0</td>\n",
       "      <td>1</td>\n",
       "      <td>0</td>\n",
       "    </tr>\n",
       "    <tr>\n",
       "      <th>6</th>\n",
       "      <td>0.000</td>\n",
       "      <td>1</td>\n",
       "      <td>54.000</td>\n",
       "      <td>51.862</td>\n",
       "      <td>0</td>\n",
       "      <td>0</td>\n",
       "      <td>0</td>\n",
       "      <td>0</td>\n",
       "      <td>0</td>\n",
       "      <td>0</td>\n",
       "      <td>0</td>\n",
       "      <td>0</td>\n",
       "      <td>0</td>\n",
       "      <td>0</td>\n",
       "      <td>0</td>\n",
       "      <td>0</td>\n",
       "      <td>0</td>\n",
       "      <td>0</td>\n",
       "      <td>0</td>\n",
       "      <td>0</td>\n",
       "      <td>0</td>\n",
       "      <td>0</td>\n",
       "      <td>0</td>\n",
       "      <td>0</td>\n",
       "      <td>0</td>\n",
       "      <td>0</td>\n",
       "      <td>0</td>\n",
       "      <td>1</td>\n",
       "      <td>0</td>\n",
       "      <td>1</td>\n",
       "      <td>0</td>\n",
       "      <td>0</td>\n",
       "      <td>0</td>\n",
       "      <td>0</td>\n",
       "      <td>0</td>\n",
       "      <td>1</td>\n",
       "    </tr>\n",
       "    <tr>\n",
       "      <th>7</th>\n",
       "      <td>0.000</td>\n",
       "      <td>1</td>\n",
       "      <td>2.000</td>\n",
       "      <td>21.075</td>\n",
       "      <td>0</td>\n",
       "      <td>1</td>\n",
       "      <td>0</td>\n",
       "      <td>0</td>\n",
       "      <td>1</td>\n",
       "      <td>0</td>\n",
       "      <td>0</td>\n",
       "      <td>0</td>\n",
       "      <td>1</td>\n",
       "      <td>0</td>\n",
       "      <td>0</td>\n",
       "      <td>0</td>\n",
       "      <td>0</td>\n",
       "      <td>0</td>\n",
       "      <td>0</td>\n",
       "      <td>0</td>\n",
       "      <td>0</td>\n",
       "      <td>0</td>\n",
       "      <td>1</td>\n",
       "      <td>0</td>\n",
       "      <td>0</td>\n",
       "      <td>0</td>\n",
       "      <td>0</td>\n",
       "      <td>0</td>\n",
       "      <td>1</td>\n",
       "      <td>0</td>\n",
       "      <td>0</td>\n",
       "      <td>0</td>\n",
       "      <td>0</td>\n",
       "      <td>0</td>\n",
       "      <td>0</td>\n",
       "      <td>1</td>\n",
       "    </tr>\n",
       "    <tr>\n",
       "      <th>8</th>\n",
       "      <td>1.000</td>\n",
       "      <td>0</td>\n",
       "      <td>27.000</td>\n",
       "      <td>11.133</td>\n",
       "      <td>0</td>\n",
       "      <td>1</td>\n",
       "      <td>0</td>\n",
       "      <td>0</td>\n",
       "      <td>0</td>\n",
       "      <td>0</td>\n",
       "      <td>0</td>\n",
       "      <td>0</td>\n",
       "      <td>0</td>\n",
       "      <td>1</td>\n",
       "      <td>0</td>\n",
       "      <td>0</td>\n",
       "      <td>0</td>\n",
       "      <td>0</td>\n",
       "      <td>0</td>\n",
       "      <td>0</td>\n",
       "      <td>1</td>\n",
       "      <td>0</td>\n",
       "      <td>0</td>\n",
       "      <td>0</td>\n",
       "      <td>0</td>\n",
       "      <td>0</td>\n",
       "      <td>0</td>\n",
       "      <td>0</td>\n",
       "      <td>0</td>\n",
       "      <td>1</td>\n",
       "      <td>0</td>\n",
       "      <td>0</td>\n",
       "      <td>0</td>\n",
       "      <td>0</td>\n",
       "      <td>0</td>\n",
       "      <td>1</td>\n",
       "    </tr>\n",
       "    <tr>\n",
       "      <th>9</th>\n",
       "      <td>1.000</td>\n",
       "      <td>0</td>\n",
       "      <td>14.000</td>\n",
       "      <td>30.071</td>\n",
       "      <td>1</td>\n",
       "      <td>0</td>\n",
       "      <td>1</td>\n",
       "      <td>0</td>\n",
       "      <td>0</td>\n",
       "      <td>0</td>\n",
       "      <td>0</td>\n",
       "      <td>0</td>\n",
       "      <td>0</td>\n",
       "      <td>0</td>\n",
       "      <td>0</td>\n",
       "      <td>0</td>\n",
       "      <td>0</td>\n",
       "      <td>0</td>\n",
       "      <td>0</td>\n",
       "      <td>1</td>\n",
       "      <td>0</td>\n",
       "      <td>0</td>\n",
       "      <td>0</td>\n",
       "      <td>0</td>\n",
       "      <td>0</td>\n",
       "      <td>0</td>\n",
       "      <td>0</td>\n",
       "      <td>0</td>\n",
       "      <td>1</td>\n",
       "      <td>0</td>\n",
       "      <td>0</td>\n",
       "      <td>0</td>\n",
       "      <td>0</td>\n",
       "      <td>0</td>\n",
       "      <td>0</td>\n",
       "      <td>0</td>\n",
       "    </tr>\n",
       "  </tbody>\n",
       "</table>\n",
       "</div>"
      ],
      "text/plain": [
       "   Survived  Sex    Age   Fare  Pclass_2  Pclass_3  SibSp_1  SibSp_2  SibSp_3  \\\n",
       "0     0.000    1 22.000  7.250         0         1        1        0        0   \n",
       "1     1.000    0 38.000 71.283         0         0        1        0        0   \n",
       "2     1.000    0 26.000  7.925         0         1        0        0        0   \n",
       "3     1.000    0 35.000 53.100         0         0        1        0        0   \n",
       "4     0.000    1 35.000  8.050         0         1        0        0        0   \n",
       "5     0.000    1 28.000  8.458         0         1        0        0        0   \n",
       "6     0.000    1 54.000 51.862         0         0        0        0        0   \n",
       "7     0.000    1  2.000 21.075         0         1        0        0        1   \n",
       "8     1.000    0 27.000 11.133         0         1        0        0        0   \n",
       "9     1.000    0 14.000 30.071         1         0        1        0        0   \n",
       "\n",
       "   SibSp_4  SibSp_5  SibSp_8  Parch_1  Parch_2  Parch_3  Parch_4  Parch_5  \\\n",
       "0        0        0        0        0        0        0        0        0   \n",
       "1        0        0        0        0        0        0        0        0   \n",
       "2        0        0        0        0        0        0        0        0   \n",
       "3        0        0        0        0        0        0        0        0   \n",
       "4        0        0        0        0        0        0        0        0   \n",
       "5        0        0        0        0        0        0        0        0   \n",
       "6        0        0        0        0        0        0        0        0   \n",
       "7        0        0        0        1        0        0        0        0   \n",
       "8        0        0        0        0        1        0        0        0   \n",
       "9        0        0        0        0        0        0        0        0   \n",
       "\n",
       "   Parch_6  Parch_9  TotalFamily_1  TotalFamily_2  TotalFamily_3  \\\n",
       "0        0        0              1              0              0   \n",
       "1        0        0              1              0              0   \n",
       "2        0        0              0              0              0   \n",
       "3        0        0              1              0              0   \n",
       "4        0        0              0              0              0   \n",
       "5        0        0              0              0              0   \n",
       "6        0        0              0              0              0   \n",
       "7        0        0              0              0              0   \n",
       "8        0        0              0              1              0   \n",
       "9        0        0              1              0              0   \n",
       "\n",
       "   TotalFamily_4  TotalFamily_5  TotalFamily_6  TotalFamily_7  TotalFamily_10  \\\n",
       "0              0              0              0              0               0   \n",
       "1              0              0              0              0               0   \n",
       "2              0              0              0              0               0   \n",
       "3              0              0              0              0               0   \n",
       "4              0              0              0              0               0   \n",
       "5              0              0              0              0               0   \n",
       "6              0              0              0              0               0   \n",
       "7              1              0              0              0               0   \n",
       "8              0              0              0              0               0   \n",
       "9              0              0              0              0               0   \n",
       "\n",
       "   Alone_True  AgeGroup_Child  AgeGroup_Adult  AgeGroup_Elderly  \\\n",
       "0           0               0               1                 0   \n",
       "1           0               0               1                 0   \n",
       "2           1               0               1                 0   \n",
       "3           0               0               1                 0   \n",
       "4           1               0               1                 0   \n",
       "5           1               0               1                 0   \n",
       "6           1               0               1                 0   \n",
       "7           0               1               0                 0   \n",
       "8           0               0               1                 0   \n",
       "9           0               1               0                 0   \n",
       "\n",
       "   FareGroup_Medium  FareGroup_High  FareGroup_Very High  Embarked_Q  \\\n",
       "0                 0               0                    0           0   \n",
       "1                 0               0                    0           0   \n",
       "2                 0               0                    0           0   \n",
       "3                 0               0                    0           0   \n",
       "4                 0               0                    0           0   \n",
       "5                 0               0                    0           1   \n",
       "6                 0               0                    0           0   \n",
       "7                 0               0                    0           0   \n",
       "8                 0               0                    0           0   \n",
       "9                 0               0                    0           0   \n",
       "\n",
       "   Embarked_S  \n",
       "0           1  \n",
       "1           0  \n",
       "2           1  \n",
       "3           1  \n",
       "4           1  \n",
       "5           0  \n",
       "6           1  \n",
       "7           1  \n",
       "8           1  \n",
       "9           0  "
      ]
     },
     "execution_count": 79,
     "metadata": {},
     "output_type": "execute_result"
    }
   ],
   "source": [
    "df.head(10)"
   ]
  },
  {
   "cell_type": "markdown",
   "id": "fbdc0038",
   "metadata": {
    "papermill": {
     "duration": 0.057061,
     "end_time": "2023-07-31T20:33:55.644326",
     "exception": false,
     "start_time": "2023-07-31T20:33:55.587265",
     "status": "completed"
    },
    "tags": []
   },
   "source": [
    "# 15. Standardization"
   ]
  },
  {
   "cell_type": "code",
   "execution_count": 80,
   "id": "6fa6f9b4",
   "metadata": {
    "execution": {
     "iopub.execute_input": "2023-07-31T20:33:55.754331Z",
     "iopub.status.busy": "2023-07-31T20:33:55.753961Z",
     "iopub.status.idle": "2023-07-31T20:33:55.759136Z",
     "shell.execute_reply": "2023-07-31T20:33:55.757727Z"
    },
    "papermill": {
     "duration": 0.062332,
     "end_time": "2023-07-31T20:33:55.761516",
     "exception": false,
     "start_time": "2023-07-31T20:33:55.699184",
     "status": "completed"
    },
    "tags": []
   },
   "outputs": [],
   "source": [
    "#num_cols"
   ]
  },
  {
   "cell_type": "code",
   "execution_count": 81,
   "id": "9032f604",
   "metadata": {
    "execution": {
     "iopub.execute_input": "2023-07-31T20:33:55.871113Z",
     "iopub.status.busy": "2023-07-31T20:33:55.869656Z",
     "iopub.status.idle": "2023-07-31T20:33:55.874677Z",
     "shell.execute_reply": "2023-07-31T20:33:55.873821Z"
    },
    "papermill": {
     "duration": 0.062216,
     "end_time": "2023-07-31T20:33:55.876797",
     "exception": false,
     "start_time": "2023-07-31T20:33:55.814581",
     "status": "completed"
    },
    "tags": []
   },
   "outputs": [],
   "source": [
    "#num_cols = ['Age', 'Fare', \"Pclass\"]"
   ]
  },
  {
   "cell_type": "code",
   "execution_count": 82,
   "id": "55de481b",
   "metadata": {
    "execution": {
     "iopub.execute_input": "2023-07-31T20:33:55.986013Z",
     "iopub.status.busy": "2023-07-31T20:33:55.985178Z",
     "iopub.status.idle": "2023-07-31T20:33:55.990003Z",
     "shell.execute_reply": "2023-07-31T20:33:55.989148Z"
    },
    "papermill": {
     "duration": 0.062032,
     "end_time": "2023-07-31T20:33:55.992107",
     "exception": false,
     "start_time": "2023-07-31T20:33:55.930075",
     "status": "completed"
    },
    "tags": []
   },
   "outputs": [],
   "source": [
    "#scaler = StandardScaler()"
   ]
  },
  {
   "cell_type": "code",
   "execution_count": 83,
   "id": "1999c292",
   "metadata": {
    "execution": {
     "iopub.execute_input": "2023-07-31T20:33:56.101679Z",
     "iopub.status.busy": "2023-07-31T20:33:56.100904Z",
     "iopub.status.idle": "2023-07-31T20:33:56.105108Z",
     "shell.execute_reply": "2023-07-31T20:33:56.104298Z"
    },
    "papermill": {
     "duration": 0.061772,
     "end_time": "2023-07-31T20:33:56.107140",
     "exception": false,
     "start_time": "2023-07-31T20:33:56.045368",
     "status": "completed"
    },
    "tags": []
   },
   "outputs": [],
   "source": [
    "#df[num_cols] = scaler.fit_transform(df[num_cols])"
   ]
  },
  {
   "cell_type": "code",
   "execution_count": 84,
   "id": "3e5d78be",
   "metadata": {
    "execution": {
     "iopub.execute_input": "2023-07-31T20:33:56.218997Z",
     "iopub.status.busy": "2023-07-31T20:33:56.218307Z",
     "iopub.status.idle": "2023-07-31T20:33:56.223004Z",
     "shell.execute_reply": "2023-07-31T20:33:56.221843Z"
    },
    "papermill": {
     "duration": 0.063613,
     "end_time": "2023-07-31T20:33:56.225350",
     "exception": false,
     "start_time": "2023-07-31T20:33:56.161737",
     "status": "completed"
    },
    "tags": []
   },
   "outputs": [],
   "source": [
    "#df.head(10)"
   ]
  },
  {
   "cell_type": "markdown",
   "id": "66e3d320",
   "metadata": {
    "papermill": {
     "duration": 0.053941,
     "end_time": "2023-07-31T20:33:56.333795",
     "exception": false,
     "start_time": "2023-07-31T20:33:56.279854",
     "status": "completed"
    },
    "tags": []
   },
   "source": [
    "# 16. Modelling"
   ]
  },
  {
   "cell_type": "code",
   "execution_count": 85,
   "id": "7ac3aae9",
   "metadata": {
    "execution": {
     "iopub.execute_input": "2023-07-31T20:33:56.444861Z",
     "iopub.status.busy": "2023-07-31T20:33:56.443536Z",
     "iopub.status.idle": "2023-07-31T20:33:56.448759Z",
     "shell.execute_reply": "2023-07-31T20:33:56.448001Z"
    },
    "papermill": {
     "duration": 0.063212,
     "end_time": "2023-07-31T20:33:56.450925",
     "exception": false,
     "start_time": "2023-07-31T20:33:56.387713",
     "status": "completed"
    },
    "tags": []
   },
   "outputs": [],
   "source": [
    "# Separating Train and Test data\n",
    "\n",
    "train = df[:first_train]\n",
    "\n",
    "test_1 = df[first_train:]"
   ]
  },
  {
   "cell_type": "code",
   "execution_count": 86,
   "id": "38cae477",
   "metadata": {
    "execution": {
     "iopub.execute_input": "2023-07-31T20:33:56.561898Z",
     "iopub.status.busy": "2023-07-31T20:33:56.561210Z",
     "iopub.status.idle": "2023-07-31T20:33:56.569919Z",
     "shell.execute_reply": "2023-07-31T20:33:56.569102Z"
    },
    "papermill": {
     "duration": 0.067047,
     "end_time": "2023-07-31T20:33:56.572024",
     "exception": false,
     "start_time": "2023-07-31T20:33:56.504977",
     "status": "completed"
    },
    "tags": []
   },
   "outputs": [],
   "source": [
    "# Creating the Dependent Variable.\n",
    "\n",
    "y = train['Survived']\n",
    "\n",
    "# Creating Independent Variables.\n",
    "\n",
    "X = train.drop('Survived', axis=1)\n",
    "\n",
    "# Splitting the Data into Training and Test Sets\n",
    "\n",
    "X_train, X_test, y_train, y_test = train_test_split(X, y, test_size=0.30, random_state=17)"
   ]
  },
  {
   "cell_type": "code",
   "execution_count": 87,
   "id": "5132e4a7",
   "metadata": {
    "execution": {
     "iopub.execute_input": "2023-07-31T20:33:56.685848Z",
     "iopub.status.busy": "2023-07-31T20:33:56.685090Z",
     "iopub.status.idle": "2023-07-31T20:33:56.766702Z",
     "shell.execute_reply": "2023-07-31T20:33:56.765283Z"
    },
    "papermill": {
     "duration": 0.142745,
     "end_time": "2023-07-31T20:33:56.770691",
     "exception": false,
     "start_time": "2023-07-31T20:33:56.627946",
     "status": "completed"
    },
    "tags": []
   },
   "outputs": [
    {
     "data": {
      "text/plain": [
       "83.95"
      ]
     },
     "execution_count": 87,
     "metadata": {},
     "output_type": "execute_result"
    }
   ],
   "source": [
    "# Logistic Regression\n",
    "model = LogisticRegression()\n",
    "model.fit(X_train, y_train)\n",
    "Y_pred = model.predict(X_test)\n",
    "acc_log = round(model.score(X_train, y_train) * 100, 2)\n",
    "acc_log"
   ]
  },
  {
   "cell_type": "code",
   "execution_count": 88,
   "id": "131dd2d4",
   "metadata": {
    "execution": {
     "iopub.execute_input": "2023-07-31T20:33:56.941291Z",
     "iopub.status.busy": "2023-07-31T20:33:56.940883Z",
     "iopub.status.idle": "2023-07-31T20:33:58.038452Z",
     "shell.execute_reply": "2023-07-31T20:33:58.037595Z"
    },
    "papermill": {
     "duration": 1.156609,
     "end_time": "2023-07-31T20:33:58.041238",
     "exception": false,
     "start_time": "2023-07-31T20:33:56.884629",
     "status": "completed"
    },
    "tags": []
   },
   "outputs": [],
   "source": [
    "# CatBoost\n",
    "cb_model = CatBoostRegressor(loss_function='RMSE', logging_level='Silent')\n",
    "cb_model.fit(X_train, y_train)\n",
    "preds = cb_model.predict(X_test) "
   ]
  },
  {
   "cell_type": "code",
   "execution_count": 89,
   "id": "cbb39c00",
   "metadata": {
    "execution": {
     "iopub.execute_input": "2023-07-31T20:33:58.153398Z",
     "iopub.status.busy": "2023-07-31T20:33:58.152598Z",
     "iopub.status.idle": "2023-07-31T20:33:58.160492Z",
     "shell.execute_reply": "2023-07-31T20:33:58.159002Z"
    },
    "papermill": {
     "duration": 0.06701,
     "end_time": "2023-07-31T20:33:58.162924",
     "exception": false,
     "start_time": "2023-07-31T20:33:58.095914",
     "status": "completed"
    },
    "tags": []
   },
   "outputs": [
    {
     "name": "stdout",
     "output_type": "stream",
     "text": [
      "MAE: 0.25706398515642104\n",
      "MSE: 0.14852676651050584\n",
      "RMSE: 0.38539170529541217\n"
     ]
    }
   ],
   "source": [
    "print('MAE:', metrics.mean_absolute_error(y_test, preds))\n",
    "print('MSE:', metrics.mean_squared_error(y_test, preds))\n",
    "print('RMSE:', np.sqrt(metrics.mean_squared_error(y_test, preds)))"
   ]
  },
  {
   "cell_type": "code",
   "execution_count": 90,
   "id": "ee777ce2",
   "metadata": {
    "execution": {
     "iopub.execute_input": "2023-07-31T20:33:58.274962Z",
     "iopub.status.busy": "2023-07-31T20:33:58.274497Z",
     "iopub.status.idle": "2023-07-31T20:33:58.301814Z",
     "shell.execute_reply": "2023-07-31T20:33:58.300657Z"
    },
    "papermill": {
     "duration": 0.086438,
     "end_time": "2023-07-31T20:33:58.304369",
     "exception": false,
     "start_time": "2023-07-31T20:33:58.217931",
     "status": "completed"
    },
    "tags": []
   },
   "outputs": [
    {
     "data": {
      "text/html": [
       "<div>\n",
       "<style scoped>\n",
       "    .dataframe tbody tr th:only-of-type {\n",
       "        vertical-align: middle;\n",
       "    }\n",
       "\n",
       "    .dataframe tbody tr th {\n",
       "        vertical-align: top;\n",
       "    }\n",
       "\n",
       "    .dataframe thead th {\n",
       "        text-align: right;\n",
       "    }\n",
       "</style>\n",
       "<table border=\"1\" class=\"dataframe\">\n",
       "  <thead>\n",
       "    <tr style=\"text-align: right;\">\n",
       "      <th></th>\n",
       "      <th>Survived</th>\n",
       "      <th>Sex</th>\n",
       "      <th>Age</th>\n",
       "      <th>Fare</th>\n",
       "      <th>Pclass_2</th>\n",
       "      <th>Pclass_3</th>\n",
       "      <th>SibSp_1</th>\n",
       "      <th>SibSp_2</th>\n",
       "      <th>SibSp_3</th>\n",
       "      <th>SibSp_4</th>\n",
       "      <th>SibSp_5</th>\n",
       "      <th>SibSp_8</th>\n",
       "      <th>Parch_1</th>\n",
       "      <th>Parch_2</th>\n",
       "      <th>Parch_3</th>\n",
       "      <th>Parch_4</th>\n",
       "      <th>Parch_5</th>\n",
       "      <th>Parch_6</th>\n",
       "      <th>Parch_9</th>\n",
       "      <th>TotalFamily_1</th>\n",
       "      <th>TotalFamily_2</th>\n",
       "      <th>TotalFamily_3</th>\n",
       "      <th>TotalFamily_4</th>\n",
       "      <th>TotalFamily_5</th>\n",
       "      <th>TotalFamily_6</th>\n",
       "      <th>TotalFamily_7</th>\n",
       "      <th>TotalFamily_10</th>\n",
       "      <th>Alone_True</th>\n",
       "      <th>AgeGroup_Child</th>\n",
       "      <th>AgeGroup_Adult</th>\n",
       "      <th>AgeGroup_Elderly</th>\n",
       "      <th>FareGroup_Medium</th>\n",
       "      <th>FareGroup_High</th>\n",
       "      <th>FareGroup_Very High</th>\n",
       "      <th>Embarked_Q</th>\n",
       "      <th>Embarked_S</th>\n",
       "    </tr>\n",
       "  </thead>\n",
       "  <tbody>\n",
       "    <tr>\n",
       "      <th>0</th>\n",
       "      <td>0.000</td>\n",
       "      <td>1</td>\n",
       "      <td>22.000</td>\n",
       "      <td>7.250</td>\n",
       "      <td>0</td>\n",
       "      <td>1</td>\n",
       "      <td>1</td>\n",
       "      <td>0</td>\n",
       "      <td>0</td>\n",
       "      <td>0</td>\n",
       "      <td>0</td>\n",
       "      <td>0</td>\n",
       "      <td>0</td>\n",
       "      <td>0</td>\n",
       "      <td>0</td>\n",
       "      <td>0</td>\n",
       "      <td>0</td>\n",
       "      <td>0</td>\n",
       "      <td>0</td>\n",
       "      <td>1</td>\n",
       "      <td>0</td>\n",
       "      <td>0</td>\n",
       "      <td>0</td>\n",
       "      <td>0</td>\n",
       "      <td>0</td>\n",
       "      <td>0</td>\n",
       "      <td>0</td>\n",
       "      <td>0</td>\n",
       "      <td>0</td>\n",
       "      <td>1</td>\n",
       "      <td>0</td>\n",
       "      <td>0</td>\n",
       "      <td>0</td>\n",
       "      <td>0</td>\n",
       "      <td>0</td>\n",
       "      <td>1</td>\n",
       "    </tr>\n",
       "    <tr>\n",
       "      <th>1</th>\n",
       "      <td>1.000</td>\n",
       "      <td>0</td>\n",
       "      <td>38.000</td>\n",
       "      <td>71.283</td>\n",
       "      <td>0</td>\n",
       "      <td>0</td>\n",
       "      <td>1</td>\n",
       "      <td>0</td>\n",
       "      <td>0</td>\n",
       "      <td>0</td>\n",
       "      <td>0</td>\n",
       "      <td>0</td>\n",
       "      <td>0</td>\n",
       "      <td>0</td>\n",
       "      <td>0</td>\n",
       "      <td>0</td>\n",
       "      <td>0</td>\n",
       "      <td>0</td>\n",
       "      <td>0</td>\n",
       "      <td>1</td>\n",
       "      <td>0</td>\n",
       "      <td>0</td>\n",
       "      <td>0</td>\n",
       "      <td>0</td>\n",
       "      <td>0</td>\n",
       "      <td>0</td>\n",
       "      <td>0</td>\n",
       "      <td>0</td>\n",
       "      <td>0</td>\n",
       "      <td>1</td>\n",
       "      <td>0</td>\n",
       "      <td>0</td>\n",
       "      <td>0</td>\n",
       "      <td>0</td>\n",
       "      <td>0</td>\n",
       "      <td>0</td>\n",
       "    </tr>\n",
       "    <tr>\n",
       "      <th>2</th>\n",
       "      <td>1.000</td>\n",
       "      <td>0</td>\n",
       "      <td>26.000</td>\n",
       "      <td>7.925</td>\n",
       "      <td>0</td>\n",
       "      <td>1</td>\n",
       "      <td>0</td>\n",
       "      <td>0</td>\n",
       "      <td>0</td>\n",
       "      <td>0</td>\n",
       "      <td>0</td>\n",
       "      <td>0</td>\n",
       "      <td>0</td>\n",
       "      <td>0</td>\n",
       "      <td>0</td>\n",
       "      <td>0</td>\n",
       "      <td>0</td>\n",
       "      <td>0</td>\n",
       "      <td>0</td>\n",
       "      <td>0</td>\n",
       "      <td>0</td>\n",
       "      <td>0</td>\n",
       "      <td>0</td>\n",
       "      <td>0</td>\n",
       "      <td>0</td>\n",
       "      <td>0</td>\n",
       "      <td>0</td>\n",
       "      <td>1</td>\n",
       "      <td>0</td>\n",
       "      <td>1</td>\n",
       "      <td>0</td>\n",
       "      <td>0</td>\n",
       "      <td>0</td>\n",
       "      <td>0</td>\n",
       "      <td>0</td>\n",
       "      <td>1</td>\n",
       "    </tr>\n",
       "    <tr>\n",
       "      <th>3</th>\n",
       "      <td>1.000</td>\n",
       "      <td>0</td>\n",
       "      <td>35.000</td>\n",
       "      <td>53.100</td>\n",
       "      <td>0</td>\n",
       "      <td>0</td>\n",
       "      <td>1</td>\n",
       "      <td>0</td>\n",
       "      <td>0</td>\n",
       "      <td>0</td>\n",
       "      <td>0</td>\n",
       "      <td>0</td>\n",
       "      <td>0</td>\n",
       "      <td>0</td>\n",
       "      <td>0</td>\n",
       "      <td>0</td>\n",
       "      <td>0</td>\n",
       "      <td>0</td>\n",
       "      <td>0</td>\n",
       "      <td>1</td>\n",
       "      <td>0</td>\n",
       "      <td>0</td>\n",
       "      <td>0</td>\n",
       "      <td>0</td>\n",
       "      <td>0</td>\n",
       "      <td>0</td>\n",
       "      <td>0</td>\n",
       "      <td>0</td>\n",
       "      <td>0</td>\n",
       "      <td>1</td>\n",
       "      <td>0</td>\n",
       "      <td>0</td>\n",
       "      <td>0</td>\n",
       "      <td>0</td>\n",
       "      <td>0</td>\n",
       "      <td>1</td>\n",
       "    </tr>\n",
       "    <tr>\n",
       "      <th>4</th>\n",
       "      <td>0.000</td>\n",
       "      <td>1</td>\n",
       "      <td>35.000</td>\n",
       "      <td>8.050</td>\n",
       "      <td>0</td>\n",
       "      <td>1</td>\n",
       "      <td>0</td>\n",
       "      <td>0</td>\n",
       "      <td>0</td>\n",
       "      <td>0</td>\n",
       "      <td>0</td>\n",
       "      <td>0</td>\n",
       "      <td>0</td>\n",
       "      <td>0</td>\n",
       "      <td>0</td>\n",
       "      <td>0</td>\n",
       "      <td>0</td>\n",
       "      <td>0</td>\n",
       "      <td>0</td>\n",
       "      <td>0</td>\n",
       "      <td>0</td>\n",
       "      <td>0</td>\n",
       "      <td>0</td>\n",
       "      <td>0</td>\n",
       "      <td>0</td>\n",
       "      <td>0</td>\n",
       "      <td>0</td>\n",
       "      <td>1</td>\n",
       "      <td>0</td>\n",
       "      <td>1</td>\n",
       "      <td>0</td>\n",
       "      <td>0</td>\n",
       "      <td>0</td>\n",
       "      <td>0</td>\n",
       "      <td>0</td>\n",
       "      <td>1</td>\n",
       "    </tr>\n",
       "  </tbody>\n",
       "</table>\n",
       "</div>"
      ],
      "text/plain": [
       "   Survived  Sex    Age   Fare  Pclass_2  Pclass_3  SibSp_1  SibSp_2  SibSp_3  \\\n",
       "0     0.000    1 22.000  7.250         0         1        1        0        0   \n",
       "1     1.000    0 38.000 71.283         0         0        1        0        0   \n",
       "2     1.000    0 26.000  7.925         0         1        0        0        0   \n",
       "3     1.000    0 35.000 53.100         0         0        1        0        0   \n",
       "4     0.000    1 35.000  8.050         0         1        0        0        0   \n",
       "\n",
       "   SibSp_4  SibSp_5  SibSp_8  Parch_1  Parch_2  Parch_3  Parch_4  Parch_5  \\\n",
       "0        0        0        0        0        0        0        0        0   \n",
       "1        0        0        0        0        0        0        0        0   \n",
       "2        0        0        0        0        0        0        0        0   \n",
       "3        0        0        0        0        0        0        0        0   \n",
       "4        0        0        0        0        0        0        0        0   \n",
       "\n",
       "   Parch_6  Parch_9  TotalFamily_1  TotalFamily_2  TotalFamily_3  \\\n",
       "0        0        0              1              0              0   \n",
       "1        0        0              1              0              0   \n",
       "2        0        0              0              0              0   \n",
       "3        0        0              1              0              0   \n",
       "4        0        0              0              0              0   \n",
       "\n",
       "   TotalFamily_4  TotalFamily_5  TotalFamily_6  TotalFamily_7  TotalFamily_10  \\\n",
       "0              0              0              0              0               0   \n",
       "1              0              0              0              0               0   \n",
       "2              0              0              0              0               0   \n",
       "3              0              0              0              0               0   \n",
       "4              0              0              0              0               0   \n",
       "\n",
       "   Alone_True  AgeGroup_Child  AgeGroup_Adult  AgeGroup_Elderly  \\\n",
       "0           0               0               1                 0   \n",
       "1           0               0               1                 0   \n",
       "2           1               0               1                 0   \n",
       "3           0               0               1                 0   \n",
       "4           1               0               1                 0   \n",
       "\n",
       "   FareGroup_Medium  FareGroup_High  FareGroup_Very High  Embarked_Q  \\\n",
       "0                 0               0                    0           0   \n",
       "1                 0               0                    0           0   \n",
       "2                 0               0                    0           0   \n",
       "3                 0               0                    0           0   \n",
       "4                 0               0                    0           0   \n",
       "\n",
       "   Embarked_S  \n",
       "0           1  \n",
       "1           0  \n",
       "2           1  \n",
       "3           1  \n",
       "4           1  "
      ]
     },
     "execution_count": 90,
     "metadata": {},
     "output_type": "execute_result"
    }
   ],
   "source": [
    "train.head()"
   ]
  },
  {
   "cell_type": "code",
   "execution_count": 91,
   "id": "e2ace270",
   "metadata": {
    "execution": {
     "iopub.execute_input": "2023-07-31T20:33:58.417338Z",
     "iopub.status.busy": "2023-07-31T20:33:58.415883Z",
     "iopub.status.idle": "2023-07-31T20:33:58.443385Z",
     "shell.execute_reply": "2023-07-31T20:33:58.442543Z"
    },
    "papermill": {
     "duration": 0.086185,
     "end_time": "2023-07-31T20:33:58.445822",
     "exception": false,
     "start_time": "2023-07-31T20:33:58.359637",
     "status": "completed"
    },
    "tags": []
   },
   "outputs": [
    {
     "data": {
      "text/html": [
       "<div>\n",
       "<style scoped>\n",
       "    .dataframe tbody tr th:only-of-type {\n",
       "        vertical-align: middle;\n",
       "    }\n",
       "\n",
       "    .dataframe tbody tr th {\n",
       "        vertical-align: top;\n",
       "    }\n",
       "\n",
       "    .dataframe thead th {\n",
       "        text-align: right;\n",
       "    }\n",
       "</style>\n",
       "<table border=\"1\" class=\"dataframe\">\n",
       "  <thead>\n",
       "    <tr style=\"text-align: right;\">\n",
       "      <th></th>\n",
       "      <th>Survived</th>\n",
       "      <th>Sex</th>\n",
       "      <th>Age</th>\n",
       "      <th>Fare</th>\n",
       "      <th>Pclass_2</th>\n",
       "      <th>Pclass_3</th>\n",
       "      <th>SibSp_1</th>\n",
       "      <th>SibSp_2</th>\n",
       "      <th>SibSp_3</th>\n",
       "      <th>SibSp_4</th>\n",
       "      <th>SibSp_5</th>\n",
       "      <th>SibSp_8</th>\n",
       "      <th>Parch_1</th>\n",
       "      <th>Parch_2</th>\n",
       "      <th>Parch_3</th>\n",
       "      <th>Parch_4</th>\n",
       "      <th>Parch_5</th>\n",
       "      <th>Parch_6</th>\n",
       "      <th>Parch_9</th>\n",
       "      <th>TotalFamily_1</th>\n",
       "      <th>TotalFamily_2</th>\n",
       "      <th>TotalFamily_3</th>\n",
       "      <th>TotalFamily_4</th>\n",
       "      <th>TotalFamily_5</th>\n",
       "      <th>TotalFamily_6</th>\n",
       "      <th>TotalFamily_7</th>\n",
       "      <th>TotalFamily_10</th>\n",
       "      <th>Alone_True</th>\n",
       "      <th>AgeGroup_Child</th>\n",
       "      <th>AgeGroup_Adult</th>\n",
       "      <th>AgeGroup_Elderly</th>\n",
       "      <th>FareGroup_Medium</th>\n",
       "      <th>FareGroup_High</th>\n",
       "      <th>FareGroup_Very High</th>\n",
       "      <th>Embarked_Q</th>\n",
       "      <th>Embarked_S</th>\n",
       "    </tr>\n",
       "  </thead>\n",
       "  <tbody>\n",
       "    <tr>\n",
       "      <th>891</th>\n",
       "      <td>NaN</td>\n",
       "      <td>1</td>\n",
       "      <td>34.500</td>\n",
       "      <td>7.829</td>\n",
       "      <td>0</td>\n",
       "      <td>1</td>\n",
       "      <td>0</td>\n",
       "      <td>0</td>\n",
       "      <td>0</td>\n",
       "      <td>0</td>\n",
       "      <td>0</td>\n",
       "      <td>0</td>\n",
       "      <td>0</td>\n",
       "      <td>0</td>\n",
       "      <td>0</td>\n",
       "      <td>0</td>\n",
       "      <td>0</td>\n",
       "      <td>0</td>\n",
       "      <td>0</td>\n",
       "      <td>0</td>\n",
       "      <td>0</td>\n",
       "      <td>0</td>\n",
       "      <td>0</td>\n",
       "      <td>0</td>\n",
       "      <td>0</td>\n",
       "      <td>0</td>\n",
       "      <td>0</td>\n",
       "      <td>1</td>\n",
       "      <td>0</td>\n",
       "      <td>1</td>\n",
       "      <td>0</td>\n",
       "      <td>0</td>\n",
       "      <td>0</td>\n",
       "      <td>0</td>\n",
       "      <td>1</td>\n",
       "      <td>0</td>\n",
       "    </tr>\n",
       "    <tr>\n",
       "      <th>892</th>\n",
       "      <td>NaN</td>\n",
       "      <td>0</td>\n",
       "      <td>47.000</td>\n",
       "      <td>7.000</td>\n",
       "      <td>0</td>\n",
       "      <td>1</td>\n",
       "      <td>1</td>\n",
       "      <td>0</td>\n",
       "      <td>0</td>\n",
       "      <td>0</td>\n",
       "      <td>0</td>\n",
       "      <td>0</td>\n",
       "      <td>0</td>\n",
       "      <td>0</td>\n",
       "      <td>0</td>\n",
       "      <td>0</td>\n",
       "      <td>0</td>\n",
       "      <td>0</td>\n",
       "      <td>0</td>\n",
       "      <td>1</td>\n",
       "      <td>0</td>\n",
       "      <td>0</td>\n",
       "      <td>0</td>\n",
       "      <td>0</td>\n",
       "      <td>0</td>\n",
       "      <td>0</td>\n",
       "      <td>0</td>\n",
       "      <td>0</td>\n",
       "      <td>0</td>\n",
       "      <td>1</td>\n",
       "      <td>0</td>\n",
       "      <td>0</td>\n",
       "      <td>0</td>\n",
       "      <td>0</td>\n",
       "      <td>0</td>\n",
       "      <td>1</td>\n",
       "    </tr>\n",
       "    <tr>\n",
       "      <th>893</th>\n",
       "      <td>NaN</td>\n",
       "      <td>1</td>\n",
       "      <td>62.000</td>\n",
       "      <td>9.688</td>\n",
       "      <td>1</td>\n",
       "      <td>0</td>\n",
       "      <td>0</td>\n",
       "      <td>0</td>\n",
       "      <td>0</td>\n",
       "      <td>0</td>\n",
       "      <td>0</td>\n",
       "      <td>0</td>\n",
       "      <td>0</td>\n",
       "      <td>0</td>\n",
       "      <td>0</td>\n",
       "      <td>0</td>\n",
       "      <td>0</td>\n",
       "      <td>0</td>\n",
       "      <td>0</td>\n",
       "      <td>0</td>\n",
       "      <td>0</td>\n",
       "      <td>0</td>\n",
       "      <td>0</td>\n",
       "      <td>0</td>\n",
       "      <td>0</td>\n",
       "      <td>0</td>\n",
       "      <td>0</td>\n",
       "      <td>1</td>\n",
       "      <td>0</td>\n",
       "      <td>1</td>\n",
       "      <td>0</td>\n",
       "      <td>0</td>\n",
       "      <td>0</td>\n",
       "      <td>0</td>\n",
       "      <td>1</td>\n",
       "      <td>0</td>\n",
       "    </tr>\n",
       "    <tr>\n",
       "      <th>894</th>\n",
       "      <td>NaN</td>\n",
       "      <td>1</td>\n",
       "      <td>27.000</td>\n",
       "      <td>8.662</td>\n",
       "      <td>0</td>\n",
       "      <td>1</td>\n",
       "      <td>0</td>\n",
       "      <td>0</td>\n",
       "      <td>0</td>\n",
       "      <td>0</td>\n",
       "      <td>0</td>\n",
       "      <td>0</td>\n",
       "      <td>0</td>\n",
       "      <td>0</td>\n",
       "      <td>0</td>\n",
       "      <td>0</td>\n",
       "      <td>0</td>\n",
       "      <td>0</td>\n",
       "      <td>0</td>\n",
       "      <td>0</td>\n",
       "      <td>0</td>\n",
       "      <td>0</td>\n",
       "      <td>0</td>\n",
       "      <td>0</td>\n",
       "      <td>0</td>\n",
       "      <td>0</td>\n",
       "      <td>0</td>\n",
       "      <td>1</td>\n",
       "      <td>0</td>\n",
       "      <td>1</td>\n",
       "      <td>0</td>\n",
       "      <td>0</td>\n",
       "      <td>0</td>\n",
       "      <td>0</td>\n",
       "      <td>0</td>\n",
       "      <td>1</td>\n",
       "    </tr>\n",
       "    <tr>\n",
       "      <th>895</th>\n",
       "      <td>NaN</td>\n",
       "      <td>0</td>\n",
       "      <td>22.000</td>\n",
       "      <td>12.287</td>\n",
       "      <td>0</td>\n",
       "      <td>1</td>\n",
       "      <td>1</td>\n",
       "      <td>0</td>\n",
       "      <td>0</td>\n",
       "      <td>0</td>\n",
       "      <td>0</td>\n",
       "      <td>0</td>\n",
       "      <td>1</td>\n",
       "      <td>0</td>\n",
       "      <td>0</td>\n",
       "      <td>0</td>\n",
       "      <td>0</td>\n",
       "      <td>0</td>\n",
       "      <td>0</td>\n",
       "      <td>0</td>\n",
       "      <td>1</td>\n",
       "      <td>0</td>\n",
       "      <td>0</td>\n",
       "      <td>0</td>\n",
       "      <td>0</td>\n",
       "      <td>0</td>\n",
       "      <td>0</td>\n",
       "      <td>0</td>\n",
       "      <td>0</td>\n",
       "      <td>1</td>\n",
       "      <td>0</td>\n",
       "      <td>0</td>\n",
       "      <td>0</td>\n",
       "      <td>0</td>\n",
       "      <td>0</td>\n",
       "      <td>1</td>\n",
       "    </tr>\n",
       "  </tbody>\n",
       "</table>\n",
       "</div>"
      ],
      "text/plain": [
       "     Survived  Sex    Age   Fare  Pclass_2  Pclass_3  SibSp_1  SibSp_2  \\\n",
       "891       NaN    1 34.500  7.829         0         1        0        0   \n",
       "892       NaN    0 47.000  7.000         0         1        1        0   \n",
       "893       NaN    1 62.000  9.688         1         0        0        0   \n",
       "894       NaN    1 27.000  8.662         0         1        0        0   \n",
       "895       NaN    0 22.000 12.287         0         1        1        0   \n",
       "\n",
       "     SibSp_3  SibSp_4  SibSp_5  SibSp_8  Parch_1  Parch_2  Parch_3  Parch_4  \\\n",
       "891        0        0        0        0        0        0        0        0   \n",
       "892        0        0        0        0        0        0        0        0   \n",
       "893        0        0        0        0        0        0        0        0   \n",
       "894        0        0        0        0        0        0        0        0   \n",
       "895        0        0        0        0        1        0        0        0   \n",
       "\n",
       "     Parch_5  Parch_6  Parch_9  TotalFamily_1  TotalFamily_2  TotalFamily_3  \\\n",
       "891        0        0        0              0              0              0   \n",
       "892        0        0        0              1              0              0   \n",
       "893        0        0        0              0              0              0   \n",
       "894        0        0        0              0              0              0   \n",
       "895        0        0        0              0              1              0   \n",
       "\n",
       "     TotalFamily_4  TotalFamily_5  TotalFamily_6  TotalFamily_7  \\\n",
       "891              0              0              0              0   \n",
       "892              0              0              0              0   \n",
       "893              0              0              0              0   \n",
       "894              0              0              0              0   \n",
       "895              0              0              0              0   \n",
       "\n",
       "     TotalFamily_10  Alone_True  AgeGroup_Child  AgeGroup_Adult  \\\n",
       "891               0           1               0               1   \n",
       "892               0           0               0               1   \n",
       "893               0           1               0               1   \n",
       "894               0           1               0               1   \n",
       "895               0           0               0               1   \n",
       "\n",
       "     AgeGroup_Elderly  FareGroup_Medium  FareGroup_High  FareGroup_Very High  \\\n",
       "891                 0                 0               0                    0   \n",
       "892                 0                 0               0                    0   \n",
       "893                 0                 0               0                    0   \n",
       "894                 0                 0               0                    0   \n",
       "895                 0                 0               0                    0   \n",
       "\n",
       "     Embarked_Q  Embarked_S  \n",
       "891           1           0  \n",
       "892           0           1  \n",
       "893           1           0  \n",
       "894           0           1  \n",
       "895           0           1  "
      ]
     },
     "execution_count": 91,
     "metadata": {},
     "output_type": "execute_result"
    }
   ],
   "source": [
    "test_1.head()"
   ]
  },
  {
   "cell_type": "markdown",
   "id": "c1e5c5f7",
   "metadata": {
    "papermill": {
     "duration": 0.05538,
     "end_time": "2023-07-31T20:33:58.557155",
     "exception": false,
     "start_time": "2023-07-31T20:33:58.501775",
     "status": "completed"
    },
    "tags": []
   },
   "source": [
    "# 16.1.RandomForestClassifier"
   ]
  },
  {
   "cell_type": "code",
   "execution_count": 92,
   "id": "c5d5d7c6",
   "metadata": {
    "execution": {
     "iopub.execute_input": "2023-07-31T20:33:58.675899Z",
     "iopub.status.busy": "2023-07-31T20:33:58.674691Z",
     "iopub.status.idle": "2023-07-31T20:33:58.993833Z",
     "shell.execute_reply": "2023-07-31T20:33:58.991984Z"
    },
    "papermill": {
     "duration": 0.382018,
     "end_time": "2023-07-31T20:33:58.996481",
     "exception": false,
     "start_time": "2023-07-31T20:33:58.614463",
     "status": "completed"
    },
    "tags": []
   },
   "outputs": [
    {
     "name": "stdout",
     "output_type": "stream",
     "text": [
      "RandomForestClassifier:\n",
      "Accuracy: 0.7687\n",
      "Recall: 0.7333\n",
      "Precision: 0.6937\n",
      "F1: 0.713\n",
      "Auc: 0.7624\n"
     ]
    }
   ],
   "source": [
    "# Random Forest Classifier Model Training\n",
    "\n",
    "rf_model = RandomForestClassifier(random_state=46).fit(X_train, y_train)\n",
    "\n",
    "# Prediction using Random Forest Classifier Model\n",
    "\n",
    "y_pred = rf_model.predict(X_test)\n",
    "\n",
    "print(\"RandomForestClassifier:\")\n",
    "print(f\"Accuracy: {round(accuracy_score(y_pred, y_test), 4)}\")\n",
    "print(f\"Recall: {round(recall_score(y_pred,y_test),4)}\")\n",
    "print(f\"Precision: {round(precision_score(y_pred,y_test), 4)}\")\n",
    "print(f\"F1: {round(f1_score(y_pred,y_test), 4)}\")\n",
    "print(f\"Auc: {round(roc_auc_score(y_pred,y_test), 4)}\")"
   ]
  },
  {
   "cell_type": "markdown",
   "id": "3475f06d",
   "metadata": {
    "papermill": {
     "duration": 0.054897,
     "end_time": "2023-07-31T20:33:59.107423",
     "exception": false,
     "start_time": "2023-07-31T20:33:59.052526",
     "status": "completed"
    },
    "tags": []
   },
   "source": [
    "# 16.2.Logistic Regression"
   ]
  },
  {
   "cell_type": "code",
   "execution_count": 93,
   "id": "060ee580",
   "metadata": {
    "execution": {
     "iopub.execute_input": "2023-07-31T20:33:59.222057Z",
     "iopub.status.busy": "2023-07-31T20:33:59.221648Z",
     "iopub.status.idle": "2023-07-31T20:33:59.315071Z",
     "shell.execute_reply": "2023-07-31T20:33:59.310766Z"
    },
    "papermill": {
     "duration": 0.155804,
     "end_time": "2023-07-31T20:33:59.319648",
     "exception": false,
     "start_time": "2023-07-31T20:33:59.163844",
     "status": "completed"
    },
    "tags": []
   },
   "outputs": [
    {
     "name": "stdout",
     "output_type": "stream",
     "text": [
      "Logistic Regression:\n",
      "Accuracy: 0.7836\n",
      "Recall: 0.7789\n",
      "Precision: 0.6667\n",
      "F1: 0.7184\n",
      "AUC: 0.7825\n"
     ]
    }
   ],
   "source": [
    "lr_model = LogisticRegression()\n",
    "lr_model.fit(X_train, y_train)\n",
    "lr_pred = lr_model.predict(X_test)\n",
    "\n",
    "print(\"Logistic Regression:\")\n",
    "print(f\"Accuracy: {round(accuracy_score(lr_pred, y_test), 4)}\")\n",
    "print(f\"Recall: {round(recall_score(lr_pred, y_test), 4)}\")\n",
    "print(f\"Precision: {round(precision_score(lr_pred, y_test), 4)}\")\n",
    "print(f\"F1: {round(f1_score(lr_pred, y_test), 4)}\")\n",
    "print(f\"AUC: {round(roc_auc_score(lr_pred, y_test), 4)}\")"
   ]
  },
  {
   "cell_type": "markdown",
   "id": "ea13b594",
   "metadata": {
    "papermill": {
     "duration": 0.053842,
     "end_time": "2023-07-31T20:33:59.477051",
     "exception": false,
     "start_time": "2023-07-31T20:33:59.423209",
     "status": "completed"
    },
    "tags": []
   },
   "source": [
    "# 16.3.K-Nearest Neighbors (KNN)"
   ]
  },
  {
   "cell_type": "code",
   "execution_count": 94,
   "id": "20de3cf4",
   "metadata": {
    "execution": {
     "iopub.execute_input": "2023-07-31T20:33:59.587348Z",
     "iopub.status.busy": "2023-07-31T20:33:59.586737Z",
     "iopub.status.idle": "2023-07-31T20:33:59.758644Z",
     "shell.execute_reply": "2023-07-31T20:33:59.757256Z"
    },
    "papermill": {
     "duration": 0.230624,
     "end_time": "2023-07-31T20:33:59.761895",
     "exception": false,
     "start_time": "2023-07-31T20:33:59.531271",
     "status": "completed"
    },
    "tags": []
   },
   "outputs": [
    {
     "name": "stdout",
     "output_type": "stream",
     "text": [
      "K-Nearest Neighbors (KNN):\n",
      "Accuracy: 0.7052\n",
      "Recall: 0.6951\n",
      "Precision: 0.5135\n",
      "F1: 0.5907\n",
      "AUC: 0.7024\n"
     ]
    }
   ],
   "source": [
    "knn_model = KNeighborsClassifier()\n",
    "knn_model.fit(X_train, y_train)\n",
    "knn_pred = knn_model.predict(X_test)\n",
    "\n",
    "print(\"K-Nearest Neighbors (KNN):\")\n",
    "print(f\"Accuracy: {round(accuracy_score(knn_pred, y_test), 4)}\")\n",
    "print(f\"Recall: {round(recall_score(knn_pred, y_test), 4)}\")\n",
    "print(f\"Precision: {round(precision_score(knn_pred, y_test), 4)}\")\n",
    "print(f\"F1: {round(f1_score(knn_pred, y_test), 4)}\")\n",
    "print(f\"AUC: {round(roc_auc_score(knn_pred, y_test), 4)}\")"
   ]
  },
  {
   "cell_type": "markdown",
   "id": "87df6b15",
   "metadata": {
    "papermill": {
     "duration": 0.054013,
     "end_time": "2023-07-31T20:33:59.871303",
     "exception": false,
     "start_time": "2023-07-31T20:33:59.817290",
     "status": "completed"
    },
    "tags": []
   },
   "source": [
    "# 16.4.Support Vector Classifier (SVC)"
   ]
  },
  {
   "cell_type": "code",
   "execution_count": 95,
   "id": "f22739aa",
   "metadata": {
    "execution": {
     "iopub.execute_input": "2023-07-31T20:33:59.983883Z",
     "iopub.status.busy": "2023-07-31T20:33:59.982438Z",
     "iopub.status.idle": "2023-07-31T20:34:00.032120Z",
     "shell.execute_reply": "2023-07-31T20:34:00.030861Z"
    },
    "papermill": {
     "duration": 0.108168,
     "end_time": "2023-07-31T20:34:00.034671",
     "exception": false,
     "start_time": "2023-07-31T20:33:59.926503",
     "status": "completed"
    },
    "tags": []
   },
   "outputs": [
    {
     "name": "stdout",
     "output_type": "stream",
     "text": [
      "Support Vector Classifier (SVC):\n",
      "Accuracy: 0.653\n",
      "Recall: 0.725\n",
      "Precision: 0.2613\n",
      "F1: 0.3841\n",
      "AUC: 0.6827\n"
     ]
    }
   ],
   "source": [
    "svc_model = SVC()\n",
    "svc_model.fit(X_train, y_train)\n",
    "svc_pred = svc_model.predict(X_test)\n",
    "\n",
    "print(\"Support Vector Classifier (SVC):\")\n",
    "print(f\"Accuracy: {round(accuracy_score(svc_pred, y_test), 4)}\")\n",
    "print(f\"Recall: {round(recall_score(svc_pred, y_test), 4)}\")\n",
    "print(f\"Precision: {round(precision_score(svc_pred, y_test), 4)}\")\n",
    "print(f\"F1: {round(f1_score(svc_pred, y_test), 4)}\")\n",
    "print(f\"AUC: {round(roc_auc_score(svc_pred, y_test), 4)}\")"
   ]
  },
  {
   "cell_type": "markdown",
   "id": "4e4b55e2",
   "metadata": {
    "papermill": {
     "duration": 0.055476,
     "end_time": "2023-07-31T20:34:00.145782",
     "exception": false,
     "start_time": "2023-07-31T20:34:00.090306",
     "status": "completed"
    },
    "tags": []
   },
   "source": [
    "# 16.5.Decision Tree Classifier"
   ]
  },
  {
   "cell_type": "code",
   "execution_count": 96,
   "id": "d0e4cdd3",
   "metadata": {
    "execution": {
     "iopub.execute_input": "2023-07-31T20:34:00.258083Z",
     "iopub.status.busy": "2023-07-31T20:34:00.256789Z",
     "iopub.status.idle": "2023-07-31T20:34:00.282550Z",
     "shell.execute_reply": "2023-07-31T20:34:00.280920Z"
    },
    "papermill": {
     "duration": 0.08474,
     "end_time": "2023-07-31T20:34:00.285247",
     "exception": false,
     "start_time": "2023-07-31T20:34:00.200507",
     "status": "completed"
    },
    "tags": []
   },
   "outputs": [
    {
     "name": "stdout",
     "output_type": "stream",
     "text": [
      "Decision Tree Classifier:\n",
      "Accuracy: 0.7873\n",
      "Recall: 0.75\n",
      "Precision: 0.7297\n",
      "F1: 0.7397\n",
      "AUC: 0.7812\n"
     ]
    }
   ],
   "source": [
    "dt_model = DecisionTreeClassifier()\n",
    "dt_model.fit(X_train, y_train)\n",
    "dt_pred = dt_model.predict(X_test)\n",
    "\n",
    "print(\"Decision Tree Classifier:\")\n",
    "print(f\"Accuracy: {round(accuracy_score(dt_pred, y_test), 4)}\")\n",
    "print(f\"Recall: {round(recall_score(dt_pred, y_test), 4)}\")\n",
    "print(f\"Precision: {round(precision_score(dt_pred, y_test), 4)}\")\n",
    "print(f\"F1: {round(f1_score(dt_pred, y_test), 4)}\")\n",
    "print(f\"AUC: {round(roc_auc_score(dt_pred, y_test), 4)}\")"
   ]
  },
  {
   "cell_type": "markdown",
   "id": "64966bf1",
   "metadata": {
    "papermill": {
     "duration": 0.056368,
     "end_time": "2023-07-31T20:34:00.398199",
     "exception": false,
     "start_time": "2023-07-31T20:34:00.341831",
     "status": "completed"
    },
    "tags": []
   },
   "source": [
    "# 16.6.AdaBoost Classifier"
   ]
  },
  {
   "cell_type": "code",
   "execution_count": 97,
   "id": "8265af6d",
   "metadata": {
    "execution": {
     "iopub.execute_input": "2023-07-31T20:34:00.513901Z",
     "iopub.status.busy": "2023-07-31T20:34:00.513445Z",
     "iopub.status.idle": "2023-07-31T20:34:00.679570Z",
     "shell.execute_reply": "2023-07-31T20:34:00.678366Z"
    },
    "papermill": {
     "duration": 0.227157,
     "end_time": "2023-07-31T20:34:00.682035",
     "exception": false,
     "start_time": "2023-07-31T20:34:00.454878",
     "status": "completed"
    },
    "tags": []
   },
   "outputs": [
    {
     "name": "stdout",
     "output_type": "stream",
     "text": [
      "AdaBoost Classifier:\n",
      "Accuracy: 0.7836\n",
      "Recall: 0.7477\n",
      "Precision: 0.7207\n",
      "F1: 0.7339\n",
      "AUC: 0.7776\n"
     ]
    }
   ],
   "source": [
    "ada_model = AdaBoostClassifier()\n",
    "ada_model.fit(X_train, y_train)\n",
    "ada_pred = ada_model.predict(X_test)\n",
    "\n",
    "print(\"AdaBoost Classifier:\")\n",
    "print(f\"Accuracy: {round(accuracy_score(ada_pred, y_test), 4)}\")\n",
    "print(f\"Recall: {round(recall_score(ada_pred, y_test), 4)}\")\n",
    "print(f\"Precision: {round(precision_score(ada_pred, y_test), 4)}\")\n",
    "print(f\"F1: {round(f1_score(ada_pred, y_test), 4)}\")\n",
    "print(f\"AUC: {round(roc_auc_score(ada_pred, y_test), 4)}\")"
   ]
  },
  {
   "cell_type": "markdown",
   "id": "9c40e4b2",
   "metadata": {
    "papermill": {
     "duration": 0.055238,
     "end_time": "2023-07-31T20:34:00.794783",
     "exception": false,
     "start_time": "2023-07-31T20:34:00.739545",
     "status": "completed"
    },
    "tags": []
   },
   "source": [
    "# 16.7.Gradient Boosting Classifier"
   ]
  },
  {
   "cell_type": "code",
   "execution_count": 98,
   "id": "71eff14e",
   "metadata": {
    "execution": {
     "iopub.execute_input": "2023-07-31T20:34:00.906579Z",
     "iopub.status.busy": "2023-07-31T20:34:00.906163Z",
     "iopub.status.idle": "2023-07-31T20:34:01.095278Z",
     "shell.execute_reply": "2023-07-31T20:34:01.093733Z"
    },
    "papermill": {
     "duration": 0.247538,
     "end_time": "2023-07-31T20:34:01.097824",
     "exception": false,
     "start_time": "2023-07-31T20:34:00.850286",
     "status": "completed"
    },
    "tags": []
   },
   "outputs": [
    {
     "name": "stdout",
     "output_type": "stream",
     "text": [
      "Gradient Boosting Classifier:\n",
      "Accuracy: 0.8134\n",
      "Recall: 0.8081\n",
      "Precision: 0.7207\n",
      "F1: 0.7619\n",
      "AUC: 0.8123\n"
     ]
    }
   ],
   "source": [
    "gb_model = GradientBoostingClassifier()\n",
    "gb_model.fit(X_train, y_train)\n",
    "gb_pred = gb_model.predict(X_test)\n",
    "\n",
    "print(\"Gradient Boosting Classifier:\")\n",
    "print(f\"Accuracy: {round(accuracy_score(gb_pred, y_test), 4)}\")\n",
    "print(f\"Recall: {round(recall_score(gb_pred, y_test), 4)}\")\n",
    "print(f\"Precision: {round(precision_score(gb_pred, y_test), 4)}\")\n",
    "print(f\"F1: {round(f1_score(gb_pred, y_test), 4)}\")\n",
    "print(f\"AUC: {round(roc_auc_score(gb_pred, y_test), 4)}\")"
   ]
  },
  {
   "cell_type": "markdown",
   "id": "cf661535",
   "metadata": {
    "papermill": {
     "duration": 0.055113,
     "end_time": "2023-07-31T20:34:01.208157",
     "exception": false,
     "start_time": "2023-07-31T20:34:01.153044",
     "status": "completed"
    },
    "tags": []
   },
   "source": [
    "# 16.8.XGBoost Classifier"
   ]
  },
  {
   "cell_type": "code",
   "execution_count": 99,
   "id": "5d9639ba",
   "metadata": {
    "execution": {
     "iopub.execute_input": "2023-07-31T20:34:01.324179Z",
     "iopub.status.busy": "2023-07-31T20:34:01.323699Z",
     "iopub.status.idle": "2023-07-31T20:34:01.574575Z",
     "shell.execute_reply": "2023-07-31T20:34:01.572815Z"
    },
    "papermill": {
     "duration": 0.312674,
     "end_time": "2023-07-31T20:34:01.577359",
     "exception": false,
     "start_time": "2023-07-31T20:34:01.264685",
     "status": "completed"
    },
    "tags": []
   },
   "outputs": [
    {
     "name": "stdout",
     "output_type": "stream",
     "text": [
      "XGBoost Classifier:\n",
      "Accuracy: 0.7985\n",
      "Recall: 0.7822\n",
      "Precision: 0.7117\n",
      "F1: 0.7453\n",
      "AUC: 0.7953\n"
     ]
    }
   ],
   "source": [
    "xgb_model = XGBClassifier()\n",
    "xgb_model.fit(X_train, y_train)\n",
    "xgb_pred = xgb_model.predict(X_test)\n",
    "\n",
    "print(\"XGBoost Classifier:\")\n",
    "print(f\"Accuracy: {round(accuracy_score(xgb_pred, y_test), 4)}\")\n",
    "print(f\"Recall: {round(recall_score(xgb_pred, y_test), 4)}\")\n",
    "print(f\"Precision: {round(precision_score(xgb_pred, y_test), 4)}\")\n",
    "print(f\"F1: {round(f1_score(xgb_pred, y_test), 4)}\")\n",
    "print(f\"AUC: {round(roc_auc_score(xgb_pred, y_test), 4)}\")"
   ]
  },
  {
   "cell_type": "markdown",
   "id": "e0ef7a92",
   "metadata": {
    "papermill": {
     "duration": 0.066718,
     "end_time": "2023-07-31T20:34:01.703978",
     "exception": false,
     "start_time": "2023-07-31T20:34:01.637260",
     "status": "completed"
    },
    "tags": []
   },
   "source": [
    "# 16.9.LightGBM Classifier"
   ]
  },
  {
   "cell_type": "code",
   "execution_count": 100,
   "id": "ae6e920e",
   "metadata": {
    "execution": {
     "iopub.execute_input": "2023-07-31T20:34:01.825476Z",
     "iopub.status.busy": "2023-07-31T20:34:01.825030Z",
     "iopub.status.idle": "2023-07-31T20:34:02.408053Z",
     "shell.execute_reply": "2023-07-31T20:34:02.406831Z"
    },
    "papermill": {
     "duration": 0.643772,
     "end_time": "2023-07-31T20:34:02.411136",
     "exception": false,
     "start_time": "2023-07-31T20:34:01.767364",
     "status": "completed"
    },
    "tags": []
   },
   "outputs": [
    {
     "name": "stdout",
     "output_type": "stream",
     "text": [
      "LightGBM Classifier:\n",
      "Accuracy: 0.8022\n",
      "Recall: 0.7843\n",
      "Precision: 0.7207\n",
      "F1: 0.7512\n",
      "AUC: 0.7988\n"
     ]
    }
   ],
   "source": [
    "lgbm_model = LGBMClassifier()\n",
    "lgbm_model.fit(X_train, y_train)\n",
    "lgbm_pred = lgbm_model.predict(X_test)\n",
    "\n",
    "print(\"LightGBM Classifier:\")\n",
    "print(f\"Accuracy: {round(accuracy_score(lgbm_pred, y_test), 4)}\")\n",
    "print(f\"Recall: {round(recall_score(lgbm_pred, y_test), 4)}\")\n",
    "print(f\"Precision: {round(precision_score(lgbm_pred, y_test), 4)}\")\n",
    "print(f\"F1: {round(f1_score(lgbm_pred, y_test), 4)}\")\n",
    "print(f\"AUC: {round(roc_auc_score(lgbm_pred, y_test), 4)}\")"
   ]
  },
  {
   "cell_type": "markdown",
   "id": "050c34bc",
   "metadata": {
    "papermill": {
     "duration": 0.057112,
     "end_time": "2023-07-31T20:34:02.526968",
     "exception": false,
     "start_time": "2023-07-31T20:34:02.469856",
     "status": "completed"
    },
    "tags": []
   },
   "source": [
    "# 16.10.Comparison of Metrics for Different Models"
   ]
  },
  {
   "cell_type": "code",
   "execution_count": 101,
   "id": "9182e6a7",
   "metadata": {
    "execution": {
     "iopub.execute_input": "2023-07-31T20:34:02.643817Z",
     "iopub.status.busy": "2023-07-31T20:34:02.642575Z",
     "iopub.status.idle": "2023-07-31T20:34:02.860762Z",
     "shell.execute_reply": "2023-07-31T20:34:02.859981Z"
    },
    "papermill": {
     "duration": 0.278982,
     "end_time": "2023-07-31T20:34:02.862947",
     "exception": false,
     "start_time": "2023-07-31T20:34:02.583965",
     "status": "completed"
    },
    "tags": []
   },
   "outputs": [
    {
     "data": {
      "text/html": [
       "        <script type=\"text/javascript\">\n",
       "        window.PlotlyConfig = {MathJaxConfig: 'local'};\n",
       "        if (window.MathJax && window.MathJax.Hub && window.MathJax.Hub.Config) {window.MathJax.Hub.Config({SVG: {font: \"STIX-Web\"}});}\n",
       "        if (typeof require !== 'undefined') {\n",
       "        require.undef(\"plotly\");\n",
       "        requirejs.config({\n",
       "            paths: {\n",
       "                'plotly': ['https://cdn.plot.ly/plotly-2.24.1.min']\n",
       "            }\n",
       "        });\n",
       "        require(['plotly'], function(Plotly) {\n",
       "            window._Plotly = Plotly;\n",
       "        });\n",
       "        }\n",
       "        </script>\n",
       "        "
      ]
     },
     "metadata": {},
     "output_type": "display_data"
    },
    {
     "data": {
      "text/html": [
       "<div>                            <div id=\"4b74ceb7-fbbb-40e9-99c3-54e64cc3286a\" class=\"plotly-graph-div\" style=\"height:525px; width:100%;\"></div>            <script type=\"text/javascript\">                require([\"plotly\"], function(Plotly) {                    window.PLOTLYENV=window.PLOTLYENV || {};                                    if (document.getElementById(\"4b74ceb7-fbbb-40e9-99c3-54e64cc3286a\")) {                    Plotly.newPlot(                        \"4b74ceb7-fbbb-40e9-99c3-54e64cc3286a\",                        [{\"marker\":{\"color\":\"purple\"},\"name\":\"Accuracy\",\"text\":[0.7879,0.7706,0.7706,0.7706,0.7619,0.7619,0.7532,0.7446,0.7186],\"textposition\":\"auto\",\"x\":[\"Logistic Regression\",\"Random Forest\",\"Gradient Boosting\",\"XGBoost\",\"KNN\",\"LightGBM\",\"AdaBoost\",\"SVC\",\"Decision Tree\"],\"y\":[0.7879,0.7706,0.7706,0.7706,0.7619,0.7619,0.7532,0.7446,0.7186],\"type\":\"bar\"},{\"marker\":{\"color\":\"green\"},\"name\":\"Recall\",\"text\":[0.7667,0.7059,0.7,0.7059,0.6711,0.6857,0.6765,0.6833,0.6053],\"textposition\":\"auto\",\"x\":[\"Logistic Regression\",\"Random Forest\",\"Gradient Boosting\",\"XGBoost\",\"KNN\",\"LightGBM\",\"AdaBoost\",\"SVC\",\"Decision Tree\"],\"y\":[0.7667,0.7059,0.7,0.7059,0.6711,0.6857,0.6765,0.6833,0.6053],\"type\":\"bar\"},{\"marker\":{\"color\":\"blue\"},\"name\":\"Precision\",\"text\":[0.5679,0.5926,0.6049,0.5926,0.6296,0.5926,0.5679,0.5062,0.5679],\"textposition\":\"auto\",\"x\":[\"Logistic Regression\",\"Random Forest\",\"Gradient Boosting\",\"XGBoost\",\"KNN\",\"LightGBM\",\"AdaBoost\",\"SVC\",\"Decision Tree\"],\"y\":[0.5679,0.5926,0.6049,0.5926,0.6296,0.5926,0.5679,0.5062,0.5679],\"type\":\"bar\"},{\"marker\":{\"color\":\"orange\"},\"name\":\"F1\",\"text\":[0.6525,0.6443,0.649,0.6443,0.6497,0.6358,0.6174,0.5816,0.586],\"textposition\":\"auto\",\"x\":[\"Logistic Regression\",\"Random Forest\",\"Gradient Boosting\",\"XGBoost\",\"KNN\",\"LightGBM\",\"AdaBoost\",\"SVC\",\"Decision Tree\"],\"y\":[0.6525,0.6443,0.649,0.6443,0.6497,0.6358,0.6174,0.5816,0.586],\"type\":\"bar\"},{\"marker\":{\"color\":\"red\"},\"name\":\"AUC\",\"text\":[0.781,0.7517,0.7506,0.7517,0.7388,0.7404,0.7309,0.7247,0.6897],\"textposition\":\"auto\",\"x\":[\"Logistic Regression\",\"Random Forest\",\"Gradient Boosting\",\"XGBoost\",\"KNN\",\"LightGBM\",\"AdaBoost\",\"SVC\",\"Decision Tree\"],\"y\":[0.781,0.7517,0.7506,0.7517,0.7388,0.7404,0.7309,0.7247,0.6897],\"type\":\"bar\"}],                        {\"template\":{\"data\":{\"histogram2dcontour\":[{\"type\":\"histogram2dcontour\",\"colorbar\":{\"outlinewidth\":0,\"ticks\":\"\"},\"colorscale\":[[0.0,\"#0d0887\"],[0.1111111111111111,\"#46039f\"],[0.2222222222222222,\"#7201a8\"],[0.3333333333333333,\"#9c179e\"],[0.4444444444444444,\"#bd3786\"],[0.5555555555555556,\"#d8576b\"],[0.6666666666666666,\"#ed7953\"],[0.7777777777777778,\"#fb9f3a\"],[0.8888888888888888,\"#fdca26\"],[1.0,\"#f0f921\"]]}],\"choropleth\":[{\"type\":\"choropleth\",\"colorbar\":{\"outlinewidth\":0,\"ticks\":\"\"}}],\"histogram2d\":[{\"type\":\"histogram2d\",\"colorbar\":{\"outlinewidth\":0,\"ticks\":\"\"},\"colorscale\":[[0.0,\"#0d0887\"],[0.1111111111111111,\"#46039f\"],[0.2222222222222222,\"#7201a8\"],[0.3333333333333333,\"#9c179e\"],[0.4444444444444444,\"#bd3786\"],[0.5555555555555556,\"#d8576b\"],[0.6666666666666666,\"#ed7953\"],[0.7777777777777778,\"#fb9f3a\"],[0.8888888888888888,\"#fdca26\"],[1.0,\"#f0f921\"]]}],\"heatmap\":[{\"type\":\"heatmap\",\"colorbar\":{\"outlinewidth\":0,\"ticks\":\"\"},\"colorscale\":[[0.0,\"#0d0887\"],[0.1111111111111111,\"#46039f\"],[0.2222222222222222,\"#7201a8\"],[0.3333333333333333,\"#9c179e\"],[0.4444444444444444,\"#bd3786\"],[0.5555555555555556,\"#d8576b\"],[0.6666666666666666,\"#ed7953\"],[0.7777777777777778,\"#fb9f3a\"],[0.8888888888888888,\"#fdca26\"],[1.0,\"#f0f921\"]]}],\"heatmapgl\":[{\"type\":\"heatmapgl\",\"colorbar\":{\"outlinewidth\":0,\"ticks\":\"\"},\"colorscale\":[[0.0,\"#0d0887\"],[0.1111111111111111,\"#46039f\"],[0.2222222222222222,\"#7201a8\"],[0.3333333333333333,\"#9c179e\"],[0.4444444444444444,\"#bd3786\"],[0.5555555555555556,\"#d8576b\"],[0.6666666666666666,\"#ed7953\"],[0.7777777777777778,\"#fb9f3a\"],[0.8888888888888888,\"#fdca26\"],[1.0,\"#f0f921\"]]}],\"contourcarpet\":[{\"type\":\"contourcarpet\",\"colorbar\":{\"outlinewidth\":0,\"ticks\":\"\"}}],\"contour\":[{\"type\":\"contour\",\"colorbar\":{\"outlinewidth\":0,\"ticks\":\"\"},\"colorscale\":[[0.0,\"#0d0887\"],[0.1111111111111111,\"#46039f\"],[0.2222222222222222,\"#7201a8\"],[0.3333333333333333,\"#9c179e\"],[0.4444444444444444,\"#bd3786\"],[0.5555555555555556,\"#d8576b\"],[0.6666666666666666,\"#ed7953\"],[0.7777777777777778,\"#fb9f3a\"],[0.8888888888888888,\"#fdca26\"],[1.0,\"#f0f921\"]]}],\"surface\":[{\"type\":\"surface\",\"colorbar\":{\"outlinewidth\":0,\"ticks\":\"\"},\"colorscale\":[[0.0,\"#0d0887\"],[0.1111111111111111,\"#46039f\"],[0.2222222222222222,\"#7201a8\"],[0.3333333333333333,\"#9c179e\"],[0.4444444444444444,\"#bd3786\"],[0.5555555555555556,\"#d8576b\"],[0.6666666666666666,\"#ed7953\"],[0.7777777777777778,\"#fb9f3a\"],[0.8888888888888888,\"#fdca26\"],[1.0,\"#f0f921\"]]}],\"mesh3d\":[{\"type\":\"mesh3d\",\"colorbar\":{\"outlinewidth\":0,\"ticks\":\"\"}}],\"scatter\":[{\"fillpattern\":{\"fillmode\":\"overlay\",\"size\":10,\"solidity\":0.2},\"type\":\"scatter\"}],\"parcoords\":[{\"type\":\"parcoords\",\"line\":{\"colorbar\":{\"outlinewidth\":0,\"ticks\":\"\"}}}],\"scatterpolargl\":[{\"type\":\"scatterpolargl\",\"marker\":{\"colorbar\":{\"outlinewidth\":0,\"ticks\":\"\"}}}],\"bar\":[{\"error_x\":{\"color\":\"#2a3f5f\"},\"error_y\":{\"color\":\"#2a3f5f\"},\"marker\":{\"line\":{\"color\":\"#E5ECF6\",\"width\":0.5},\"pattern\":{\"fillmode\":\"overlay\",\"size\":10,\"solidity\":0.2}},\"type\":\"bar\"}],\"scattergeo\":[{\"type\":\"scattergeo\",\"marker\":{\"colorbar\":{\"outlinewidth\":0,\"ticks\":\"\"}}}],\"scatterpolar\":[{\"type\":\"scatterpolar\",\"marker\":{\"colorbar\":{\"outlinewidth\":0,\"ticks\":\"\"}}}],\"histogram\":[{\"marker\":{\"pattern\":{\"fillmode\":\"overlay\",\"size\":10,\"solidity\":0.2}},\"type\":\"histogram\"}],\"scattergl\":[{\"type\":\"scattergl\",\"marker\":{\"colorbar\":{\"outlinewidth\":0,\"ticks\":\"\"}}}],\"scatter3d\":[{\"type\":\"scatter3d\",\"line\":{\"colorbar\":{\"outlinewidth\":0,\"ticks\":\"\"}},\"marker\":{\"colorbar\":{\"outlinewidth\":0,\"ticks\":\"\"}}}],\"scattermapbox\":[{\"type\":\"scattermapbox\",\"marker\":{\"colorbar\":{\"outlinewidth\":0,\"ticks\":\"\"}}}],\"scatterternary\":[{\"type\":\"scatterternary\",\"marker\":{\"colorbar\":{\"outlinewidth\":0,\"ticks\":\"\"}}}],\"scattercarpet\":[{\"type\":\"scattercarpet\",\"marker\":{\"colorbar\":{\"outlinewidth\":0,\"ticks\":\"\"}}}],\"carpet\":[{\"aaxis\":{\"endlinecolor\":\"#2a3f5f\",\"gridcolor\":\"white\",\"linecolor\":\"white\",\"minorgridcolor\":\"white\",\"startlinecolor\":\"#2a3f5f\"},\"baxis\":{\"endlinecolor\":\"#2a3f5f\",\"gridcolor\":\"white\",\"linecolor\":\"white\",\"minorgridcolor\":\"white\",\"startlinecolor\":\"#2a3f5f\"},\"type\":\"carpet\"}],\"table\":[{\"cells\":{\"fill\":{\"color\":\"#EBF0F8\"},\"line\":{\"color\":\"white\"}},\"header\":{\"fill\":{\"color\":\"#C8D4E3\"},\"line\":{\"color\":\"white\"}},\"type\":\"table\"}],\"barpolar\":[{\"marker\":{\"line\":{\"color\":\"#E5ECF6\",\"width\":0.5},\"pattern\":{\"fillmode\":\"overlay\",\"size\":10,\"solidity\":0.2}},\"type\":\"barpolar\"}],\"pie\":[{\"automargin\":true,\"type\":\"pie\"}]},\"layout\":{\"autotypenumbers\":\"strict\",\"colorway\":[\"#636efa\",\"#EF553B\",\"#00cc96\",\"#ab63fa\",\"#FFA15A\",\"#19d3f3\",\"#FF6692\",\"#B6E880\",\"#FF97FF\",\"#FECB52\"],\"font\":{\"color\":\"#2a3f5f\"},\"hovermode\":\"closest\",\"hoverlabel\":{\"align\":\"left\"},\"paper_bgcolor\":\"white\",\"plot_bgcolor\":\"#E5ECF6\",\"polar\":{\"bgcolor\":\"#E5ECF6\",\"angularaxis\":{\"gridcolor\":\"white\",\"linecolor\":\"white\",\"ticks\":\"\"},\"radialaxis\":{\"gridcolor\":\"white\",\"linecolor\":\"white\",\"ticks\":\"\"}},\"ternary\":{\"bgcolor\":\"#E5ECF6\",\"aaxis\":{\"gridcolor\":\"white\",\"linecolor\":\"white\",\"ticks\":\"\"},\"baxis\":{\"gridcolor\":\"white\",\"linecolor\":\"white\",\"ticks\":\"\"},\"caxis\":{\"gridcolor\":\"white\",\"linecolor\":\"white\",\"ticks\":\"\"}},\"coloraxis\":{\"colorbar\":{\"outlinewidth\":0,\"ticks\":\"\"}},\"colorscale\":{\"sequential\":[[0.0,\"#0d0887\"],[0.1111111111111111,\"#46039f\"],[0.2222222222222222,\"#7201a8\"],[0.3333333333333333,\"#9c179e\"],[0.4444444444444444,\"#bd3786\"],[0.5555555555555556,\"#d8576b\"],[0.6666666666666666,\"#ed7953\"],[0.7777777777777778,\"#fb9f3a\"],[0.8888888888888888,\"#fdca26\"],[1.0,\"#f0f921\"]],\"sequentialminus\":[[0.0,\"#0d0887\"],[0.1111111111111111,\"#46039f\"],[0.2222222222222222,\"#7201a8\"],[0.3333333333333333,\"#9c179e\"],[0.4444444444444444,\"#bd3786\"],[0.5555555555555556,\"#d8576b\"],[0.6666666666666666,\"#ed7953\"],[0.7777777777777778,\"#fb9f3a\"],[0.8888888888888888,\"#fdca26\"],[1.0,\"#f0f921\"]],\"diverging\":[[0,\"#8e0152\"],[0.1,\"#c51b7d\"],[0.2,\"#de77ae\"],[0.3,\"#f1b6da\"],[0.4,\"#fde0ef\"],[0.5,\"#f7f7f7\"],[0.6,\"#e6f5d0\"],[0.7,\"#b8e186\"],[0.8,\"#7fbc41\"],[0.9,\"#4d9221\"],[1,\"#276419\"]]},\"xaxis\":{\"gridcolor\":\"white\",\"linecolor\":\"white\",\"ticks\":\"\",\"title\":{\"standoff\":15},\"zerolinecolor\":\"white\",\"automargin\":true,\"zerolinewidth\":2},\"yaxis\":{\"gridcolor\":\"white\",\"linecolor\":\"white\",\"ticks\":\"\",\"title\":{\"standoff\":15},\"zerolinecolor\":\"white\",\"automargin\":true,\"zerolinewidth\":2},\"scene\":{\"xaxis\":{\"backgroundcolor\":\"#E5ECF6\",\"gridcolor\":\"white\",\"linecolor\":\"white\",\"showbackground\":true,\"ticks\":\"\",\"zerolinecolor\":\"white\",\"gridwidth\":2},\"yaxis\":{\"backgroundcolor\":\"#E5ECF6\",\"gridcolor\":\"white\",\"linecolor\":\"white\",\"showbackground\":true,\"ticks\":\"\",\"zerolinecolor\":\"white\",\"gridwidth\":2},\"zaxis\":{\"backgroundcolor\":\"#E5ECF6\",\"gridcolor\":\"white\",\"linecolor\":\"white\",\"showbackground\":true,\"ticks\":\"\",\"zerolinecolor\":\"white\",\"gridwidth\":2}},\"shapedefaults\":{\"line\":{\"color\":\"#2a3f5f\"}},\"annotationdefaults\":{\"arrowcolor\":\"#2a3f5f\",\"arrowhead\":0,\"arrowwidth\":1},\"geo\":{\"bgcolor\":\"white\",\"landcolor\":\"#E5ECF6\",\"subunitcolor\":\"white\",\"showland\":true,\"showlakes\":true,\"lakecolor\":\"white\"},\"title\":{\"x\":0.05},\"mapbox\":{\"style\":\"light\"}}},\"xaxis\":{\"title\":{\"text\":\"Model\"}},\"yaxis\":{\"title\":{\"text\":\"Metric Score\"}},\"title\":{\"text\":\"Comparison of Metrics for Different Models\"}},                        {\"responsive\": true}                    ).then(function(){\n",
       "                            \n",
       "var gd = document.getElementById('4b74ceb7-fbbb-40e9-99c3-54e64cc3286a');\n",
       "var x = new MutationObserver(function (mutations, observer) {{\n",
       "        var display = window.getComputedStyle(gd).display;\n",
       "        if (!display || display === 'none') {{\n",
       "            console.log([gd, 'removed!']);\n",
       "            Plotly.purge(gd);\n",
       "            observer.disconnect();\n",
       "        }}\n",
       "}});\n",
       "\n",
       "// Listen for the removal of the full notebook cells\n",
       "var notebookContainer = gd.closest('#notebook-container');\n",
       "if (notebookContainer) {{\n",
       "    x.observe(notebookContainer, {childList: true});\n",
       "}}\n",
       "\n",
       "// Listen for the clearing of the current output cell\n",
       "var outputEl = gd.closest('.output');\n",
       "if (outputEl) {{\n",
       "    x.observe(outputEl, {childList: true});\n",
       "}}\n",
       "\n",
       "                        })                };                });            </script>        </div>"
      ]
     },
     "metadata": {},
     "output_type": "display_data"
    }
   ],
   "source": [
    "# Dictionary containing the metric results\n",
    "metrics = {\n",
    "    \"Model\": [\"Random Forest\", \"Logistic Regression\", \"KNN\", \"SVC\", \"Decision Tree\", \"AdaBoost\", \"Gradient Boosting\", \"XGBoost\", \"LightGBM\"],\n",
    "    \"Accuracy\": [0.7706, 0.7879, 0.7619, 0.7446, 0.7186, 0.7532, 0.7706, 0.7706, 0.7619],\n",
    "    \"Recall\": [0.7059, 0.7667, 0.6711, 0.6833, 0.6053, 0.6765, 0.7, 0.7059, 0.6857],\n",
    "    \"Precision\": [0.5926, 0.5679, 0.6296, 0.5062, 0.5679, 0.5679, 0.6049, 0.5926, 0.5926],\n",
    "    \"F1\": [0.6443, 0.6525, 0.6497, 0.5816, 0.586, 0.6174, 0.649, 0.6443, 0.6358],\n",
    "    \"AUC\": [0.7517, 0.781, 0.7388, 0.7247, 0.6897, 0.7309, 0.7506, 0.7517, 0.7404]\n",
    "}\n",
    "\n",
    "# Creating a DataFrame from the metrics dictionary\n",
    "results_df = pd.DataFrame(metrics)\n",
    "\n",
    "# Sorting the DataFrame by accuracy in descending order\n",
    "results_df = results_df.sort_values(by=\"Accuracy\", ascending=False)\n",
    "\n",
    "# Creating the figure for the graph\n",
    "fig = go.Figure()\n",
    "\n",
    "# Colors for the metrics\n",
    "colors = [\"purple\", \"green\", \"blue\", \"orange\", \"red\"]\n",
    "\n",
    "# Adding traces for each metric in the specified order\n",
    "for metric, color in zip([\"Accuracy\", \"Recall\", \"Precision\", \"F1\", \"AUC\"], colors):\n",
    "    fig.add_trace(go.Bar(\n",
    "        x=results_df[\"Model\"],\n",
    "        y=results_df[metric],\n",
    "        marker_color=color,\n",
    "        name=metric,\n",
    "        text=results_df[metric],\n",
    "        textposition='auto'\n",
    "    ))\n",
    "\n",
    "# Setting axis labels and title\n",
    "fig.update_layout(\n",
    "    xaxis_title=\"Model\",\n",
    "    yaxis_title=\"Metric Score\",\n",
    "    title=\"Comparison of Metrics for Different Models\"\n",
    ")\n",
    "\n",
    "# Displaying the graph\n",
    "fig.show(block=True)"
   ]
  },
  {
   "cell_type": "markdown",
   "id": "ce627c12",
   "metadata": {
    "papermill": {
     "duration": 0.057453,
     "end_time": "2023-07-31T20:34:02.977994",
     "exception": false,
     "start_time": "2023-07-31T20:34:02.920541",
     "status": "completed"
    },
    "tags": []
   },
   "source": [
    "# 16.11.Plot Importance of Variables According to Base Model"
   ]
  },
  {
   "cell_type": "code",
   "execution_count": 102,
   "id": "d3eea699",
   "metadata": {
    "execution": {
     "iopub.execute_input": "2023-07-31T20:34:03.097656Z",
     "iopub.status.busy": "2023-07-31T20:34:03.097063Z",
     "iopub.status.idle": "2023-07-31T20:34:03.103929Z",
     "shell.execute_reply": "2023-07-31T20:34:03.103046Z"
    },
    "papermill": {
     "duration": 0.069124,
     "end_time": "2023-07-31T20:34:03.106111",
     "exception": false,
     "start_time": "2023-07-31T20:34:03.036987",
     "status": "completed"
    },
    "tags": []
   },
   "outputs": [],
   "source": [
    "def plot_importance(model, features, num=len(X), save=False):\n",
    "    feature_imp = pd.DataFrame({'Value': model.feature_importances_, 'Feature': features.columns})\n",
    "    plt.figure(figsize=(10, 10))\n",
    "    sns.set(font_scale=1)\n",
    "    sns.barplot(x=\"Value\", y=\"Feature\", data=feature_imp.sort_values(by=\"Value\", ascending=False)[0:num])\n",
    "    plt.title(f'Feature Importance - {model.__class__.__name__}')\n",
    "    plt.tight_layout()\n",
    "    plt.show(block=True)\n",
    "    if save:\n",
    "        plt.savefig('importances.png')"
   ]
  },
  {
   "cell_type": "code",
   "execution_count": 103,
   "id": "e1ef9d32",
   "metadata": {
    "execution": {
     "iopub.execute_input": "2023-07-31T20:34:03.222665Z",
     "iopub.status.busy": "2023-07-31T20:34:03.221990Z",
     "iopub.status.idle": "2023-07-31T20:34:03.226274Z",
     "shell.execute_reply": "2023-07-31T20:34:03.225472Z"
    },
    "papermill": {
     "duration": 0.064191,
     "end_time": "2023-07-31T20:34:03.228335",
     "exception": false,
     "start_time": "2023-07-31T20:34:03.164144",
     "status": "completed"
    },
    "tags": []
   },
   "outputs": [],
   "source": [
    "model_name = [rf_model, dt_model, xgb_model, lgbm_model]"
   ]
  },
  {
   "cell_type": "code",
   "execution_count": 104,
   "id": "1e99a72f",
   "metadata": {
    "execution": {
     "iopub.execute_input": "2023-07-31T20:34:03.345316Z",
     "iopub.status.busy": "2023-07-31T20:34:03.344649Z",
     "iopub.status.idle": "2023-07-31T20:34:07.583985Z",
     "shell.execute_reply": "2023-07-31T20:34:07.582649Z"
    },
    "papermill": {
     "duration": 4.301965,
     "end_time": "2023-07-31T20:34:07.587523",
     "exception": false,
     "start_time": "2023-07-31T20:34:03.285558",
     "status": "completed"
    },
    "tags": []
   },
   "outputs": [
    {
     "data": {
      "image/png": "[encoded data removed]",
      "text/plain": [
       "<Figure size 1000x1000 with 1 Axes>"
      ]
     },
     "metadata": {},
     "output_type": "display_data"
    },
    {
     "data": {
      "image/png": "[encoded data removed]",
      "text/plain": [
       "<Figure size 1000x1000 with 1 Axes>"
      ]
     },
     "metadata": {},
     "output_type": "display_data"
    },
    {
     "data": {
      "image/png": "[encoded data removed]",
      "text/plain": [
       "<Figure size 1000x1000 with 1 Axes>"
      ]
     },
     "metadata": {},
     "output_type": "display_data"
    },
    {
     "data": {
      "image/png": "[encoded data removed]",
      "text/plain": [
       "<Figure size 1000x1000 with 1 Axes>"
      ]
     },
     "metadata": {},
     "output_type": "display_data"
    }
   ],
   "source": [
    "for i in model_name:\n",
    "    plot_importance(i, X)"
   ]
  },
  {
   "cell_type": "markdown",
   "id": "4f88abaf",
   "metadata": {
    "papermill": {
     "duration": 0.067725,
     "end_time": "2023-07-31T20:34:07.720288",
     "exception": false,
     "start_time": "2023-07-31T20:34:07.652563",
     "status": "completed"
    },
    "tags": []
   },
   "source": [
    "# 17. Prediction"
   ]
  },
  {
   "cell_type": "code",
   "execution_count": 105,
   "id": "3427c594",
   "metadata": {
    "execution": {
     "iopub.execute_input": "2023-07-31T20:34:07.851516Z",
     "iopub.status.busy": "2023-07-31T20:34:07.851095Z",
     "iopub.status.idle": "2023-07-31T20:34:07.857369Z",
     "shell.execute_reply": "2023-07-31T20:34:07.856515Z"
    },
    "papermill": {
     "duration": 0.07511,
     "end_time": "2023-07-31T20:34:07.859475",
     "exception": false,
     "start_time": "2023-07-31T20:34:07.784365",
     "status": "completed"
    },
    "tags": []
   },
   "outputs": [],
   "source": [
    "test_1=test_1.drop(\"Survived\",axis=1)"
   ]
  },
  {
   "cell_type": "code",
   "execution_count": 106,
   "id": "d4595673",
   "metadata": {
    "execution": {
     "iopub.execute_input": "2023-07-31T20:34:07.989567Z",
     "iopub.status.busy": "2023-07-31T20:34:07.988905Z",
     "iopub.status.idle": "2023-07-31T20:34:08.020701Z",
     "shell.execute_reply": "2023-07-31T20:34:08.019352Z"
    },
    "papermill": {
     "duration": 0.099337,
     "end_time": "2023-07-31T20:34:08.023166",
     "exception": false,
     "start_time": "2023-07-31T20:34:07.923829",
     "status": "completed"
    },
    "tags": []
   },
   "outputs": [
    {
     "data": {
      "text/html": [
       "<div>\n",
       "<style scoped>\n",
       "    .dataframe tbody tr th:only-of-type {\n",
       "        vertical-align: middle;\n",
       "    }\n",
       "\n",
       "    .dataframe tbody tr th {\n",
       "        vertical-align: top;\n",
       "    }\n",
       "\n",
       "    .dataframe thead th {\n",
       "        text-align: right;\n",
       "    }\n",
       "</style>\n",
       "<table border=\"1\" class=\"dataframe\">\n",
       "  <thead>\n",
       "    <tr style=\"text-align: right;\">\n",
       "      <th></th>\n",
       "      <th>Sex</th>\n",
       "      <th>Age</th>\n",
       "      <th>Fare</th>\n",
       "      <th>Pclass_2</th>\n",
       "      <th>Pclass_3</th>\n",
       "      <th>SibSp_1</th>\n",
       "      <th>SibSp_2</th>\n",
       "      <th>SibSp_3</th>\n",
       "      <th>SibSp_4</th>\n",
       "      <th>SibSp_5</th>\n",
       "      <th>SibSp_8</th>\n",
       "      <th>Parch_1</th>\n",
       "      <th>Parch_2</th>\n",
       "      <th>Parch_3</th>\n",
       "      <th>Parch_4</th>\n",
       "      <th>Parch_5</th>\n",
       "      <th>Parch_6</th>\n",
       "      <th>Parch_9</th>\n",
       "      <th>TotalFamily_1</th>\n",
       "      <th>TotalFamily_2</th>\n",
       "      <th>TotalFamily_3</th>\n",
       "      <th>TotalFamily_4</th>\n",
       "      <th>TotalFamily_5</th>\n",
       "      <th>TotalFamily_6</th>\n",
       "      <th>TotalFamily_7</th>\n",
       "      <th>TotalFamily_10</th>\n",
       "      <th>Alone_True</th>\n",
       "      <th>AgeGroup_Child</th>\n",
       "      <th>AgeGroup_Adult</th>\n",
       "      <th>AgeGroup_Elderly</th>\n",
       "      <th>FareGroup_Medium</th>\n",
       "      <th>FareGroup_High</th>\n",
       "      <th>FareGroup_Very High</th>\n",
       "      <th>Embarked_Q</th>\n",
       "      <th>Embarked_S</th>\n",
       "    </tr>\n",
       "  </thead>\n",
       "  <tbody>\n",
       "    <tr>\n",
       "      <th>891</th>\n",
       "      <td>1</td>\n",
       "      <td>34.500</td>\n",
       "      <td>7.829</td>\n",
       "      <td>0</td>\n",
       "      <td>1</td>\n",
       "      <td>0</td>\n",
       "      <td>0</td>\n",
       "      <td>0</td>\n",
       "      <td>0</td>\n",
       "      <td>0</td>\n",
       "      <td>0</td>\n",
       "      <td>0</td>\n",
       "      <td>0</td>\n",
       "      <td>0</td>\n",
       "      <td>0</td>\n",
       "      <td>0</td>\n",
       "      <td>0</td>\n",
       "      <td>0</td>\n",
       "      <td>0</td>\n",
       "      <td>0</td>\n",
       "      <td>0</td>\n",
       "      <td>0</td>\n",
       "      <td>0</td>\n",
       "      <td>0</td>\n",
       "      <td>0</td>\n",
       "      <td>0</td>\n",
       "      <td>1</td>\n",
       "      <td>0</td>\n",
       "      <td>1</td>\n",
       "      <td>0</td>\n",
       "      <td>0</td>\n",
       "      <td>0</td>\n",
       "      <td>0</td>\n",
       "      <td>1</td>\n",
       "      <td>0</td>\n",
       "    </tr>\n",
       "    <tr>\n",
       "      <th>892</th>\n",
       "      <td>0</td>\n",
       "      <td>47.000</td>\n",
       "      <td>7.000</td>\n",
       "      <td>0</td>\n",
       "      <td>1</td>\n",
       "      <td>1</td>\n",
       "      <td>0</td>\n",
       "      <td>0</td>\n",
       "      <td>0</td>\n",
       "      <td>0</td>\n",
       "      <td>0</td>\n",
       "      <td>0</td>\n",
       "      <td>0</td>\n",
       "      <td>0</td>\n",
       "      <td>0</td>\n",
       "      <td>0</td>\n",
       "      <td>0</td>\n",
       "      <td>0</td>\n",
       "      <td>1</td>\n",
       "      <td>0</td>\n",
       "      <td>0</td>\n",
       "      <td>0</td>\n",
       "      <td>0</td>\n",
       "      <td>0</td>\n",
       "      <td>0</td>\n",
       "      <td>0</td>\n",
       "      <td>0</td>\n",
       "      <td>0</td>\n",
       "      <td>1</td>\n",
       "      <td>0</td>\n",
       "      <td>0</td>\n",
       "      <td>0</td>\n",
       "      <td>0</td>\n",
       "      <td>0</td>\n",
       "      <td>1</td>\n",
       "    </tr>\n",
       "    <tr>\n",
       "      <th>893</th>\n",
       "      <td>1</td>\n",
       "      <td>62.000</td>\n",
       "      <td>9.688</td>\n",
       "      <td>1</td>\n",
       "      <td>0</td>\n",
       "      <td>0</td>\n",
       "      <td>0</td>\n",
       "      <td>0</td>\n",
       "      <td>0</td>\n",
       "      <td>0</td>\n",
       "      <td>0</td>\n",
       "      <td>0</td>\n",
       "      <td>0</td>\n",
       "      <td>0</td>\n",
       "      <td>0</td>\n",
       "      <td>0</td>\n",
       "      <td>0</td>\n",
       "      <td>0</td>\n",
       "      <td>0</td>\n",
       "      <td>0</td>\n",
       "      <td>0</td>\n",
       "      <td>0</td>\n",
       "      <td>0</td>\n",
       "      <td>0</td>\n",
       "      <td>0</td>\n",
       "      <td>0</td>\n",
       "      <td>1</td>\n",
       "      <td>0</td>\n",
       "      <td>1</td>\n",
       "      <td>0</td>\n",
       "      <td>0</td>\n",
       "      <td>0</td>\n",
       "      <td>0</td>\n",
       "      <td>1</td>\n",
       "      <td>0</td>\n",
       "    </tr>\n",
       "    <tr>\n",
       "      <th>894</th>\n",
       "      <td>1</td>\n",
       "      <td>27.000</td>\n",
       "      <td>8.662</td>\n",
       "      <td>0</td>\n",
       "      <td>1</td>\n",
       "      <td>0</td>\n",
       "      <td>0</td>\n",
       "      <td>0</td>\n",
       "      <td>0</td>\n",
       "      <td>0</td>\n",
       "      <td>0</td>\n",
       "      <td>0</td>\n",
       "      <td>0</td>\n",
       "      <td>0</td>\n",
       "      <td>0</td>\n",
       "      <td>0</td>\n",
       "      <td>0</td>\n",
       "      <td>0</td>\n",
       "      <td>0</td>\n",
       "      <td>0</td>\n",
       "      <td>0</td>\n",
       "      <td>0</td>\n",
       "      <td>0</td>\n",
       "      <td>0</td>\n",
       "      <td>0</td>\n",
       "      <td>0</td>\n",
       "      <td>1</td>\n",
       "      <td>0</td>\n",
       "      <td>1</td>\n",
       "      <td>0</td>\n",
       "      <td>0</td>\n",
       "      <td>0</td>\n",
       "      <td>0</td>\n",
       "      <td>0</td>\n",
       "      <td>1</td>\n",
       "    </tr>\n",
       "    <tr>\n",
       "      <th>895</th>\n",
       "      <td>0</td>\n",
       "      <td>22.000</td>\n",
       "      <td>12.287</td>\n",
       "      <td>0</td>\n",
       "      <td>1</td>\n",
       "      <td>1</td>\n",
       "      <td>0</td>\n",
       "      <td>0</td>\n",
       "      <td>0</td>\n",
       "      <td>0</td>\n",
       "      <td>0</td>\n",
       "      <td>1</td>\n",
       "      <td>0</td>\n",
       "      <td>0</td>\n",
       "      <td>0</td>\n",
       "      <td>0</td>\n",
       "      <td>0</td>\n",
       "      <td>0</td>\n",
       "      <td>0</td>\n",
       "      <td>1</td>\n",
       "      <td>0</td>\n",
       "      <td>0</td>\n",
       "      <td>0</td>\n",
       "      <td>0</td>\n",
       "      <td>0</td>\n",
       "      <td>0</td>\n",
       "      <td>0</td>\n",
       "      <td>0</td>\n",
       "      <td>1</td>\n",
       "      <td>0</td>\n",
       "      <td>0</td>\n",
       "      <td>0</td>\n",
       "      <td>0</td>\n",
       "      <td>0</td>\n",
       "      <td>1</td>\n",
       "    </tr>\n",
       "    <tr>\n",
       "      <th>...</th>\n",
       "      <td>...</td>\n",
       "      <td>...</td>\n",
       "      <td>...</td>\n",
       "      <td>...</td>\n",
       "      <td>...</td>\n",
       "      <td>...</td>\n",
       "      <td>...</td>\n",
       "      <td>...</td>\n",
       "      <td>...</td>\n",
       "      <td>...</td>\n",
       "      <td>...</td>\n",
       "      <td>...</td>\n",
       "      <td>...</td>\n",
       "      <td>...</td>\n",
       "      <td>...</td>\n",
       "      <td>...</td>\n",
       "      <td>...</td>\n",
       "      <td>...</td>\n",
       "      <td>...</td>\n",
       "      <td>...</td>\n",
       "      <td>...</td>\n",
       "      <td>...</td>\n",
       "      <td>...</td>\n",
       "      <td>...</td>\n",
       "      <td>...</td>\n",
       "      <td>...</td>\n",
       "      <td>...</td>\n",
       "      <td>...</td>\n",
       "      <td>...</td>\n",
       "      <td>...</td>\n",
       "      <td>...</td>\n",
       "      <td>...</td>\n",
       "      <td>...</td>\n",
       "      <td>...</td>\n",
       "      <td>...</td>\n",
       "    </tr>\n",
       "    <tr>\n",
       "      <th>1304</th>\n",
       "      <td>1</td>\n",
       "      <td>28.000</td>\n",
       "      <td>8.050</td>\n",
       "      <td>0</td>\n",
       "      <td>1</td>\n",
       "      <td>0</td>\n",
       "      <td>0</td>\n",
       "      <td>0</td>\n",
       "      <td>0</td>\n",
       "      <td>0</td>\n",
       "      <td>0</td>\n",
       "      <td>0</td>\n",
       "      <td>0</td>\n",
       "      <td>0</td>\n",
       "      <td>0</td>\n",
       "      <td>0</td>\n",
       "      <td>0</td>\n",
       "      <td>0</td>\n",
       "      <td>0</td>\n",
       "      <td>0</td>\n",
       "      <td>0</td>\n",
       "      <td>0</td>\n",
       "      <td>0</td>\n",
       "      <td>0</td>\n",
       "      <td>0</td>\n",
       "      <td>0</td>\n",
       "      <td>1</td>\n",
       "      <td>0</td>\n",
       "      <td>1</td>\n",
       "      <td>0</td>\n",
       "      <td>0</td>\n",
       "      <td>0</td>\n",
       "      <td>0</td>\n",
       "      <td>0</td>\n",
       "      <td>1</td>\n",
       "    </tr>\n",
       "    <tr>\n",
       "      <th>1305</th>\n",
       "      <td>0</td>\n",
       "      <td>39.000</td>\n",
       "      <td>108.900</td>\n",
       "      <td>0</td>\n",
       "      <td>0</td>\n",
       "      <td>0</td>\n",
       "      <td>0</td>\n",
       "      <td>0</td>\n",
       "      <td>0</td>\n",
       "      <td>0</td>\n",
       "      <td>0</td>\n",
       "      <td>0</td>\n",
       "      <td>0</td>\n",
       "      <td>0</td>\n",
       "      <td>0</td>\n",
       "      <td>0</td>\n",
       "      <td>0</td>\n",
       "      <td>0</td>\n",
       "      <td>0</td>\n",
       "      <td>0</td>\n",
       "      <td>0</td>\n",
       "      <td>0</td>\n",
       "      <td>0</td>\n",
       "      <td>0</td>\n",
       "      <td>0</td>\n",
       "      <td>0</td>\n",
       "      <td>1</td>\n",
       "      <td>0</td>\n",
       "      <td>1</td>\n",
       "      <td>0</td>\n",
       "      <td>0</td>\n",
       "      <td>0</td>\n",
       "      <td>0</td>\n",
       "      <td>0</td>\n",
       "      <td>0</td>\n",
       "    </tr>\n",
       "    <tr>\n",
       "      <th>1306</th>\n",
       "      <td>1</td>\n",
       "      <td>38.500</td>\n",
       "      <td>7.250</td>\n",
       "      <td>0</td>\n",
       "      <td>1</td>\n",
       "      <td>0</td>\n",
       "      <td>0</td>\n",
       "      <td>0</td>\n",
       "      <td>0</td>\n",
       "      <td>0</td>\n",
       "      <td>0</td>\n",
       "      <td>0</td>\n",
       "      <td>0</td>\n",
       "      <td>0</td>\n",
       "      <td>0</td>\n",
       "      <td>0</td>\n",
       "      <td>0</td>\n",
       "      <td>0</td>\n",
       "      <td>0</td>\n",
       "      <td>0</td>\n",
       "      <td>0</td>\n",
       "      <td>0</td>\n",
       "      <td>0</td>\n",
       "      <td>0</td>\n",
       "      <td>0</td>\n",
       "      <td>0</td>\n",
       "      <td>1</td>\n",
       "      <td>0</td>\n",
       "      <td>1</td>\n",
       "      <td>0</td>\n",
       "      <td>0</td>\n",
       "      <td>0</td>\n",
       "      <td>0</td>\n",
       "      <td>0</td>\n",
       "      <td>1</td>\n",
       "    </tr>\n",
       "    <tr>\n",
       "      <th>1307</th>\n",
       "      <td>1</td>\n",
       "      <td>28.000</td>\n",
       "      <td>8.050</td>\n",
       "      <td>0</td>\n",
       "      <td>1</td>\n",
       "      <td>0</td>\n",
       "      <td>0</td>\n",
       "      <td>0</td>\n",
       "      <td>0</td>\n",
       "      <td>0</td>\n",
       "      <td>0</td>\n",
       "      <td>0</td>\n",
       "      <td>0</td>\n",
       "      <td>0</td>\n",
       "      <td>0</td>\n",
       "      <td>0</td>\n",
       "      <td>0</td>\n",
       "      <td>0</td>\n",
       "      <td>0</td>\n",
       "      <td>0</td>\n",
       "      <td>0</td>\n",
       "      <td>0</td>\n",
       "      <td>0</td>\n",
       "      <td>0</td>\n",
       "      <td>0</td>\n",
       "      <td>0</td>\n",
       "      <td>1</td>\n",
       "      <td>0</td>\n",
       "      <td>1</td>\n",
       "      <td>0</td>\n",
       "      <td>0</td>\n",
       "      <td>0</td>\n",
       "      <td>0</td>\n",
       "      <td>0</td>\n",
       "      <td>1</td>\n",
       "    </tr>\n",
       "    <tr>\n",
       "      <th>1308</th>\n",
       "      <td>1</td>\n",
       "      <td>28.000</td>\n",
       "      <td>22.358</td>\n",
       "      <td>0</td>\n",
       "      <td>1</td>\n",
       "      <td>1</td>\n",
       "      <td>0</td>\n",
       "      <td>0</td>\n",
       "      <td>0</td>\n",
       "      <td>0</td>\n",
       "      <td>0</td>\n",
       "      <td>1</td>\n",
       "      <td>0</td>\n",
       "      <td>0</td>\n",
       "      <td>0</td>\n",
       "      <td>0</td>\n",
       "      <td>0</td>\n",
       "      <td>0</td>\n",
       "      <td>0</td>\n",
       "      <td>1</td>\n",
       "      <td>0</td>\n",
       "      <td>0</td>\n",
       "      <td>0</td>\n",
       "      <td>0</td>\n",
       "      <td>0</td>\n",
       "      <td>0</td>\n",
       "      <td>0</td>\n",
       "      <td>0</td>\n",
       "      <td>1</td>\n",
       "      <td>0</td>\n",
       "      <td>0</td>\n",
       "      <td>0</td>\n",
       "      <td>0</td>\n",
       "      <td>0</td>\n",
       "      <td>0</td>\n",
       "    </tr>\n",
       "  </tbody>\n",
       "</table>\n",
       "<p>418 rows × 35 columns</p>\n",
       "</div>"
      ],
      "text/plain": [
       "      Sex    Age    Fare  Pclass_2  Pclass_3  SibSp_1  SibSp_2  SibSp_3  \\\n",
       "891     1 34.500   7.829         0         1        0        0        0   \n",
       "892     0 47.000   7.000         0         1        1        0        0   \n",
       "893     1 62.000   9.688         1         0        0        0        0   \n",
       "894     1 27.000   8.662         0         1        0        0        0   \n",
       "895     0 22.000  12.287         0         1        1        0        0   \n",
       "...   ...    ...     ...       ...       ...      ...      ...      ...   \n",
       "1304    1 28.000   8.050         0         1        0        0        0   \n",
       "1305    0 39.000 108.900         0         0        0        0        0   \n",
       "1306    1 38.500   7.250         0         1        0        0        0   \n",
       "1307    1 28.000   8.050         0         1        0        0        0   \n",
       "1308    1 28.000  22.358         0         1        1        0        0   \n",
       "\n",
       "      SibSp_4  SibSp_5  SibSp_8  Parch_1  Parch_2  Parch_3  Parch_4  Parch_5  \\\n",
       "891         0        0        0        0        0        0        0        0   \n",
       "892         0        0        0        0        0        0        0        0   \n",
       "893         0        0        0        0        0        0        0        0   \n",
       "894         0        0        0        0        0        0        0        0   \n",
       "895         0        0        0        1        0        0        0        0   \n",
       "...       ...      ...      ...      ...      ...      ...      ...      ...   \n",
       "1304        0        0        0        0        0        0        0        0   \n",
       "1305        0        0        0        0        0        0        0        0   \n",
       "1306        0        0        0        0        0        0        0        0   \n",
       "1307        0        0        0        0        0        0        0        0   \n",
       "1308        0        0        0        1        0        0        0        0   \n",
       "\n",
       "      Parch_6  Parch_9  TotalFamily_1  TotalFamily_2  TotalFamily_3  \\\n",
       "891         0        0              0              0              0   \n",
       "892         0        0              1              0              0   \n",
       "893         0        0              0              0              0   \n",
       "894         0        0              0              0              0   \n",
       "895         0        0              0              1              0   \n",
       "...       ...      ...            ...            ...            ...   \n",
       "1304        0        0              0              0              0   \n",
       "1305        0        0              0              0              0   \n",
       "1306        0        0              0              0              0   \n",
       "1307        0        0              0              0              0   \n",
       "1308        0        0              0              1              0   \n",
       "\n",
       "      TotalFamily_4  TotalFamily_5  TotalFamily_6  TotalFamily_7  \\\n",
       "891               0              0              0              0   \n",
       "892               0              0              0              0   \n",
       "893               0              0              0              0   \n",
       "894               0              0              0              0   \n",
       "895               0              0              0              0   \n",
       "...             ...            ...            ...            ...   \n",
       "1304              0              0              0              0   \n",
       "1305              0              0              0              0   \n",
       "1306              0              0              0              0   \n",
       "1307              0              0              0              0   \n",
       "1308              0              0              0              0   \n",
       "\n",
       "      TotalFamily_10  Alone_True  AgeGroup_Child  AgeGroup_Adult  \\\n",
       "891                0           1               0               1   \n",
       "892                0           0               0               1   \n",
       "893                0           1               0               1   \n",
       "894                0           1               0               1   \n",
       "895                0           0               0               1   \n",
       "...              ...         ...             ...             ...   \n",
       "1304               0           1               0               1   \n",
       "1305               0           1               0               1   \n",
       "1306               0           1               0               1   \n",
       "1307               0           1               0               1   \n",
       "1308               0           0               0               1   \n",
       "\n",
       "      AgeGroup_Elderly  FareGroup_Medium  FareGroup_High  FareGroup_Very High  \\\n",
       "891                  0                 0               0                    0   \n",
       "892                  0                 0               0                    0   \n",
       "893                  0                 0               0                    0   \n",
       "894                  0                 0               0                    0   \n",
       "895                  0                 0               0                    0   \n",
       "...                ...               ...             ...                  ...   \n",
       "1304                 0                 0               0                    0   \n",
       "1305                 0                 0               0                    0   \n",
       "1306                 0                 0               0                    0   \n",
       "1307                 0                 0               0                    0   \n",
       "1308                 0                 0               0                    0   \n",
       "\n",
       "      Embarked_Q  Embarked_S  \n",
       "891            1           0  \n",
       "892            0           1  \n",
       "893            1           0  \n",
       "894            0           1  \n",
       "895            0           1  \n",
       "...          ...         ...  \n",
       "1304           0           1  \n",
       "1305           0           0  \n",
       "1306           0           1  \n",
       "1307           0           1  \n",
       "1308           0           0  \n",
       "\n",
       "[418 rows x 35 columns]"
      ]
     },
     "execution_count": 106,
     "metadata": {},
     "output_type": "execute_result"
    }
   ],
   "source": [
    "test_1"
   ]
  },
  {
   "cell_type": "code",
   "execution_count": 107,
   "id": "284f1de3",
   "metadata": {
    "execution": {
     "iopub.execute_input": "2023-07-31T20:34:08.156244Z",
     "iopub.status.busy": "2023-07-31T20:34:08.155819Z",
     "iopub.status.idle": "2023-07-31T20:34:08.164523Z",
     "shell.execute_reply": "2023-07-31T20:34:08.163299Z"
    },
    "papermill": {
     "duration": 0.085234,
     "end_time": "2023-07-31T20:34:08.172790",
     "exception": false,
     "start_time": "2023-07-31T20:34:08.087556",
     "status": "completed"
    },
    "tags": []
   },
   "outputs": [],
   "source": [
    "Sub = model.predict(test_1)"
   ]
  },
  {
   "cell_type": "code",
   "execution_count": 108,
   "id": "be239a9a",
   "metadata": {
    "execution": {
     "iopub.execute_input": "2023-07-31T20:34:08.359950Z",
     "iopub.status.busy": "2023-07-31T20:34:08.359485Z",
     "iopub.status.idle": "2023-07-31T20:34:08.371544Z",
     "shell.execute_reply": "2023-07-31T20:34:08.370386Z"
    },
    "papermill": {
     "duration": 0.078363,
     "end_time": "2023-07-31T20:34:08.374078",
     "exception": false,
     "start_time": "2023-07-31T20:34:08.295715",
     "status": "completed"
    },
    "tags": []
   },
   "outputs": [
    {
     "data": {
      "text/plain": [
       "array([0., 0., 0., 0., 1., 0., 1., 0., 1., 0., 0., 0., 1., 0., 1., 1., 0.,\n",
       "       0., 1., 1., 0., 0., 1., 0., 1., 0., 1., 0., 0., 0., 0., 0., 1., 1.,\n",
       "       0., 0., 1., 1., 0., 0., 0., 0., 0., 1., 1., 0., 0., 0., 1., 1., 0.,\n",
       "       0., 1., 1., 0., 0., 0., 0., 0., 1., 0., 0., 0., 1., 1., 1., 1., 0.,\n",
       "       0., 1., 1., 0., 1., 0., 1., 0., 0., 1., 0., 1., 0., 0., 0., 0., 0.,\n",
       "       0., 1., 1., 1., 1., 1., 0., 1., 0., 0., 0., 1., 0., 1., 0., 1., 0.,\n",
       "       0., 0., 1., 0., 0., 0., 0., 0., 0., 1., 1., 1., 1., 0., 0., 1., 0.,\n",
       "       1., 1., 0., 1., 0., 0., 1., 0., 1., 0., 0., 0., 0., 0., 0., 0., 0.,\n",
       "       0., 0., 1., 0., 0., 1., 0., 0., 0., 0., 0., 0., 0., 0., 1., 0., 0.,\n",
       "       1., 0., 0., 1., 1., 0., 1., 1., 0., 1., 0., 0., 1., 0., 0., 1., 1.,\n",
       "       0., 0., 0., 0., 0., 1., 1., 0., 1., 1., 0., 1., 1., 0., 1., 0., 1.,\n",
       "       0., 0., 0., 0., 0., 0., 0., 0., 0., 1., 1., 0., 1., 1., 0., 0., 1.,\n",
       "       0., 0., 1., 0., 1., 0., 0., 0., 0., 1., 0., 0., 1., 0., 1., 0., 1.,\n",
       "       0., 1., 0., 1., 1., 0., 1., 0., 0., 0., 1., 0., 0., 0., 0., 0., 0.,\n",
       "       1., 1., 1., 1., 0., 0., 0., 0., 1., 0., 1., 1., 1., 0., 0., 0., 0.,\n",
       "       0., 0., 0., 1., 0., 0., 0., 1., 1., 0., 0., 0., 0., 1., 0., 0., 0.,\n",
       "       1., 1., 0., 1., 0., 0., 0., 0., 1., 0., 1., 1., 1., 0., 0., 0., 0.,\n",
       "       0., 0., 1., 0., 0., 0., 0., 1., 0., 0., 0., 0., 0., 0., 0., 1., 1.,\n",
       "       1., 0., 0., 0., 0., 0., 0., 1., 1., 1., 0., 0., 0., 0., 0., 0., 0.,\n",
       "       0., 1., 0., 1., 0., 0., 0., 1., 0., 0., 1., 0., 0., 0., 0., 0., 0.,\n",
       "       0., 0., 0., 1., 0., 1., 0., 1., 0., 1., 1., 0., 0., 0., 1., 0., 1.,\n",
       "       0., 0., 1., 0., 1., 1., 0., 1., 0., 0., 1., 1., 0., 0., 1., 0., 0.,\n",
       "       1., 1., 1., 0., 0., 0., 0., 0., 1., 1., 0., 1., 0., 0., 0., 0., 0.,\n",
       "       1., 0., 0., 0., 1., 0., 1., 0., 0., 1., 0., 1., 0., 0., 0., 0., 1.,\n",
       "       1., 1., 1., 1., 1., 0., 1., 0., 0., 0.])"
      ]
     },
     "execution_count": 108,
     "metadata": {},
     "output_type": "execute_result"
    }
   ],
   "source": [
    "Sub"
   ]
  },
  {
   "cell_type": "code",
   "execution_count": 109,
   "id": "f182613a",
   "metadata": {
    "execution": {
     "iopub.execute_input": "2023-07-31T20:34:08.506069Z",
     "iopub.status.busy": "2023-07-31T20:34:08.504733Z",
     "iopub.status.idle": "2023-07-31T20:34:08.516881Z",
     "shell.execute_reply": "2023-07-31T20:34:08.515826Z"
    },
    "papermill": {
     "duration": 0.080061,
     "end_time": "2023-07-31T20:34:08.519147",
     "exception": false,
     "start_time": "2023-07-31T20:34:08.439086",
     "status": "completed"
    },
    "tags": []
   },
   "outputs": [
    {
     "data": {
      "text/html": [
       "<div>\n",
       "<style scoped>\n",
       "    .dataframe tbody tr th:only-of-type {\n",
       "        vertical-align: middle;\n",
       "    }\n",
       "\n",
       "    .dataframe tbody tr th {\n",
       "        vertical-align: top;\n",
       "    }\n",
       "\n",
       "    .dataframe thead th {\n",
       "        text-align: right;\n",
       "    }\n",
       "</style>\n",
       "<table border=\"1\" class=\"dataframe\">\n",
       "  <thead>\n",
       "    <tr style=\"text-align: right;\">\n",
       "      <th></th>\n",
       "      <th>PassengerId</th>\n",
       "      <th>Survived</th>\n",
       "    </tr>\n",
       "  </thead>\n",
       "  <tbody>\n",
       "    <tr>\n",
       "      <th>0</th>\n",
       "      <td>892</td>\n",
       "      <td>0.000</td>\n",
       "    </tr>\n",
       "    <tr>\n",
       "      <th>1</th>\n",
       "      <td>893</td>\n",
       "      <td>0.000</td>\n",
       "    </tr>\n",
       "    <tr>\n",
       "      <th>2</th>\n",
       "      <td>894</td>\n",
       "      <td>0.000</td>\n",
       "    </tr>\n",
       "    <tr>\n",
       "      <th>3</th>\n",
       "      <td>895</td>\n",
       "      <td>0.000</td>\n",
       "    </tr>\n",
       "    <tr>\n",
       "      <th>4</th>\n",
       "      <td>896</td>\n",
       "      <td>1.000</td>\n",
       "    </tr>\n",
       "  </tbody>\n",
       "</table>\n",
       "</div>"
      ],
      "text/plain": [
       "   PassengerId  Survived\n",
       "0          892     0.000\n",
       "1          893     0.000\n",
       "2          894     0.000\n",
       "3          895     0.000\n",
       "4          896     1.000"
      ]
     },
     "execution_count": 109,
     "metadata": {},
     "output_type": "execute_result"
    }
   ],
   "source": [
    "submission = pd.DataFrame({\n",
    "        \"PassengerId\": sub_id,\n",
    "        \"Survived\": Sub\n",
    "    })\n",
    "\n",
    "submission.head()"
   ]
  },
  {
   "cell_type": "code",
   "execution_count": 110,
   "id": "3619e303",
   "metadata": {
    "execution": {
     "iopub.execute_input": "2023-07-31T20:34:08.651597Z",
     "iopub.status.busy": "2023-07-31T20:34:08.650233Z",
     "iopub.status.idle": "2023-07-31T20:34:08.660990Z",
     "shell.execute_reply": "2023-07-31T20:34:08.660043Z"
    },
    "papermill": {
     "duration": 0.079267,
     "end_time": "2023-07-31T20:34:08.663592",
     "exception": false,
     "start_time": "2023-07-31T20:34:08.584325",
     "status": "completed"
    },
    "tags": []
   },
   "outputs": [],
   "source": [
    "submission.to_csv('submission.csv',index=False)"
   ]
  }
 ],
 "metadata": {
  "kernelspec": {
   "display_name": "Python 3",
   "language": "python",
   "name": "python3"
  },
  "language_info": {
   "codemirror_mode": {
    "name": "ipython",
    "version": 3
   },
   "file_extension": ".py",
   "mimetype": "text/x-python",
   "name": "python",
   "nbconvert_exporter": "python",
   "pygments_lexer": "ipython3",
   "version": "3.10.12"
  },
  "papermill": {
   "default_parameters": {},
   "duration": 47.67322,
   "end_time": "2023-07-31T20:34:10.458006",
   "environment_variables": {},
   "exception": null,
   "input_path": "__notebook__.ipynb",
   "output_path": "__notebook__.ipynb",
   "parameters": {},
   "start_time": "2023-07-31T20:33:22.784786",
   "version": "2.4.0"
  }
 },
 "nbformat": 4,
 "nbformat_minor": 5
}
